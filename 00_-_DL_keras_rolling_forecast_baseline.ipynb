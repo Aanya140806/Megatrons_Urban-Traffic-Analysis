{
 "cells": [
  {
   "cell_type": "code",
   "execution_count": 1,
   "metadata": {
    "ExecuteTime": {
     "end_time": "2017-11-18T15:18:46.053547Z",
     "start_time": "2017-11-18T15:18:44.054463Z"
    }
   },
   "outputs": [
    {
     "name": "stderr",
     "output_type": "stream",
     "text": [
      "Using TensorFlow backend.\n"
     ]
    }
   ],
   "source": [
    "import numpy as np\n",
    "import pandas as pd\n",
    "import matplotlib.pyplot as plt\n",
    "\n",
    "from keras.layers.core import Dense, Activation, Dropout\n",
    "from keras.layers.recurrent import LSTM\n",
    "from keras.models import Sequential\n",
    "from keras.initializers import he_normal\n",
    "%matplotlib inline\n",
    "\n",
    "# Display only top 5 and bottom 5 rows\n",
    "pd.set_option('display.max_rows', 10)"
   ]
  },
  {
   "cell_type": "code",
   "execution_count": 2,
   "metadata": {
    "ExecuteTime": {
     "end_time": "2017-11-18T15:18:46.057803Z",
     "start_time": "2017-11-18T15:18:46.054759Z"
    },
    "collapsed": true
   },
   "outputs": [],
   "source": [
    "# Set random seed for reproducibility\n",
    "# Note: CuDNN is usually non-deterministic\n",
    "# (can't determine which of the ~3000 threads finish earlier)\n",
    "# And floating points reduction is not perfectly associative due to ULP rounding\n",
    "import numpy as np\n",
    "np.random.seed(1337)\n",
    "import tensorflow as tf\n",
    "tf.set_random_seed(1337)"
   ]
  },
  {
   "cell_type": "code",
   "execution_count": 3,
   "metadata": {
    "ExecuteTime": {
     "end_time": "2017-11-18T15:18:46.111991Z",
     "start_time": "2017-11-18T15:18:46.059163Z"
    }
   },
   "outputs": [
    {
     "data": {
      "text/html": [
       "<div>\n",
       "<style scoped>\n",
       "    .dataframe tbody tr th:only-of-type {\n",
       "        vertical-align: middle;\n",
       "    }\n",
       "\n",
       "    .dataframe tbody tr th {\n",
       "        vertical-align: top;\n",
       "    }\n",
       "\n",
       "    .dataframe thead th {\n",
       "        text-align: right;\n",
       "    }\n",
       "</style>\n",
       "<table border=\"1\" class=\"dataframe\">\n",
       "  <thead>\n",
       "    <tr style=\"text-align: right;\">\n",
       "      <th></th>\n",
       "      <th>DateTime</th>\n",
       "      <th>Junction</th>\n",
       "      <th>Vehicles</th>\n",
       "      <th>ID</th>\n",
       "    </tr>\n",
       "  </thead>\n",
       "  <tbody>\n",
       "    <tr>\n",
       "      <th>0</th>\n",
       "      <td>2015-11-01 00:00:00</td>\n",
       "      <td>1</td>\n",
       "      <td>15</td>\n",
       "      <td>20151101001</td>\n",
       "    </tr>\n",
       "    <tr>\n",
       "      <th>1</th>\n",
       "      <td>2015-11-01 01:00:00</td>\n",
       "      <td>1</td>\n",
       "      <td>13</td>\n",
       "      <td>20151101011</td>\n",
       "    </tr>\n",
       "    <tr>\n",
       "      <th>2</th>\n",
       "      <td>2015-11-01 02:00:00</td>\n",
       "      <td>1</td>\n",
       "      <td>10</td>\n",
       "      <td>20151101021</td>\n",
       "    </tr>\n",
       "    <tr>\n",
       "      <th>3</th>\n",
       "      <td>2015-11-01 03:00:00</td>\n",
       "      <td>1</td>\n",
       "      <td>7</td>\n",
       "      <td>20151101031</td>\n",
       "    </tr>\n",
       "    <tr>\n",
       "      <th>4</th>\n",
       "      <td>2015-11-01 04:00:00</td>\n",
       "      <td>1</td>\n",
       "      <td>9</td>\n",
       "      <td>20151101041</td>\n",
       "    </tr>\n",
       "    <tr>\n",
       "      <th>...</th>\n",
       "      <td>...</td>\n",
       "      <td>...</td>\n",
       "      <td>...</td>\n",
       "      <td>...</td>\n",
       "    </tr>\n",
       "    <tr>\n",
       "      <th>48115</th>\n",
       "      <td>2017-06-30 19:00:00</td>\n",
       "      <td>4</td>\n",
       "      <td>11</td>\n",
       "      <td>20170630194</td>\n",
       "    </tr>\n",
       "    <tr>\n",
       "      <th>48116</th>\n",
       "      <td>2017-06-30 20:00:00</td>\n",
       "      <td>4</td>\n",
       "      <td>30</td>\n",
       "      <td>20170630204</td>\n",
       "    </tr>\n",
       "    <tr>\n",
       "      <th>48117</th>\n",
       "      <td>2017-06-30 21:00:00</td>\n",
       "      <td>4</td>\n",
       "      <td>16</td>\n",
       "      <td>20170630214</td>\n",
       "    </tr>\n",
       "    <tr>\n",
       "      <th>48118</th>\n",
       "      <td>2017-06-30 22:00:00</td>\n",
       "      <td>4</td>\n",
       "      <td>22</td>\n",
       "      <td>20170630224</td>\n",
       "    </tr>\n",
       "    <tr>\n",
       "      <th>48119</th>\n",
       "      <td>2017-06-30 23:00:00</td>\n",
       "      <td>4</td>\n",
       "      <td>12</td>\n",
       "      <td>20170630234</td>\n",
       "    </tr>\n",
       "  </tbody>\n",
       "</table>\n",
       "<p>48120 rows × 4 columns</p>\n",
       "</div>"
      ],
      "text/plain": [
       "                 DateTime  Junction  Vehicles           ID\n",
       "0     2015-11-01 00:00:00         1        15  20151101001\n",
       "1     2015-11-01 01:00:00         1        13  20151101011\n",
       "2     2015-11-01 02:00:00         1        10  20151101021\n",
       "3     2015-11-01 03:00:00         1         7  20151101031\n",
       "4     2015-11-01 04:00:00         1         9  20151101041\n",
       "...                   ...       ...       ...          ...\n",
       "48115 2017-06-30 19:00:00         4        11  20170630194\n",
       "48116 2017-06-30 20:00:00         4        30  20170630204\n",
       "48117 2017-06-30 21:00:00         4        16  20170630214\n",
       "48118 2017-06-30 22:00:00         4        22  20170630224\n",
       "48119 2017-06-30 23:00:00         4        12  20170630234\n",
       "\n",
       "[48120 rows x 4 columns]"
      ]
     },
     "execution_count": 3,
     "metadata": {},
     "output_type": "execute_result"
    }
   ],
   "source": [
    "df_train = pd.read_csv('./data/train_aWnotuB.csv', parse_dates=[0], infer_datetime_format=True)\n",
    "df_train"
   ]
  },
  {
   "cell_type": "markdown",
   "metadata": {},
   "source": [
    "# Preprocessing"
   ]
  },
  {
   "cell_type": "code",
   "execution_count": 4,
   "metadata": {
    "ExecuteTime": {
     "end_time": "2017-11-18T15:18:46.132312Z",
     "start_time": "2017-11-18T15:18:46.113251Z"
    }
   },
   "outputs": [
    {
     "data": {
      "text/html": [
       "<div>\n",
       "<style scoped>\n",
       "    .dataframe tbody tr th:only-of-type {\n",
       "        vertical-align: middle;\n",
       "    }\n",
       "\n",
       "    .dataframe tbody tr th {\n",
       "        vertical-align: top;\n",
       "    }\n",
       "\n",
       "    .dataframe thead th {\n",
       "        text-align: right;\n",
       "    }\n",
       "</style>\n",
       "<table border=\"1\" class=\"dataframe\">\n",
       "  <thead>\n",
       "    <tr style=\"text-align: right;\">\n",
       "      <th>Junction</th>\n",
       "      <th>1</th>\n",
       "      <th>2</th>\n",
       "      <th>3</th>\n",
       "      <th>4</th>\n",
       "    </tr>\n",
       "    <tr>\n",
       "      <th>DateTime</th>\n",
       "      <th></th>\n",
       "      <th></th>\n",
       "      <th></th>\n",
       "      <th></th>\n",
       "    </tr>\n",
       "  </thead>\n",
       "  <tbody>\n",
       "    <tr>\n",
       "      <th>2015-11-01 00:00:00</th>\n",
       "      <td>15.0</td>\n",
       "      <td>6.0</td>\n",
       "      <td>9.0</td>\n",
       "      <td>NaN</td>\n",
       "    </tr>\n",
       "    <tr>\n",
       "      <th>2015-11-01 01:00:00</th>\n",
       "      <td>13.0</td>\n",
       "      <td>6.0</td>\n",
       "      <td>7.0</td>\n",
       "      <td>NaN</td>\n",
       "    </tr>\n",
       "    <tr>\n",
       "      <th>2015-11-01 02:00:00</th>\n",
       "      <td>10.0</td>\n",
       "      <td>5.0</td>\n",
       "      <td>5.0</td>\n",
       "      <td>NaN</td>\n",
       "    </tr>\n",
       "    <tr>\n",
       "      <th>2015-11-01 03:00:00</th>\n",
       "      <td>7.0</td>\n",
       "      <td>6.0</td>\n",
       "      <td>1.0</td>\n",
       "      <td>NaN</td>\n",
       "    </tr>\n",
       "    <tr>\n",
       "      <th>2015-11-01 04:00:00</th>\n",
       "      <td>9.0</td>\n",
       "      <td>7.0</td>\n",
       "      <td>2.0</td>\n",
       "      <td>NaN</td>\n",
       "    </tr>\n",
       "    <tr>\n",
       "      <th>...</th>\n",
       "      <td>...</td>\n",
       "      <td>...</td>\n",
       "      <td>...</td>\n",
       "      <td>...</td>\n",
       "    </tr>\n",
       "    <tr>\n",
       "      <th>2017-06-30 19:00:00</th>\n",
       "      <td>105.0</td>\n",
       "      <td>34.0</td>\n",
       "      <td>33.0</td>\n",
       "      <td>11.0</td>\n",
       "    </tr>\n",
       "    <tr>\n",
       "      <th>2017-06-30 20:00:00</th>\n",
       "      <td>96.0</td>\n",
       "      <td>35.0</td>\n",
       "      <td>31.0</td>\n",
       "      <td>30.0</td>\n",
       "    </tr>\n",
       "    <tr>\n",
       "      <th>2017-06-30 21:00:00</th>\n",
       "      <td>90.0</td>\n",
       "      <td>31.0</td>\n",
       "      <td>28.0</td>\n",
       "      <td>16.0</td>\n",
       "    </tr>\n",
       "    <tr>\n",
       "      <th>2017-06-30 22:00:00</th>\n",
       "      <td>84.0</td>\n",
       "      <td>29.0</td>\n",
       "      <td>26.0</td>\n",
       "      <td>22.0</td>\n",
       "    </tr>\n",
       "    <tr>\n",
       "      <th>2017-06-30 23:00:00</th>\n",
       "      <td>78.0</td>\n",
       "      <td>27.0</td>\n",
       "      <td>39.0</td>\n",
       "      <td>12.0</td>\n",
       "    </tr>\n",
       "  </tbody>\n",
       "</table>\n",
       "<p>14592 rows × 4 columns</p>\n",
       "</div>"
      ],
      "text/plain": [
       "Junction                 1     2     3     4\n",
       "DateTime                                    \n",
       "2015-11-01 00:00:00   15.0   6.0   9.0   NaN\n",
       "2015-11-01 01:00:00   13.0   6.0   7.0   NaN\n",
       "2015-11-01 02:00:00   10.0   5.0   5.0   NaN\n",
       "2015-11-01 03:00:00    7.0   6.0   1.0   NaN\n",
       "2015-11-01 04:00:00    9.0   7.0   2.0   NaN\n",
       "...                    ...   ...   ...   ...\n",
       "2017-06-30 19:00:00  105.0  34.0  33.0  11.0\n",
       "2017-06-30 20:00:00   96.0  35.0  31.0  30.0\n",
       "2017-06-30 21:00:00   90.0  31.0  28.0  16.0\n",
       "2017-06-30 22:00:00   84.0  29.0  26.0  22.0\n",
       "2017-06-30 23:00:00   78.0  27.0  39.0  12.0\n",
       "\n",
       "[14592 rows x 4 columns]"
      ]
     },
     "execution_count": 4,
     "metadata": {},
     "output_type": "execute_result"
    }
   ],
   "source": [
    "train = df_train.pivot(index='DateTime',columns='Junction', values='Vehicles')\n",
    "train"
   ]
  },
  {
   "cell_type": "markdown",
   "metadata": {
    "ExecuteTime": {
     "end_time": "2017-11-18T09:50:40.101929Z",
     "start_time": "2017-11-18T09:50:40.100033Z"
    }
   },
   "source": [
    "## Remove Nan (0 vehicle)"
   ]
  },
  {
   "cell_type": "code",
   "execution_count": 5,
   "metadata": {
    "ExecuteTime": {
     "end_time": "2017-11-18T15:18:46.136003Z",
     "start_time": "2017-11-18T15:18:46.133637Z"
    },
    "collapsed": true
   },
   "outputs": [],
   "source": [
    "train = train.fillna(0)"
   ]
  },
  {
   "cell_type": "markdown",
   "metadata": {},
   "source": [
    "## Normalize the data on 0, 1"
   ]
  },
  {
   "cell_type": "code",
   "execution_count": 6,
   "metadata": {
    "ExecuteTime": {
     "end_time": "2017-11-18T15:18:46.225152Z",
     "start_time": "2017-11-18T15:18:46.137099Z"
    },
    "collapsed": true
   },
   "outputs": [],
   "source": [
    "from sklearn.preprocessing import MinMaxScaler, StandardScaler"
   ]
  },
  {
   "cell_type": "code",
   "execution_count": 7,
   "metadata": {
    "ExecuteTime": {
     "end_time": "2017-11-18T15:18:46.228502Z",
     "start_time": "2017-11-18T15:18:46.226423Z"
    },
    "collapsed": true
   },
   "outputs": [],
   "source": [
    "# scaler = MinMaxScaler(feature_range=(-1, 1))\n",
    "# scaler = StandardScaler()\n",
    "scaler = MinMaxScaler(feature_range=(0, 1))"
   ]
  },
  {
   "cell_type": "code",
   "execution_count": 8,
   "metadata": {
    "ExecuteTime": {
     "end_time": "2017-11-18T15:18:46.236347Z",
     "start_time": "2017-11-18T15:18:46.229696Z"
    },
    "collapsed": true
   },
   "outputs": [],
   "source": [
    "train[train.columns] = scaler.fit_transform(train[train.columns])"
   ]
  },
  {
   "cell_type": "code",
   "execution_count": 9,
   "metadata": {
    "ExecuteTime": {
     "end_time": "2017-11-18T15:18:46.246245Z",
     "start_time": "2017-11-18T15:18:46.237693Z"
    }
   },
   "outputs": [
    {
     "data": {
      "text/html": [
       "<div>\n",
       "<style scoped>\n",
       "    .dataframe tbody tr th:only-of-type {\n",
       "        vertical-align: middle;\n",
       "    }\n",
       "\n",
       "    .dataframe tbody tr th {\n",
       "        vertical-align: top;\n",
       "    }\n",
       "\n",
       "    .dataframe thead th {\n",
       "        text-align: right;\n",
       "    }\n",
       "</style>\n",
       "<table border=\"1\" class=\"dataframe\">\n",
       "  <thead>\n",
       "    <tr style=\"text-align: right;\">\n",
       "      <th>Junction</th>\n",
       "      <th>1</th>\n",
       "      <th>2</th>\n",
       "      <th>3</th>\n",
       "      <th>4</th>\n",
       "    </tr>\n",
       "    <tr>\n",
       "      <th>DateTime</th>\n",
       "      <th></th>\n",
       "      <th></th>\n",
       "      <th></th>\n",
       "      <th></th>\n",
       "    </tr>\n",
       "  </thead>\n",
       "  <tbody>\n",
       "    <tr>\n",
       "      <th>2015-11-01 00:00:00</th>\n",
       "      <td>0.066225</td>\n",
       "      <td>0.106383</td>\n",
       "      <td>0.044693</td>\n",
       "      <td>0.000000</td>\n",
       "    </tr>\n",
       "    <tr>\n",
       "      <th>2015-11-01 01:00:00</th>\n",
       "      <td>0.052980</td>\n",
       "      <td>0.106383</td>\n",
       "      <td>0.033520</td>\n",
       "      <td>0.000000</td>\n",
       "    </tr>\n",
       "    <tr>\n",
       "      <th>2015-11-01 02:00:00</th>\n",
       "      <td>0.033113</td>\n",
       "      <td>0.085106</td>\n",
       "      <td>0.022346</td>\n",
       "      <td>0.000000</td>\n",
       "    </tr>\n",
       "    <tr>\n",
       "      <th>2015-11-01 03:00:00</th>\n",
       "      <td>0.013245</td>\n",
       "      <td>0.106383</td>\n",
       "      <td>0.000000</td>\n",
       "      <td>0.000000</td>\n",
       "    </tr>\n",
       "    <tr>\n",
       "      <th>2015-11-01 04:00:00</th>\n",
       "      <td>0.026490</td>\n",
       "      <td>0.127660</td>\n",
       "      <td>0.005587</td>\n",
       "      <td>0.000000</td>\n",
       "    </tr>\n",
       "    <tr>\n",
       "      <th>...</th>\n",
       "      <td>...</td>\n",
       "      <td>...</td>\n",
       "      <td>...</td>\n",
       "      <td>...</td>\n",
       "    </tr>\n",
       "    <tr>\n",
       "      <th>2017-06-30 19:00:00</th>\n",
       "      <td>0.662252</td>\n",
       "      <td>0.702128</td>\n",
       "      <td>0.178771</td>\n",
       "      <td>0.305556</td>\n",
       "    </tr>\n",
       "    <tr>\n",
       "      <th>2017-06-30 20:00:00</th>\n",
       "      <td>0.602649</td>\n",
       "      <td>0.723404</td>\n",
       "      <td>0.167598</td>\n",
       "      <td>0.833333</td>\n",
       "    </tr>\n",
       "    <tr>\n",
       "      <th>2017-06-30 21:00:00</th>\n",
       "      <td>0.562914</td>\n",
       "      <td>0.638298</td>\n",
       "      <td>0.150838</td>\n",
       "      <td>0.444444</td>\n",
       "    </tr>\n",
       "    <tr>\n",
       "      <th>2017-06-30 22:00:00</th>\n",
       "      <td>0.523179</td>\n",
       "      <td>0.595745</td>\n",
       "      <td>0.139665</td>\n",
       "      <td>0.611111</td>\n",
       "    </tr>\n",
       "    <tr>\n",
       "      <th>2017-06-30 23:00:00</th>\n",
       "      <td>0.483444</td>\n",
       "      <td>0.553191</td>\n",
       "      <td>0.212291</td>\n",
       "      <td>0.333333</td>\n",
       "    </tr>\n",
       "  </tbody>\n",
       "</table>\n",
       "<p>14592 rows × 4 columns</p>\n",
       "</div>"
      ],
      "text/plain": [
       "Junction                    1         2         3         4\n",
       "DateTime                                                   \n",
       "2015-11-01 00:00:00  0.066225  0.106383  0.044693  0.000000\n",
       "2015-11-01 01:00:00  0.052980  0.106383  0.033520  0.000000\n",
       "2015-11-01 02:00:00  0.033113  0.085106  0.022346  0.000000\n",
       "2015-11-01 03:00:00  0.013245  0.106383  0.000000  0.000000\n",
       "2015-11-01 04:00:00  0.026490  0.127660  0.005587  0.000000\n",
       "...                       ...       ...       ...       ...\n",
       "2017-06-30 19:00:00  0.662252  0.702128  0.178771  0.305556\n",
       "2017-06-30 20:00:00  0.602649  0.723404  0.167598  0.833333\n",
       "2017-06-30 21:00:00  0.562914  0.638298  0.150838  0.444444\n",
       "2017-06-30 22:00:00  0.523179  0.595745  0.139665  0.611111\n",
       "2017-06-30 23:00:00  0.483444  0.553191  0.212291  0.333333\n",
       "\n",
       "[14592 rows x 4 columns]"
      ]
     },
     "execution_count": 9,
     "metadata": {},
     "output_type": "execute_result"
    }
   ],
   "source": [
    "train"
   ]
  },
  {
   "cell_type": "markdown",
   "metadata": {},
   "source": [
    "# Generate rolling forecast features"
   ]
  },
  {
   "cell_type": "code",
   "execution_count": 10,
   "metadata": {
    "ExecuteTime": {
     "end_time": "2017-11-18T15:18:46.255511Z",
     "start_time": "2017-11-18T15:18:46.247305Z"
    },
    "collapsed": true
   },
   "outputs": [],
   "source": [
    "nb_forecast_per_junction = 24 * (31 + 31 + 30 + 31) # Days in jul + aug + sep + oct"
   ]
  },
  {
   "cell_type": "code",
   "execution_count": 11,
   "metadata": {
    "ExecuteTime": {
     "end_time": "2017-11-18T15:18:46.260887Z",
     "start_time": "2017-11-18T15:18:46.256660Z"
    }
   },
   "outputs": [
    {
     "data": {
      "text/plain": [
       "2952"
      ]
     },
     "execution_count": 11,
     "metadata": {},
     "output_type": "execute_result"
    }
   ],
   "source": [
    "nb_forecast_per_junction"
   ]
  },
  {
   "cell_type": "code",
   "execution_count": 12,
   "metadata": {
    "ExecuteTime": {
     "end_time": "2017-11-18T15:18:46.266257Z",
     "start_time": "2017-11-18T15:18:46.261931Z"
    }
   },
   "outputs": [
    {
     "data": {
      "text/plain": [
       "11808"
      ]
     },
     "execution_count": 12,
     "metadata": {},
     "output_type": "execute_result"
    }
   ],
   "source": [
    "nb_forecast_per_junction * 4"
   ]
  },
  {
   "cell_type": "markdown",
   "metadata": {},
   "source": [
    "That will certainly not fit in the GPU VRAM --> We will get inspiration from seq2seq models and do a sliding window of time that matches a week."
   ]
  },
  {
   "cell_type": "code",
   "execution_count": 13,
   "metadata": {
    "ExecuteTime": {
     "end_time": "2017-11-18T15:18:46.270573Z",
     "start_time": "2017-11-18T15:18:46.267221Z"
    },
    "collapsed": true
   },
   "outputs": [],
   "source": [
    "num_feats = 4\n",
    "seq_len = 24 * 7 # Sequence of 7 days (1 week)\n",
    "num_outputs = 4\n",
    "num_hidden = 160 # Keep 160 * 7 days of hidden states (i.e. a bit more than 2 years)\n",
    "bs = 2048\n",
    "epochs = 50"
   ]
  },
  {
   "cell_type": "markdown",
   "metadata": {},
   "source": [
    "We originally had 14592 rows, we will generate sequences of predictions from it."
   ]
  },
  {
   "cell_type": "code",
   "execution_count": 14,
   "metadata": {
    "ExecuteTime": {
     "end_time": "2017-11-18T15:18:46.282122Z",
     "start_time": "2017-11-18T15:18:46.271692Z"
    },
    "collapsed": true
   },
   "outputs": [],
   "source": [
    "def make_input_seqs(data, seq_len, train_split=0.9):\n",
    "    seq_len = seq_len + 1\n",
    "    result = []\n",
    "    for index in range(len(data) - seq_len):\n",
    "        result.append(data[index: index + seq_len, :])\n",
    "    result = np.array(result) # shape (14423, 168, 4)\n",
    "    train_ind = round(train_split * result.shape[0])\n",
    "    train = result[:int(train_ind), :, :]\n",
    "    x_train = train[:, :-1, :]\n",
    "    y_train = train[:, -1, :]\n",
    "    x_test = result[int(train_ind):, :-1, :]\n",
    "    y_test = result[int(train_ind):, -1, :]\n",
    "\n",
    "    return [x_train, y_train, x_test, y_test]"
   ]
  },
  {
   "cell_type": "code",
   "execution_count": 15,
   "metadata": {
    "ExecuteTime": {
     "end_time": "2017-11-18T15:18:46.321981Z",
     "start_time": "2017-11-18T15:18:46.283199Z"
    },
    "collapsed": true
   },
   "outputs": [],
   "source": [
    "X_train, y_train, X_test, y_test = make_input_seqs(train.values, seq_len)"
   ]
  },
  {
   "cell_type": "markdown",
   "metadata": {},
   "source": [
    "# Generate model"
   ]
  },
  {
   "cell_type": "markdown",
   "metadata": {},
   "source": [
    "## Loss function"
   ]
  },
  {
   "cell_type": "code",
   "execution_count": 16,
   "metadata": {
    "ExecuteTime": {
     "end_time": "2017-11-18T15:18:46.326036Z",
     "start_time": "2017-11-18T15:18:46.323327Z"
    },
    "collapsed": true
   },
   "outputs": [],
   "source": [
    "import keras.backend as K\n",
    "\n",
    "def root_mean_squared_error(y_true, y_pred):\n",
    "        return K.sqrt(K.mean(K.square(y_pred - y_true), axis=-1)) "
   ]
  },
  {
   "cell_type": "markdown",
   "metadata": {},
   "source": [
    "## Neural net"
   ]
  },
  {
   "cell_type": "code",
   "execution_count": 17,
   "metadata": {
    "ExecuteTime": {
     "end_time": "2017-11-18T15:18:46.330823Z",
     "start_time": "2017-11-18T15:18:46.327223Z"
    },
    "collapsed": true
   },
   "outputs": [],
   "source": [
    "from keras.optimizers import adam, rmsprop"
   ]
  },
  {
   "cell_type": "code",
   "execution_count": null,
   "metadata": {
    "collapsed": true
   },
   "outputs": [],
   "source": []
  },
  {
   "cell_type": "code",
   "execution_count": 18,
   "metadata": {
    "ExecuteTime": {
     "end_time": "2017-11-18T15:18:46.349633Z",
     "start_time": "2017-11-18T15:18:46.331836Z"
    },
    "collapsed": true
   },
   "outputs": [],
   "source": [
    "# adam = adam(clipvalue=0.5) # Clip to avoid exploding gradients\n",
    "rmsprop = rmsprop(clipvalue=0.5)"
   ]
  },
  {
   "cell_type": "raw",
   "metadata": {
    "ExecuteTime": {
     "end_time": "2017-11-18T13:20:10.908661Z",
     "start_time": "2017-11-18T13:20:10.898181Z"
    },
    "collapsed": true
   },
   "source": [
    "def Net(num_feats, seq_len, num_hidden, num_outputs):\n",
    "    model = Sequential()\n",
    "\n",
    "    # Encoder RNN\n",
    "    model.add(LSTM(\n",
    "        input_shape=(seq_len,num_feats),\n",
    "        # activation = 'relu', # default is tanh\n",
    "        # kernel_initializer = he_normal(seed=1337),\n",
    "        return_sequences=True, units=seq_len))\n",
    "    model.add(Dropout(0.2))\n",
    "    \n",
    "    # Decoder RNN\n",
    "    model.add(LSTM(\n",
    "        num_hidden,\n",
    "        # activation = 'relu', # default is tanh\n",
    "        # kernel_initializer = he_normal(seed=1337),\n",
    "        return_sequences=False))\n",
    "    model.add(Dropout(0.2))\n",
    "\n",
    "    model.add(Dense(num_outputs))\n",
    "    model.add(Activation(\"linear\"))\n",
    "\n",
    "    model.compile(loss= root_mean_squared_error, optimizer= rmsprop)\n",
    "    return model"
   ]
  },
  {
   "cell_type": "code",
   "execution_count": 19,
   "metadata": {
    "ExecuteTime": {
     "end_time": "2017-11-18T15:18:46.355484Z",
     "start_time": "2017-11-18T15:18:46.350903Z"
    },
    "collapsed": true
   },
   "outputs": [],
   "source": [
    "from keras.layers import multipl\n",
    "from keras.layers.core import *\n",
    "from keras.layers.recurrent import LSTM\n",
    "from keras.models import *"
   ]
  },
  {
   "cell_type": "code",
   "execution_count": 20,
   "metadata": {
    "ExecuteTime": {
     "end_time": "2017-11-18T15:18:46.366114Z",
     "start_time": "2017-11-18T15:18:46.356523Z"
    }
   },
   "outputs": [],
   "source": [
    "SINGLE_ATTENTION_VECTOR = False\n",
    "\n",
    "def attention_3d_block(inputs):\n",
    "    # inputs.shape = (batch_size, time_steps, input_dim)\n",
    "    print(inputs.shape)\n",
    "    input_dim = int(inputs.shape[2])\n",
    "    time_steps = seq_len # Global var\n",
    "    \n",
    "\n",
    "    a = Permute((2, 1))(inputs)\n",
    "    a = Dense(time_steps, activation='softmax')(a)\n",
    "    if SINGLE_ATTENTION_VECTOR:\n",
    "        a = Lambda(lambda x: K.mean(x, axis=1), name='dim_reduction')(a)\n",
    "        a = RepeatVector(input_dim)(a)\n",
    "    a_probs = Permute((2, 1), name='attention_vec')(a)\n",
    "    output_attention_mul = merge([inputs, a_probs], name='attention_mul', mode='mul')\n",
    "    return output_attention_mul"
   ]
  },
  {
   "cell_type": "code",
   "execution_count": 21,
   "metadata": {
    "ExecuteTime": {
     "end_time": "2017-11-18T15:18:46.381164Z",
     "start_time": "2017-11-18T15:18:46.367194Z"
    }
   },
   "outputs": [],
   "source": [
    "def Net(num_feats, seq_len, num_hidden, num_outputs):\n",
    "    x = Input((seq_len, num_feats))\n",
    "\n",
    "    # Encoder RNN\n",
    "    enc = LSTM(seq_len,\n",
    "               return_sequences=True)(x)\n",
    "    enc = Dropout(0.2)(enc)\n",
    "    \n",
    "    # Attention decoder\n",
    "    attention = attention_3d_block(enc)\n",
    "    \n",
    "    # Decoder RNN\n",
    "    dec = LSTM(num_hidden,\n",
    "               return_sequences=False)(attention)\n",
    "    dec = Dropout(0.2)(dec)\n",
    "\n",
    "    # Regressor\n",
    "    # Note that Dense is automatically TimeDistributed in Keras 2\n",
    "    out = Dense(num_outputs)(dec)\n",
    "    # out = Activation(\"linear\")(out) # No-op\n",
    "    \n",
    "    model = Model(input=x, output=out)\n",
    "\n",
    "    model.compile(loss= root_mean_squared_error, optimizer= rmsprop)\n",
    "    return model"
   ]
  },
  {
   "cell_type": "code",
   "execution_count": 22,
   "metadata": {
    "ExecuteTime": {
     "end_time": "2017-11-18T15:18:46.874863Z",
     "start_time": "2017-11-18T15:18:46.382216Z"
    }
   },
   "outputs": [
    {
     "name": "stdout",
     "output_type": "stream",
     "text": [
      "(?, ?, 168)\n"
     ]
    },
    {
     "name": "stderr",
     "output_type": "stream",
     "text": [
      "/usr/lib/python3.6/site-packages/ipykernel/__main__.py:16: UserWarning: The `merge` function is deprecated and will be removed after 08/2017. Use instead layers from `keras.layers.merge`, e.g. `add`, `concatenate`, etc.\n",
      "/usr/lib/python3.6/site-packages/keras/legacy/layers.py:459: UserWarning: The `Merge` layer is deprecated and will be removed after 08/2017. Use instead layers from `keras.layers.merge`, e.g. `add`, `concatenate`, etc.\n",
      "  name=name)\n",
      "/usr/lib/python3.6/site-packages/ipykernel/__main__.py:22: UserWarning: Update your `Model` call to the Keras 2 API: `Model(inputs=Tensor(\"in..., outputs=Tensor(\"de...)`\n"
     ]
    }
   ],
   "source": [
    "model = Net(num_feats, seq_len, num_hidden, num_outputs)"
   ]
  },
  {
   "cell_type": "code",
   "execution_count": 23,
   "metadata": {
    "ExecuteTime": {
     "end_time": "2017-11-18T15:18:46.880051Z",
     "start_time": "2017-11-18T15:18:46.875913Z"
    }
   },
   "outputs": [
    {
     "name": "stdout",
     "output_type": "stream",
     "text": [
      "__________________________________________________________________________________________________\n",
      "Layer (type)                    Output Shape         Param #     Connected to                     \n",
      "==================================================================================================\n",
      "input_1 (InputLayer)            (None, 168, 4)       0                                            \n",
      "__________________________________________________________________________________________________\n",
      "lstm_1 (LSTM)                   (None, 168, 168)     116256      input_1[0][0]                    \n",
      "__________________________________________________________________________________________________\n",
      "dropout_1 (Dropout)             (None, 168, 168)     0           lstm_1[0][0]                     \n",
      "__________________________________________________________________________________________________\n",
      "permute_1 (Permute)             (None, 168, 168)     0           dropout_1[0][0]                  \n",
      "__________________________________________________________________________________________________\n",
      "dense_1 (Dense)                 (None, 168, 168)     28392       permute_1[0][0]                  \n",
      "__________________________________________________________________________________________________\n",
      "attention_vec (Permute)         (None, 168, 168)     0           dense_1[0][0]                    \n",
      "__________________________________________________________________________________________________\n",
      "attention_mul (Merge)           (None, 168, 168)     0           dropout_1[0][0]                  \n",
      "                                                                 attention_vec[0][0]              \n",
      "__________________________________________________________________________________________________\n",
      "lstm_2 (LSTM)                   (None, 160)          210560      attention_mul[0][0]              \n",
      "__________________________________________________________________________________________________\n",
      "dropout_2 (Dropout)             (None, 160)          0           lstm_2[0][0]                     \n",
      "__________________________________________________________________________________________________\n",
      "dense_2 (Dense)                 (None, 4)            644         dropout_2[0][0]                  \n",
      "==================================================================================================\n",
      "Total params: 355,852\n",
      "Trainable params: 355,852\n",
      "Non-trainable params: 0\n",
      "__________________________________________________________________________________________________\n"
     ]
    }
   ],
   "source": [
    "model.summary()"
   ]
  },
  {
   "cell_type": "markdown",
   "metadata": {
    "ExecuteTime": {
     "end_time": "2017-11-18T11:26:59.040374Z",
     "start_time": "2017-11-18T11:26:59.038563Z"
    }
   },
   "source": [
    "### Callbacks"
   ]
  },
  {
   "cell_type": "code",
   "execution_count": 24,
   "metadata": {
    "ExecuteTime": {
     "end_time": "2017-11-18T15:18:46.883312Z",
     "start_time": "2017-11-18T15:18:46.881099Z"
    },
    "collapsed": true
   },
   "outputs": [],
   "source": [
    "from keras.callbacks import History, ModelCheckpoint, CSVLogger, EarlyStopping\n",
    "import time"
   ]
  },
  {
   "cell_type": "code",
   "execution_count": 25,
   "metadata": {
    "ExecuteTime": {
     "end_time": "2017-11-18T15:18:46.888376Z",
     "start_time": "2017-11-18T15:18:46.884334Z"
    },
    "collapsed": true
   },
   "outputs": [],
   "source": [
    "history = History()\n",
    "checkpointer = ModelCheckpoint(filepath=\"checkpoints/\" + time.strftime(\"%Y-%m-%d_%H%M-\")+\"seq2seq-attention.hdf5\",\n",
    "                               verbose=1, save_best_only=False)\n",
    "csv_logger = CSVLogger(\"checkpoints/\" + time.strftime(\"%Y-%m-%d_%H%M-\")+'training.log')\n",
    "early_stop = EarlyStopping(monitor='val_loss', min_delta=0, patience=2, verbose=1, mode='auto')"
   ]
  },
  {
   "cell_type": "markdown",
   "metadata": {},
   "source": [
    "# Training"
   ]
  },
  {
   "cell_type": "code",
   "execution_count": 26,
   "metadata": {
    "ExecuteTime": {
     "end_time": "2017-11-18T15:19:54.893107Z",
     "start_time": "2017-11-18T15:18:46.889615Z"
    }
   },
   "outputs": [
    {
     "name": "stdout",
     "output_type": "stream",
     "text": [
      "Train on 12331 samples, validate on 650 samples\n",
      "Epoch 1/50\n",
      "\n",
      " 2048/12331 [===>..........................] - ETA: 20s - loss: 0.1855\n",
      " 4096/12331 [========>.....................] - ETA: 12s - loss: 0.1717\n",
      " 6144/12331 [=============>................] - ETA: 8s - loss: 0.1474 \n",
      " 8192/12331 [==================>...........] - ETA: 5s - loss: 0.8339\n",
      "10240/12331 [=======================>......] - ETA: 2s - loss: 0.6872\n",
      "12288/12331 [============================>.] - ETA: 0s - loss: 0.5875Epoch 00001: saving model to checkpoints/2017-11-18_1518-seq2seq-attention.hdf5\n",
      "\n",
      "12331/12331 [==============================] - ETA: 0s - loss: 0.5857 - val_loss: 0.1851\n",
      "Epoch 2/50\n",
      "\n",
      " 2048/12331 [===>..........................] - ETA: 9s - loss: 0.0865\n",
      " 4096/12331 [========>.....................] - ETA: 7s - loss: 0.0861\n",
      " 6144/12331 [=============>................] - ETA: 5s - loss: 0.0880\n",
      " 8192/12331 [==================>...........] - ETA: 3s - loss: 0.0877\n",
      "10240/12331 [=======================>......] - ETA: 2s - loss: 0.0874\n",
      "12288/12331 [============================>.] - ETA: 0s - loss: 0.0876Epoch 00002: saving model to checkpoints/2017-11-18_1518-seq2seq-attention.hdf5\n",
      "\n",
      "12331/12331 [==============================] - ETA: 0s - loss: 0.0877 - val_loss: 0.1462\n",
      "Epoch 3/50\n",
      "\n",
      " 2048/12331 [===>..........................] - ETA: 9s - loss: 0.0897\n",
      " 4096/12331 [========>.....................] - ETA: 7s - loss: 0.0971\n",
      " 6144/12331 [=============>................] - ETA: 5s - loss: 0.0936\n",
      " 8192/12331 [==================>...........] - ETA: 3s - loss: 0.0918\n",
      "10240/12331 [=======================>......] - ETA: 2s - loss: 0.0905\n",
      "12288/12331 [============================>.] - ETA: 0s - loss: 0.0899Epoch 00003: saving model to checkpoints/2017-11-18_1518-seq2seq-attention.hdf5\n",
      "\n",
      "12331/12331 [==============================] - ETA: 0s - loss: 0.0898 - val_loss: 0.1614\n",
      "Epoch 4/50\n",
      "\n",
      " 2048/12331 [===>..........................] - ETA: 9s - loss: 0.0866\n",
      " 4096/12331 [========>.....................] - ETA: 7s - loss: 0.0847\n",
      " 6144/12331 [=============>................] - ETA: 5s - loss: 0.0849\n",
      " 8192/12331 [==================>...........] - ETA: 3s - loss: 0.0848\n",
      "10240/12331 [=======================>......] - ETA: 2s - loss: 0.0859\n",
      "12288/12331 [============================>.] - ETA: 0s - loss: 0.0886Epoch 00004: saving model to checkpoints/2017-11-18_1518-seq2seq-attention.hdf5\n",
      "\n",
      "12331/12331 [==============================] - ETA: 0s - loss: 0.0886 - val_loss: 0.1372\n",
      "Epoch 5/50\n",
      "\n",
      " 2048/12331 [===>..........................] - ETA: 9s - loss: 0.0968\n",
      " 4096/12331 [========>.....................] - ETA: 7s - loss: 0.0948\n",
      " 6144/12331 [=============>................] - ETA: 5s - loss: 0.0910\n",
      " 8192/12331 [==================>...........] - ETA: 3s - loss: 0.0891\n",
      "10240/12331 [=======================>......] - ETA: 2s - loss: 0.0880\n",
      "12288/12331 [============================>.] - ETA: 0s - loss: 0.0872Epoch 00005: saving model to checkpoints/2017-11-18_1518-seq2seq-attention.hdf5\n",
      "\n",
      "12331/12331 [==============================] - ETA: 0s - loss: 0.0872 - val_loss: 0.1835\n",
      "Epoch 6/50\n",
      "\n",
      " 2048/12331 [===>..........................] - ETA: 9s - loss: 0.0869\n",
      " 4096/12331 [========>.....................] - ETA: 7s - loss: 0.0854\n",
      " 6144/12331 [=============>................] - ETA: 5s - loss: 0.0902\n",
      " 8192/12331 [==================>...........] - ETA: 3s - loss: 0.0890\n",
      "10240/12331 [=======================>......] - ETA: 2s - loss: 0.0884\n",
      "12288/12331 [============================>.] - ETA: 0s - loss: 0.0877Epoch 00006: saving model to checkpoints/2017-11-18_1518-seq2seq-attention.hdf5\n",
      "\n",
      "12331/12331 [==============================] - ETA: 0s - loss: 0.0876 - val_loss: 0.1771\n",
      "Epoch 00006: early stopping\n"
     ]
    },
    {
     "data": {
      "text/plain": [
       "<keras.callbacks.History at 0x7f8fdd328f28>"
      ]
     },
     "execution_count": 26,
     "metadata": {},
     "output_type": "execute_result"
    }
   ],
   "source": [
    "model.fit(X_train, y_train,\n",
    "          batch_size=bs,\n",
    "          epochs=epochs,\n",
    "          validation_split=0.05,\n",
    "          callbacks=[history,checkpointer,csv_logger,early_stop])"
   ]
  },
  {
   "cell_type": "markdown",
   "metadata": {
    "ExecuteTime": {
     "end_time": "2017-11-18T10:32:08.713366Z",
     "start_time": "2017-11-18T10:32:08.708839Z"
    }
   },
   "source": [
    "# Validation"
   ]
  },
  {
   "cell_type": "markdown",
   "metadata": {
    "ExecuteTime": {
     "end_time": "2017-11-18T10:32:08.707276Z",
     "start_time": "2017-11-18T10:32:08.705151Z"
    }
   },
   "source": [
    "## Validation by feeding truth values"
   ]
  },
  {
   "cell_type": "code",
   "execution_count": 27,
   "metadata": {
    "ExecuteTime": {
     "end_time": "2017-11-18T15:19:54.901732Z",
     "start_time": "2017-11-18T15:19:54.894624Z"
    },
    "collapsed": true
   },
   "outputs": [],
   "source": [
    "def plot_preds(y_truth, y_pred):\n",
    "    for junction in range(4):\n",
    "        plt.figure\n",
    "        plt.plot(y_truth[:,junction], color = 'green', label = 'Real traffic')\n",
    "        plt.plot(y_pred[:,junction], color = 'red', label = 'Predicted traffic')\n",
    "        plt.title('Traffic Forecasting at junction %i' % (junction+1))\n",
    "        plt.xlabel('Number of hours from Start')\n",
    "        plt.ylabel('Traffic')\n",
    "        plt.legend()\n",
    "        plt.show()"
   ]
  },
  {
   "cell_type": "code",
   "execution_count": 28,
   "metadata": {
    "ExecuteTime": {
     "end_time": "2017-11-18T15:19:57.428100Z",
     "start_time": "2017-11-18T15:19:54.903195Z"
    },
    "collapsed": true
   },
   "outputs": [],
   "source": [
    "y_pred = model.predict(X_test)"
   ]
  },
  {
   "cell_type": "code",
   "execution_count": 29,
   "metadata": {
    "ExecuteTime": {
     "end_time": "2017-11-18T15:19:57.432808Z",
     "start_time": "2017-11-18T15:19:57.429745Z"
    }
   },
   "outputs": [
    {
     "data": {
      "text/plain": [
       "(1442, 4)"
      ]
     },
     "execution_count": 29,
     "metadata": {},
     "output_type": "execute_result"
    }
   ],
   "source": [
    "y_pred.shape"
   ]
  },
  {
   "cell_type": "code",
   "execution_count": 30,
   "metadata": {
    "ExecuteTime": {
     "end_time": "2017-11-18T15:19:57.838502Z",
     "start_time": "2017-11-18T15:19:57.434287Z"
    }
   },
   "outputs": [
    {
     "data": {
      "image/png": "[encoded data removed]",
      "text/plain": [
       "<matplotlib.figure.Figure at 0x7f8dd015ebe0>"
      ]
     },
     "metadata": {},
     "output_type": "display_data"
    },
    {
     "data": {
      "image/png": "[encoded data removed]",
      "text/plain": [
       "<matplotlib.figure.Figure at 0x7f8dc821f940>"
      ]
     },
     "metadata": {},
     "output_type": "display_data"
    },
    {
     "data": {
      "image/png": "[encoded data removed]",
      "text/plain": [
       "<matplotlib.figure.Figure at 0x7f8dc8226c88>"
      ]
     },
     "metadata": {},
     "output_type": "display_data"
    },
    {
     "data": {
      "image/png": "[encoded data removed]",
      "text/plain": [
       "<matplotlib.figure.Figure at 0x7f8dc82046d8>"
      ]
     },
     "metadata": {},
     "output_type": "display_data"
    }
   ],
   "source": [
    "plot_preds(y_test, y_pred)"
   ]
  },
  {
   "cell_type": "code",
   "execution_count": 31,
   "metadata": {
    "ExecuteTime": {
     "end_time": "2017-11-18T15:19:57.860807Z",
     "start_time": "2017-11-18T15:19:57.840010Z"
    },
    "collapsed": true
   },
   "outputs": [],
   "source": [
    "from sklearn.metrics import mean_squared_error\n",
    "from math import sqrt\n",
    "\n",
    "def rmse(y_true, y_pred):\n",
    "    return sqrt(mean_squared_error(y_true, y_pred))"
   ]
  },
  {
   "cell_type": "code",
   "execution_count": 32,
   "metadata": {
    "ExecuteTime": {
     "end_time": "2017-11-18T15:19:57.864786Z",
     "start_time": "2017-11-18T15:19:57.861968Z"
    }
   },
   "outputs": [
    {
     "data": {
      "text/plain": [
       "0.2486010010730225"
      ]
     },
     "execution_count": 32,
     "metadata": {},
     "output_type": "execute_result"
    }
   ],
   "source": [
    "rmse(y_test, y_pred)"
   ]
  },
  {
   "cell_type": "markdown",
   "metadata": {},
   "source": [
    "## Validation by feeding predicted values"
   ]
  },
  {
   "cell_type": "code",
   "execution_count": null,
   "metadata": {
    "ExecuteTime": {
     "start_time": "2017-11-18T15:18:44.140Z"
    },
    "collapsed": true
   },
   "outputs": [],
   "source": [
    "def pred_seq(model, to_pred, w_size, num_preds=None):\n",
    "    if num_preds == None:\n",
    "        num_preds = to_pred.shape[0]\n",
    "    current = to_pred[0]\n",
    "    predicted = []\n",
    "    for i in range(num_preds):\n",
    "        predicted.append(model.predict(current[np.newaxis,:,:])[0,:])\n",
    "        current = current[1:]\n",
    "        current = np.insert(current, [w_size-1], predicted[-1], axis=0)\n",
    "    return np.asarray(predicted)"
   ]
  },
  {
   "cell_type": "code",
   "execution_count": null,
   "metadata": {
    "ExecuteTime": {
     "start_time": "2017-11-18T15:18:44.142Z"
    },
    "collapsed": true
   },
   "outputs": [],
   "source": [
    "seqpreds = pred_seq(model, X_test, seq_len)"
   ]
  },
  {
   "cell_type": "code",
   "execution_count": null,
   "metadata": {
    "ExecuteTime": {
     "start_time": "2017-11-18T15:18:44.143Z"
    },
    "collapsed": true
   },
   "outputs": [],
   "source": [
    "seqpreds.shape"
   ]
  },
  {
   "cell_type": "code",
   "execution_count": null,
   "metadata": {
    "ExecuteTime": {
     "start_time": "2017-11-18T15:18:44.145Z"
    },
    "collapsed": true
   },
   "outputs": [],
   "source": [
    "plot_preds(y_test, seqpreds)"
   ]
  },
  {
   "cell_type": "code",
   "execution_count": null,
   "metadata": {
    "ExecuteTime": {
     "start_time": "2017-11-18T15:18:44.146Z"
    },
    "collapsed": true
   },
   "outputs": [],
   "source": [
    "rmse(y_test, seqpreds)"
   ]
  },
  {
   "cell_type": "code",
   "execution_count": null,
   "metadata": {
    "collapsed": true
   },
   "outputs": [],
   "source": []
  }
 ],
 "metadata": {
  "kernelspec": {
   "display_name": "Python 3",
   "language": "python",
   "name": "python3"
  },
  "language_info": {
   "codemirror_mode": {
    "name": "ipython",
    "version": 3
   },
   "file_extension": ".py",
   "mimetype": "text/x-python",
   "name": "python",
   "nbconvert_exporter": "python",
   "pygments_lexer": "ipython3",
   "version": "3.6.2"
  }
 },
 "nbformat": 4,
 "nbformat_minor": 2
}
