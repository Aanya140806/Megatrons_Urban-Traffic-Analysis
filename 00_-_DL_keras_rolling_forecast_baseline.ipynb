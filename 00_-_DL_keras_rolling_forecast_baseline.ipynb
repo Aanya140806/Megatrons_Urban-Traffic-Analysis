{
 "cells": [
  {
   "cell_type": "code",
   "execution_count": 1,
   "metadata": {
    "ExecuteTime": {
     "end_time": "2017-11-18T19:21:57.151022Z",
     "start_time": "2017-11-18T19:21:55.657440Z"
    }
   },
   "outputs": [
    {
     "name": "stderr",
     "output_type": "stream",
     "text": [
      "Using TensorFlow backend.\n"
     ]
    }
   ],
   "source": [
    "import numpy as np\n",
    "import pandas as pd\n",
    "import matplotlib.pyplot as plt\n",
    "\n",
    "from keras.layers.core import Dense, Activation, Dropout\n",
    "from keras.layers.recurrent import LSTM\n",
    "from keras.models import Sequential\n",
    "from keras.initializers import he_normal\n",
    "%matplotlib inline\n",
    "\n",
    "# Display only top 5 and bottom 5 rows\n",
    "pd.set_option('display.max_rows', 10)"
   ]
  },
  {
   "cell_type": "code",
   "execution_count": 2,
   "metadata": {
    "ExecuteTime": {
     "end_time": "2017-11-18T19:21:57.156041Z",
     "start_time": "2017-11-18T19:21:57.152244Z"
    },
    "collapsed": true
   },
   "outputs": [],
   "source": [
    "# Set random seed for reproducibility\n",
    "# Note: CuDNN is usually non-deterministic\n",
    "# (can't determine which of the ~3000 threads finish earlier)\n",
    "# And floating points reduction is not perfectly associative due to ULP rounding\n",
    "import numpy as np\n",
    "np.random.seed(1337)\n",
    "import tensorflow as tf\n",
    "tf.set_random_seed(1337)"
   ]
  },
  {
   "cell_type": "code",
   "execution_count": 3,
   "metadata": {
    "ExecuteTime": {
     "end_time": "2017-11-18T19:21:57.212844Z",
     "start_time": "2017-11-18T19:21:57.157822Z"
    }
   },
   "outputs": [
    {
     "data": {
      "text/html": [
       "<div>\n",
       "<style scoped>\n",
       "    .dataframe tbody tr th:only-of-type {\n",
       "        vertical-align: middle;\n",
       "    }\n",
       "\n",
       "    .dataframe tbody tr th {\n",
       "        vertical-align: top;\n",
       "    }\n",
       "\n",
       "    .dataframe thead th {\n",
       "        text-align: right;\n",
       "    }\n",
       "</style>\n",
       "<table border=\"1\" class=\"dataframe\">\n",
       "  <thead>\n",
       "    <tr style=\"text-align: right;\">\n",
       "      <th></th>\n",
       "      <th>DateTime</th>\n",
       "      <th>Junction</th>\n",
       "      <th>Vehicles</th>\n",
       "      <th>ID</th>\n",
       "    </tr>\n",
       "  </thead>\n",
       "  <tbody>\n",
       "    <tr>\n",
       "      <th>0</th>\n",
       "      <td>2015-11-01 00:00:00</td>\n",
       "      <td>1</td>\n",
       "      <td>15</td>\n",
       "      <td>20151101001</td>\n",
       "    </tr>\n",
       "    <tr>\n",
       "      <th>1</th>\n",
       "      <td>2015-11-01 01:00:00</td>\n",
       "      <td>1</td>\n",
       "      <td>13</td>\n",
       "      <td>20151101011</td>\n",
       "    </tr>\n",
       "    <tr>\n",
       "      <th>2</th>\n",
       "      <td>2015-11-01 02:00:00</td>\n",
       "      <td>1</td>\n",
       "      <td>10</td>\n",
       "      <td>20151101021</td>\n",
       "    </tr>\n",
       "    <tr>\n",
       "      <th>3</th>\n",
       "      <td>2015-11-01 03:00:00</td>\n",
       "      <td>1</td>\n",
       "      <td>7</td>\n",
       "      <td>20151101031</td>\n",
       "    </tr>\n",
       "    <tr>\n",
       "      <th>4</th>\n",
       "      <td>2015-11-01 04:00:00</td>\n",
       "      <td>1</td>\n",
       "      <td>9</td>\n",
       "      <td>20151101041</td>\n",
       "    </tr>\n",
       "    <tr>\n",
       "      <th>...</th>\n",
       "      <td>...</td>\n",
       "      <td>...</td>\n",
       "      <td>...</td>\n",
       "      <td>...</td>\n",
       "    </tr>\n",
       "    <tr>\n",
       "      <th>48115</th>\n",
       "      <td>2017-06-30 19:00:00</td>\n",
       "      <td>4</td>\n",
       "      <td>11</td>\n",
       "      <td>20170630194</td>\n",
       "    </tr>\n",
       "    <tr>\n",
       "      <th>48116</th>\n",
       "      <td>2017-06-30 20:00:00</td>\n",
       "      <td>4</td>\n",
       "      <td>30</td>\n",
       "      <td>20170630204</td>\n",
       "    </tr>\n",
       "    <tr>\n",
       "      <th>48117</th>\n",
       "      <td>2017-06-30 21:00:00</td>\n",
       "      <td>4</td>\n",
       "      <td>16</td>\n",
       "      <td>20170630214</td>\n",
       "    </tr>\n",
       "    <tr>\n",
       "      <th>48118</th>\n",
       "      <td>2017-06-30 22:00:00</td>\n",
       "      <td>4</td>\n",
       "      <td>22</td>\n",
       "      <td>20170630224</td>\n",
       "    </tr>\n",
       "    <tr>\n",
       "      <th>48119</th>\n",
       "      <td>2017-06-30 23:00:00</td>\n",
       "      <td>4</td>\n",
       "      <td>12</td>\n",
       "      <td>20170630234</td>\n",
       "    </tr>\n",
       "  </tbody>\n",
       "</table>\n",
       "<p>48120 rows × 4 columns</p>\n",
       "</div>"
      ],
      "text/plain": [
       "                 DateTime  Junction  Vehicles           ID\n",
       "0     2015-11-01 00:00:00         1        15  20151101001\n",
       "1     2015-11-01 01:00:00         1        13  20151101011\n",
       "2     2015-11-01 02:00:00         1        10  20151101021\n",
       "3     2015-11-01 03:00:00         1         7  20151101031\n",
       "4     2015-11-01 04:00:00         1         9  20151101041\n",
       "...                   ...       ...       ...          ...\n",
       "48115 2017-06-30 19:00:00         4        11  20170630194\n",
       "48116 2017-06-30 20:00:00         4        30  20170630204\n",
       "48117 2017-06-30 21:00:00         4        16  20170630214\n",
       "48118 2017-06-30 22:00:00         4        22  20170630224\n",
       "48119 2017-06-30 23:00:00         4        12  20170630234\n",
       "\n",
       "[48120 rows x 4 columns]"
      ]
     },
     "execution_count": 3,
     "metadata": {},
     "output_type": "execute_result"
    }
   ],
   "source": [
    "df_train = pd.read_csv('./data/train_aWnotuB.csv', parse_dates=[0], infer_datetime_format=True)\n",
    "df_train"
   ]
  },
  {
   "cell_type": "markdown",
   "metadata": {},
   "source": [
    "# Preprocessing"
   ]
  },
  {
   "cell_type": "code",
   "execution_count": 4,
   "metadata": {
    "ExecuteTime": {
     "end_time": "2017-11-18T19:21:57.234728Z",
     "start_time": "2017-11-18T19:21:57.214290Z"
    }
   },
   "outputs": [
    {
     "data": {
      "text/html": [
       "<div>\n",
       "<style scoped>\n",
       "    .dataframe tbody tr th:only-of-type {\n",
       "        vertical-align: middle;\n",
       "    }\n",
       "\n",
       "    .dataframe tbody tr th {\n",
       "        vertical-align: top;\n",
       "    }\n",
       "\n",
       "    .dataframe thead th {\n",
       "        text-align: right;\n",
       "    }\n",
       "</style>\n",
       "<table border=\"1\" class=\"dataframe\">\n",
       "  <thead>\n",
       "    <tr style=\"text-align: right;\">\n",
       "      <th>Junction</th>\n",
       "      <th>1</th>\n",
       "      <th>2</th>\n",
       "      <th>3</th>\n",
       "      <th>4</th>\n",
       "    </tr>\n",
       "    <tr>\n",
       "      <th>DateTime</th>\n",
       "      <th></th>\n",
       "      <th></th>\n",
       "      <th></th>\n",
       "      <th></th>\n",
       "    </tr>\n",
       "  </thead>\n",
       "  <tbody>\n",
       "    <tr>\n",
       "      <th>2015-11-01 00:00:00</th>\n",
       "      <td>15.0</td>\n",
       "      <td>6.0</td>\n",
       "      <td>9.0</td>\n",
       "      <td>NaN</td>\n",
       "    </tr>\n",
       "    <tr>\n",
       "      <th>2015-11-01 01:00:00</th>\n",
       "      <td>13.0</td>\n",
       "      <td>6.0</td>\n",
       "      <td>7.0</td>\n",
       "      <td>NaN</td>\n",
       "    </tr>\n",
       "    <tr>\n",
       "      <th>2015-11-01 02:00:00</th>\n",
       "      <td>10.0</td>\n",
       "      <td>5.0</td>\n",
       "      <td>5.0</td>\n",
       "      <td>NaN</td>\n",
       "    </tr>\n",
       "    <tr>\n",
       "      <th>2015-11-01 03:00:00</th>\n",
       "      <td>7.0</td>\n",
       "      <td>6.0</td>\n",
       "      <td>1.0</td>\n",
       "      <td>NaN</td>\n",
       "    </tr>\n",
       "    <tr>\n",
       "      <th>2015-11-01 04:00:00</th>\n",
       "      <td>9.0</td>\n",
       "      <td>7.0</td>\n",
       "      <td>2.0</td>\n",
       "      <td>NaN</td>\n",
       "    </tr>\n",
       "    <tr>\n",
       "      <th>...</th>\n",
       "      <td>...</td>\n",
       "      <td>...</td>\n",
       "      <td>...</td>\n",
       "      <td>...</td>\n",
       "    </tr>\n",
       "    <tr>\n",
       "      <th>2017-06-30 19:00:00</th>\n",
       "      <td>105.0</td>\n",
       "      <td>34.0</td>\n",
       "      <td>33.0</td>\n",
       "      <td>11.0</td>\n",
       "    </tr>\n",
       "    <tr>\n",
       "      <th>2017-06-30 20:00:00</th>\n",
       "      <td>96.0</td>\n",
       "      <td>35.0</td>\n",
       "      <td>31.0</td>\n",
       "      <td>30.0</td>\n",
       "    </tr>\n",
       "    <tr>\n",
       "      <th>2017-06-30 21:00:00</th>\n",
       "      <td>90.0</td>\n",
       "      <td>31.0</td>\n",
       "      <td>28.0</td>\n",
       "      <td>16.0</td>\n",
       "    </tr>\n",
       "    <tr>\n",
       "      <th>2017-06-30 22:00:00</th>\n",
       "      <td>84.0</td>\n",
       "      <td>29.0</td>\n",
       "      <td>26.0</td>\n",
       "      <td>22.0</td>\n",
       "    </tr>\n",
       "    <tr>\n",
       "      <th>2017-06-30 23:00:00</th>\n",
       "      <td>78.0</td>\n",
       "      <td>27.0</td>\n",
       "      <td>39.0</td>\n",
       "      <td>12.0</td>\n",
       "    </tr>\n",
       "  </tbody>\n",
       "</table>\n",
       "<p>14592 rows × 4 columns</p>\n",
       "</div>"
      ],
      "text/plain": [
       "Junction                 1     2     3     4\n",
       "DateTime                                    \n",
       "2015-11-01 00:00:00   15.0   6.0   9.0   NaN\n",
       "2015-11-01 01:00:00   13.0   6.0   7.0   NaN\n",
       "2015-11-01 02:00:00   10.0   5.0   5.0   NaN\n",
       "2015-11-01 03:00:00    7.0   6.0   1.0   NaN\n",
       "2015-11-01 04:00:00    9.0   7.0   2.0   NaN\n",
       "...                    ...   ...   ...   ...\n",
       "2017-06-30 19:00:00  105.0  34.0  33.0  11.0\n",
       "2017-06-30 20:00:00   96.0  35.0  31.0  30.0\n",
       "2017-06-30 21:00:00   90.0  31.0  28.0  16.0\n",
       "2017-06-30 22:00:00   84.0  29.0  26.0  22.0\n",
       "2017-06-30 23:00:00   78.0  27.0  39.0  12.0\n",
       "\n",
       "[14592 rows x 4 columns]"
      ]
     },
     "execution_count": 4,
     "metadata": {},
     "output_type": "execute_result"
    }
   ],
   "source": [
    "train = df_train.pivot(index='DateTime',columns='Junction', values='Vehicles')\n",
    "train"
   ]
  },
  {
   "cell_type": "markdown",
   "metadata": {
    "ExecuteTime": {
     "end_time": "2017-11-18T09:50:40.101929Z",
     "start_time": "2017-11-18T09:50:40.100033Z"
    }
   },
   "source": [
    "## Remove Nan (0 vehicle)"
   ]
  },
  {
   "cell_type": "code",
   "execution_count": 5,
   "metadata": {
    "ExecuteTime": {
     "end_time": "2017-11-18T19:21:57.238944Z",
     "start_time": "2017-11-18T19:21:57.236155Z"
    },
    "collapsed": true
   },
   "outputs": [],
   "source": [
    "train = train.fillna(0)"
   ]
  },
  {
   "cell_type": "markdown",
   "metadata": {},
   "source": [
    "## Normalize the data on 0, 1"
   ]
  },
  {
   "cell_type": "code",
   "execution_count": 6,
   "metadata": {
    "ExecuteTime": {
     "end_time": "2017-11-18T19:21:57.329203Z",
     "start_time": "2017-11-18T19:21:57.240697Z"
    },
    "collapsed": true
   },
   "outputs": [],
   "source": [
    "from sklearn.preprocessing import MinMaxScaler, StandardScaler"
   ]
  },
  {
   "cell_type": "code",
   "execution_count": 7,
   "metadata": {
    "ExecuteTime": {
     "end_time": "2017-11-18T19:21:57.332701Z",
     "start_time": "2017-11-18T19:21:57.330564Z"
    },
    "collapsed": true
   },
   "outputs": [],
   "source": [
    "# scaler = MinMaxScaler(feature_range=(-1, 1))\n",
    "# scaler = StandardScaler()\n",
    "scaler = MinMaxScaler(feature_range=(0, 1))"
   ]
  },
  {
   "cell_type": "code",
   "execution_count": 8,
   "metadata": {
    "ExecuteTime": {
     "end_time": "2017-11-18T19:21:57.339516Z",
     "start_time": "2017-11-18T19:21:57.333877Z"
    },
    "collapsed": true
   },
   "outputs": [],
   "source": [
    "train[train.columns] = scaler.fit_transform(train[train.columns])"
   ]
  },
  {
   "cell_type": "code",
   "execution_count": 9,
   "metadata": {
    "ExecuteTime": {
     "end_time": "2017-11-18T19:21:57.349538Z",
     "start_time": "2017-11-18T19:21:57.340776Z"
    }
   },
   "outputs": [
    {
     "data": {
      "text/html": [
       "<div>\n",
       "<style scoped>\n",
       "    .dataframe tbody tr th:only-of-type {\n",
       "        vertical-align: middle;\n",
       "    }\n",
       "\n",
       "    .dataframe tbody tr th {\n",
       "        vertical-align: top;\n",
       "    }\n",
       "\n",
       "    .dataframe thead th {\n",
       "        text-align: right;\n",
       "    }\n",
       "</style>\n",
       "<table border=\"1\" class=\"dataframe\">\n",
       "  <thead>\n",
       "    <tr style=\"text-align: right;\">\n",
       "      <th>Junction</th>\n",
       "      <th>1</th>\n",
       "      <th>2</th>\n",
       "      <th>3</th>\n",
       "      <th>4</th>\n",
       "    </tr>\n",
       "    <tr>\n",
       "      <th>DateTime</th>\n",
       "      <th></th>\n",
       "      <th></th>\n",
       "      <th></th>\n",
       "      <th></th>\n",
       "    </tr>\n",
       "  </thead>\n",
       "  <tbody>\n",
       "    <tr>\n",
       "      <th>2015-11-01 00:00:00</th>\n",
       "      <td>0.066225</td>\n",
       "      <td>0.106383</td>\n",
       "      <td>0.044693</td>\n",
       "      <td>0.000000</td>\n",
       "    </tr>\n",
       "    <tr>\n",
       "      <th>2015-11-01 01:00:00</th>\n",
       "      <td>0.052980</td>\n",
       "      <td>0.106383</td>\n",
       "      <td>0.033520</td>\n",
       "      <td>0.000000</td>\n",
       "    </tr>\n",
       "    <tr>\n",
       "      <th>2015-11-01 02:00:00</th>\n",
       "      <td>0.033113</td>\n",
       "      <td>0.085106</td>\n",
       "      <td>0.022346</td>\n",
       "      <td>0.000000</td>\n",
       "    </tr>\n",
       "    <tr>\n",
       "      <th>2015-11-01 03:00:00</th>\n",
       "      <td>0.013245</td>\n",
       "      <td>0.106383</td>\n",
       "      <td>0.000000</td>\n",
       "      <td>0.000000</td>\n",
       "    </tr>\n",
       "    <tr>\n",
       "      <th>2015-11-01 04:00:00</th>\n",
       "      <td>0.026490</td>\n",
       "      <td>0.127660</td>\n",
       "      <td>0.005587</td>\n",
       "      <td>0.000000</td>\n",
       "    </tr>\n",
       "    <tr>\n",
       "      <th>...</th>\n",
       "      <td>...</td>\n",
       "      <td>...</td>\n",
       "      <td>...</td>\n",
       "      <td>...</td>\n",
       "    </tr>\n",
       "    <tr>\n",
       "      <th>2017-06-30 19:00:00</th>\n",
       "      <td>0.662252</td>\n",
       "      <td>0.702128</td>\n",
       "      <td>0.178771</td>\n",
       "      <td>0.305556</td>\n",
       "    </tr>\n",
       "    <tr>\n",
       "      <th>2017-06-30 20:00:00</th>\n",
       "      <td>0.602649</td>\n",
       "      <td>0.723404</td>\n",
       "      <td>0.167598</td>\n",
       "      <td>0.833333</td>\n",
       "    </tr>\n",
       "    <tr>\n",
       "      <th>2017-06-30 21:00:00</th>\n",
       "      <td>0.562914</td>\n",
       "      <td>0.638298</td>\n",
       "      <td>0.150838</td>\n",
       "      <td>0.444444</td>\n",
       "    </tr>\n",
       "    <tr>\n",
       "      <th>2017-06-30 22:00:00</th>\n",
       "      <td>0.523179</td>\n",
       "      <td>0.595745</td>\n",
       "      <td>0.139665</td>\n",
       "      <td>0.611111</td>\n",
       "    </tr>\n",
       "    <tr>\n",
       "      <th>2017-06-30 23:00:00</th>\n",
       "      <td>0.483444</td>\n",
       "      <td>0.553191</td>\n",
       "      <td>0.212291</td>\n",
       "      <td>0.333333</td>\n",
       "    </tr>\n",
       "  </tbody>\n",
       "</table>\n",
       "<p>14592 rows × 4 columns</p>\n",
       "</div>"
      ],
      "text/plain": [
       "Junction                    1         2         3         4\n",
       "DateTime                                                   \n",
       "2015-11-01 00:00:00  0.066225  0.106383  0.044693  0.000000\n",
       "2015-11-01 01:00:00  0.052980  0.106383  0.033520  0.000000\n",
       "2015-11-01 02:00:00  0.033113  0.085106  0.022346  0.000000\n",
       "2015-11-01 03:00:00  0.013245  0.106383  0.000000  0.000000\n",
       "2015-11-01 04:00:00  0.026490  0.127660  0.005587  0.000000\n",
       "...                       ...       ...       ...       ...\n",
       "2017-06-30 19:00:00  0.662252  0.702128  0.178771  0.305556\n",
       "2017-06-30 20:00:00  0.602649  0.723404  0.167598  0.833333\n",
       "2017-06-30 21:00:00  0.562914  0.638298  0.150838  0.444444\n",
       "2017-06-30 22:00:00  0.523179  0.595745  0.139665  0.611111\n",
       "2017-06-30 23:00:00  0.483444  0.553191  0.212291  0.333333\n",
       "\n",
       "[14592 rows x 4 columns]"
      ]
     },
     "execution_count": 9,
     "metadata": {},
     "output_type": "execute_result"
    }
   ],
   "source": [
    "train"
   ]
  },
  {
   "cell_type": "markdown",
   "metadata": {},
   "source": [
    "# Generate rolling forecast features"
   ]
  },
  {
   "cell_type": "code",
   "execution_count": 10,
   "metadata": {
    "ExecuteTime": {
     "end_time": "2017-11-18T19:21:57.353711Z",
     "start_time": "2017-11-18T19:21:57.350823Z"
    },
    "collapsed": true
   },
   "outputs": [],
   "source": [
    "nb_forecast_per_junction = 24 * (31 + 31 + 30 + 31) # Days in jul + aug + sep + oct"
   ]
  },
  {
   "cell_type": "code",
   "execution_count": 11,
   "metadata": {
    "ExecuteTime": {
     "end_time": "2017-11-18T19:21:57.364226Z",
     "start_time": "2017-11-18T19:21:57.354653Z"
    }
   },
   "outputs": [
    {
     "data": {
      "text/plain": [
       "2952"
      ]
     },
     "execution_count": 11,
     "metadata": {},
     "output_type": "execute_result"
    }
   ],
   "source": [
    "nb_forecast_per_junction"
   ]
  },
  {
   "cell_type": "code",
   "execution_count": 12,
   "metadata": {
    "ExecuteTime": {
     "end_time": "2017-11-18T19:21:57.369026Z",
     "start_time": "2017-11-18T19:21:57.365556Z"
    }
   },
   "outputs": [
    {
     "data": {
      "text/plain": [
       "11808"
      ]
     },
     "execution_count": 12,
     "metadata": {},
     "output_type": "execute_result"
    }
   ],
   "source": [
    "nb_forecast_per_junction * 4"
   ]
  },
  {
   "cell_type": "markdown",
   "metadata": {},
   "source": [
    "That will certainly not fit in the GPU VRAM --> We will get inspiration from seq2seq models and do a sliding window of time that matches a week."
   ]
  },
  {
   "cell_type": "code",
   "execution_count": 13,
   "metadata": {
    "ExecuteTime": {
     "end_time": "2017-11-18T19:21:57.373453Z",
     "start_time": "2017-11-18T19:21:57.370048Z"
    },
    "collapsed": true
   },
   "outputs": [],
   "source": [
    "num_feats = 4\n",
    "seq_len = 24 # We predict 24 hours\n",
    "num_outputs = 4\n",
    "num_hidden = 7 # We keep the week\n",
    "bs = 1024\n",
    "epochs = 50"
   ]
  },
  {
   "cell_type": "markdown",
   "metadata": {},
   "source": [
    "We originally had 14592 rows, we will generate sequences of predictions from it."
   ]
  },
  {
   "cell_type": "code",
   "execution_count": 14,
   "metadata": {
    "ExecuteTime": {
     "end_time": "2017-11-18T19:21:57.385337Z",
     "start_time": "2017-11-18T19:21:57.374630Z"
    },
    "collapsed": true
   },
   "outputs": [],
   "source": [
    "def make_input_seqs(data, seq_len, train_split=0.9):\n",
    "    seq_len = seq_len + 1\n",
    "    result = []\n",
    "    for index in range(len(data) - seq_len):\n",
    "        result.append(data[index: index + seq_len, :])\n",
    "    result = np.array(result) # shape (14423, 168, 4)\n",
    "    train_ind = round(train_split * result.shape[0])\n",
    "    train = result[:int(train_ind), :, :]\n",
    "    x_train = train[:, :-1, :]\n",
    "    y_train = train[:, -1, :]\n",
    "    x_test = result[int(train_ind):, :-1, :]\n",
    "    y_test = result[int(train_ind):, -1, :]\n",
    "\n",
    "    return [x_train, y_train, x_test, y_test]"
   ]
  },
  {
   "cell_type": "code",
   "execution_count": 15,
   "metadata": {
    "ExecuteTime": {
     "end_time": "2017-11-18T19:21:57.410600Z",
     "start_time": "2017-11-18T19:21:57.386673Z"
    },
    "collapsed": true
   },
   "outputs": [],
   "source": [
    "X_train, y_train, X_test, y_test = make_input_seqs(train.values, seq_len)"
   ]
  },
  {
   "cell_type": "markdown",
   "metadata": {},
   "source": [
    "# Generate model"
   ]
  },
  {
   "cell_type": "markdown",
   "metadata": {},
   "source": [
    "## Loss function"
   ]
  },
  {
   "cell_type": "code",
   "execution_count": 16,
   "metadata": {
    "ExecuteTime": {
     "end_time": "2017-11-18T19:21:57.414929Z",
     "start_time": "2017-11-18T19:21:57.412096Z"
    },
    "collapsed": true
   },
   "outputs": [],
   "source": [
    "import keras.backend as K\n",
    "\n",
    "def root_mean_squared_error(y_true, y_pred):\n",
    "        return K.sqrt(K.mean(K.square(y_pred - y_true), axis=-1)) "
   ]
  },
  {
   "cell_type": "markdown",
   "metadata": {},
   "source": [
    "## Neural net"
   ]
  },
  {
   "cell_type": "code",
   "execution_count": 17,
   "metadata": {
    "ExecuteTime": {
     "end_time": "2017-11-18T19:21:57.419510Z",
     "start_time": "2017-11-18T19:21:57.416545Z"
    },
    "collapsed": true
   },
   "outputs": [],
   "source": [
    "from keras.optimizers import adam, rmsprop"
   ]
  },
  {
   "cell_type": "code",
   "execution_count": null,
   "metadata": {
    "collapsed": true
   },
   "outputs": [],
   "source": []
  },
  {
   "cell_type": "code",
   "execution_count": 18,
   "metadata": {
    "ExecuteTime": {
     "end_time": "2017-11-18T19:21:57.433317Z",
     "start_time": "2017-11-18T19:21:57.420447Z"
    }
   },
   "outputs": [],
   "source": [
    "# adam = adam(clipvalue=0.5) # Clip to avoid exploding gradients\n",
    "rmsprop = rmsprop(lr = 0.0004, decay = 0.002)"
   ]
  },
  {
   "cell_type": "code",
   "execution_count": 19,
   "metadata": {
    "ExecuteTime": {
     "end_time": "2017-11-18T19:21:57.443504Z",
     "start_time": "2017-11-18T19:21:57.434655Z"
    },
    "collapsed": true
   },
   "outputs": [],
   "source": [
    "from keras.layers import *\n",
    "from keras.layers.core import *\n",
    "from keras.layers.recurrent import *\n",
    "from keras.models import *\n",
    "from keras.activations import *"
   ]
  },
  {
   "cell_type": "code",
   "execution_count": 20,
   "metadata": {
    "ExecuteTime": {
     "end_time": "2017-11-18T19:21:57.457282Z",
     "start_time": "2017-11-18T19:21:57.444693Z"
    }
   },
   "outputs": [],
   "source": [
    "def attention_n_days_ago(inputs, days_ago):\n",
    "    # inputs.shape = (batch_size, time_steps, input_dim)\n",
    "    time_steps = days_ago * 24\n",
    "    \n",
    "    # We compute the attention over the seq_len\n",
    "    a = Permute((2, 1))(inputs)\n",
    "    a = Dense(time_steps, activation='softmax')(a)\n",
    "    \n",
    "    # Now we convolute so that it average over the whole time window\n",
    "    feats_depth = int(inputs.shape[2])\n",
    "    avg = Lambda(lambda x: K.expand_dims(x, axis = 1))(inputs)\n",
    "    avg = SeparableConv2D(feats_depth, (1,1))(avg)\n",
    "    avg = Lambda(lambda x: K.squeeze(x, 1))(avg)\n",
    "    \n",
    "    \n",
    "    a_probs = Permute((2, 1), name='attn_' + str(days_ago) + '_days')(avg)\n",
    "    # out = Multiply(name='attn_mul_'+ str(days_ago) +'_days')([inputs, a_probs])\n",
    "    out = Concatenate(name='attention_cat_'+ str(days_ago) +'_days')([inputs, a_probs])\n",
    "    return out"
   ]
  },
  {
   "cell_type": "code",
   "execution_count": 21,
   "metadata": {
    "ExecuteTime": {
     "end_time": "2017-11-18T19:21:57.485014Z",
     "start_time": "2017-11-18T19:21:57.458431Z"
    }
   },
   "outputs": [],
   "source": [
    "def Net(num_feats, seq_len, num_hidden, num_outputs):\n",
    "    x = Input((seq_len, num_feats))\n",
    "\n",
    "    # Encoder RNNs\n",
    "    enc = LSTM(seq_len,\n",
    "               return_sequences=True)(x)\n",
    "    \n",
    "    # Attention decoders\n",
    "    attention_1d = attention_n_days_ago(enc, 1)\n",
    "    attention_1w = attention_n_days_ago(enc, 7)\n",
    "    attention_1m = attention_n_days_ago(enc, 30)\n",
    "    attention_1q = attention_n_days_ago(enc, 92)\n",
    "    attention_1y = attention_n_days_ago(enc, 365)\n",
    "    \n",
    "    att = Concatenate(name='attns_cat', axis = 1)([attention_1d,\n",
    "                                                   attention_1w,\n",
    "                                                   attention_1m,\n",
    "                                                   attention_1q,\n",
    "                                                   attention_1y])\n",
    "    \n",
    "    # How to merge? concat, mul, add, use Dense Layer or Depthwise convolution ?\n",
    "    att = Permute((2, 1))(att)\n",
    "    att = Dense(seq_len, activation=None)(att)\n",
    "    att = Lambda(lambda x: softmax(x, axis = 1))(att) # Flatten along the concat axis\n",
    "    \n",
    "    # Decoder RNN\n",
    "    dec = LSTM(num_hidden,\n",
    "               return_sequences=False)(att)\n",
    "\n",
    "    # Regressor\n",
    "    # Note that Dense is automatically TimeDistributed in Keras 2\n",
    "    out = Dense(num_outputs, activation=None)(dec) # no activation for regression\n",
    "    \n",
    "    model = Model(inputs=x, outputs=out)\n",
    "                          \n",
    "    model.compile(loss= root_mean_squared_error, optimizer= rmsprop)\n",
    "    return model"
   ]
  },
  {
   "cell_type": "code",
   "execution_count": 22,
   "metadata": {
    "ExecuteTime": {
     "end_time": "2017-11-18T19:21:58.232026Z",
     "start_time": "2017-11-18T19:21:57.486318Z"
    }
   },
   "outputs": [],
   "source": [
    "model = Net(num_feats, seq_len, num_hidden, num_outputs)"
   ]
  },
  {
   "cell_type": "code",
   "execution_count": 23,
   "metadata": {
    "ExecuteTime": {
     "end_time": "2017-11-18T19:21:58.243543Z",
     "start_time": "2017-11-18T19:21:58.233729Z"
    }
   },
   "outputs": [
    {
     "name": "stdout",
     "output_type": "stream",
     "text": [
      "__________________________________________________________________________________________________\n",
      "Layer (type)                    Output Shape         Param #     Connected to                     \n",
      "==================================================================================================\n",
      "input_1 (InputLayer)            (None, 24, 4)        0                                            \n",
      "__________________________________________________________________________________________________\n",
      "lstm_1 (LSTM)                   (None, 24, 24)       2784        input_1[0][0]                    \n",
      "__________________________________________________________________________________________________\n",
      "lambda_1 (Lambda)               (None, 1, 24, 24)    0           lstm_1[0][0]                     \n",
      "__________________________________________________________________________________________________\n",
      "lambda_3 (Lambda)               (None, 1, 24, 24)    0           lstm_1[0][0]                     \n",
      "__________________________________________________________________________________________________\n",
      "lambda_5 (Lambda)               (None, 1, 24, 24)    0           lstm_1[0][0]                     \n",
      "__________________________________________________________________________________________________\n",
      "lambda_7 (Lambda)               (None, 1, 24, 24)    0           lstm_1[0][0]                     \n",
      "__________________________________________________________________________________________________\n",
      "lambda_9 (Lambda)               (None, 1, 24, 24)    0           lstm_1[0][0]                     \n",
      "__________________________________________________________________________________________________\n",
      "separable_conv2d_1 (SeparableCo (None, 1, 24, 24)    624         lambda_1[0][0]                   \n",
      "__________________________________________________________________________________________________\n",
      "separable_conv2d_2 (SeparableCo (None, 1, 24, 24)    624         lambda_3[0][0]                   \n",
      "__________________________________________________________________________________________________\n",
      "separable_conv2d_3 (SeparableCo (None, 1, 24, 24)    624         lambda_5[0][0]                   \n",
      "__________________________________________________________________________________________________\n",
      "separable_conv2d_4 (SeparableCo (None, 1, 24, 24)    624         lambda_7[0][0]                   \n",
      "__________________________________________________________________________________________________\n",
      "separable_conv2d_5 (SeparableCo (None, 1, 24, 24)    624         lambda_9[0][0]                   \n",
      "__________________________________________________________________________________________________\n",
      "lambda_2 (Lambda)               (None, 24, 24)       0           separable_conv2d_1[0][0]         \n",
      "__________________________________________________________________________________________________\n",
      "lambda_4 (Lambda)               (None, 24, 24)       0           separable_conv2d_2[0][0]         \n",
      "__________________________________________________________________________________________________\n",
      "lambda_6 (Lambda)               (None, 24, 24)       0           separable_conv2d_3[0][0]         \n",
      "__________________________________________________________________________________________________\n",
      "lambda_8 (Lambda)               (None, 24, 24)       0           separable_conv2d_4[0][0]         \n",
      "__________________________________________________________________________________________________\n",
      "lambda_10 (Lambda)              (None, 24, 24)       0           separable_conv2d_5[0][0]         \n",
      "__________________________________________________________________________________________________\n",
      "attn_1_days (Permute)           (None, 24, 24)       0           lambda_2[0][0]                   \n",
      "__________________________________________________________________________________________________\n",
      "attn_7_days (Permute)           (None, 24, 24)       0           lambda_4[0][0]                   \n",
      "__________________________________________________________________________________________________\n",
      "attn_30_days (Permute)          (None, 24, 24)       0           lambda_6[0][0]                   \n",
      "__________________________________________________________________________________________________\n",
      "attn_92_days (Permute)          (None, 24, 24)       0           lambda_8[0][0]                   \n",
      "__________________________________________________________________________________________________\n",
      "attn_365_days (Permute)         (None, 24, 24)       0           lambda_10[0][0]                  \n",
      "__________________________________________________________________________________________________\n",
      "attention_cat_1_days (Concatena (None, 24, 48)       0           lstm_1[0][0]                     \n",
      "                                                                 attn_1_days[0][0]                \n",
      "__________________________________________________________________________________________________\n",
      "attention_cat_7_days (Concatena (None, 24, 48)       0           lstm_1[0][0]                     \n",
      "                                                                 attn_7_days[0][0]                \n",
      "__________________________________________________________________________________________________\n",
      "attention_cat_30_days (Concaten (None, 24, 48)       0           lstm_1[0][0]                     \n",
      "                                                                 attn_30_days[0][0]               \n",
      "__________________________________________________________________________________________________\n",
      "attention_cat_92_days (Concaten (None, 24, 48)       0           lstm_1[0][0]                     \n",
      "                                                                 attn_92_days[0][0]               \n",
      "__________________________________________________________________________________________________\n",
      "attention_cat_365_days (Concate (None, 24, 48)       0           lstm_1[0][0]                     \n",
      "                                                                 attn_365_days[0][0]              \n",
      "__________________________________________________________________________________________________\n",
      "attns_cat (Concatenate)         (None, 120, 48)      0           attention_cat_1_days[0][0]       \n",
      "                                                                 attention_cat_7_days[0][0]       \n",
      "                                                                 attention_cat_30_days[0][0]      \n",
      "                                                                 attention_cat_92_days[0][0]      \n",
      "                                                                 attention_cat_365_days[0][0]     \n",
      "__________________________________________________________________________________________________\n",
      "permute_6 (Permute)             (None, 48, 120)      0           attns_cat[0][0]                  \n",
      "__________________________________________________________________________________________________\n",
      "dense_6 (Dense)                 (None, 48, 24)       2904        permute_6[0][0]                  \n",
      "__________________________________________________________________________________________________\n",
      "lambda_11 (Lambda)              (None, 48, 24)       0           dense_6[0][0]                    \n",
      "__________________________________________________________________________________________________\n",
      "lstm_2 (LSTM)                   (None, 7)            896         lambda_11[0][0]                  \n",
      "__________________________________________________________________________________________________\n",
      "dense_7 (Dense)                 (None, 4)            32          lstm_2[0][0]                     \n",
      "==================================================================================================\n",
      "Total params: 9,736\n",
      "Trainable params: 9,736\n",
      "Non-trainable params: 0\n",
      "__________________________________________________________________________________________________\n"
     ]
    }
   ],
   "source": [
    "model.summary()"
   ]
  },
  {
   "cell_type": "markdown",
   "metadata": {
    "ExecuteTime": {
     "end_time": "2017-11-18T11:26:59.040374Z",
     "start_time": "2017-11-18T11:26:59.038563Z"
    }
   },
   "source": [
    "### Callbacks"
   ]
  },
  {
   "cell_type": "code",
   "execution_count": 24,
   "metadata": {
    "ExecuteTime": {
     "end_time": "2017-11-18T19:21:58.247559Z",
     "start_time": "2017-11-18T19:21:58.244935Z"
    },
    "collapsed": true
   },
   "outputs": [],
   "source": [
    "from keras.callbacks import History, ModelCheckpoint, CSVLogger, EarlyStopping\n",
    "import time"
   ]
  },
  {
   "cell_type": "code",
   "execution_count": 25,
   "metadata": {
    "ExecuteTime": {
     "end_time": "2017-11-18T19:21:58.256852Z",
     "start_time": "2017-11-18T19:21:58.248964Z"
    },
    "collapsed": true
   },
   "outputs": [],
   "source": [
    "history = History()\n",
    "checkpointer = ModelCheckpoint(filepath=\"checkpoints/\" + time.strftime(\"%Y-%m-%d_%H%M-\")+\"seq2seq-multi-attn-conv2d-softmax3D.hdf5\",\n",
    "                               verbose=1, save_best_only=False)\n",
    "csv_logger = CSVLogger(\"checkpoints/\" + time.strftime(\"%Y-%m-%d_%H%M-\")+'training.log')\n",
    "early_stop = EarlyStopping(monitor='val_loss', min_delta=0, patience=5, verbose=1, mode='auto')"
   ]
  },
  {
   "cell_type": "markdown",
   "metadata": {},
   "source": [
    "# Training"
   ]
  },
  {
   "cell_type": "code",
   "execution_count": 26,
   "metadata": {
    "ExecuteTime": {
     "end_time": "2017-11-18T19:22:43.404570Z",
     "start_time": "2017-11-18T19:21:58.258258Z"
    }
   },
   "outputs": [
    {
     "name": "stdout",
     "output_type": "stream",
     "text": [
      "Train on 12454 samples, validate on 656 samples\n",
      "Epoch 1/50\n",
      "\n",
      " 1024/12454 [=>............................] - ETA: 20s - loss: 0.1748\n",
      " 2048/12454 [===>..........................] - ETA: 9s - loss: 0.1752 \n",
      " 3072/12454 [======>.......................] - ETA: 6s - loss: 0.1747\n",
      " 4096/12454 [========>.....................] - ETA: 4s - loss: 0.1751\n",
      " 5120/12454 [===========>..................] - ETA: 3s - loss: 0.1737\n",
      " 6144/12454 [=============>................] - ETA: 2s - loss: 0.1726\n",
      " 7168/12454 [================>.............] - ETA: 2s - loss: 0.1725\n",
      " 8192/12454 [==================>...........] - ETA: 1s - loss: 0.1713\n",
      " 9216/12454 [=====================>........] - ETA: 1s - loss: 0.1702\n",
      "10240/12454 [=======================>......] - ETA: 0s - loss: 0.1700\n",
      "11264/12454 [==========================>...] - ETA: 0s - loss: 0.1695\n",
      "12288/12454 [============================>.] - ETA: 0s - loss: 0.1690Epoch 00001: saving model to checkpoints/2017-11-18_1921-seq2seq-multi-attn-conv2d-softmax3D.hdf5\n",
      "\n",
      "12454/12454 [==============================] - ETA: 0s - loss: 0.1688 - val_loss: 0.2994\n",
      "Epoch 2/50\n",
      "\n",
      " 1024/12454 [=>............................] - ETA: 1s - loss: 0.1627\n",
      " 2048/12454 [===>..........................] - ETA: 1s - loss: 0.1629\n",
      " 3072/12454 [======>.......................] - ETA: 1s - loss: 0.1622\n",
      " 4096/12454 [========>.....................] - ETA: 0s - loss: 0.1615\n",
      " 5120/12454 [===========>..................] - ETA: 0s - loss: 0.1610\n",
      " 6144/12454 [=============>................] - ETA: 0s - loss: 0.1602\n",
      " 7168/12454 [================>.............] - ETA: 0s - loss: 0.1590\n",
      " 8192/12454 [==================>...........] - ETA: 0s - loss: 0.1588\n",
      " 9216/12454 [=====================>........] - ETA: 0s - loss: 0.1575\n",
      "10240/12454 [=======================>......] - ETA: 0s - loss: 0.1568\n",
      "11264/12454 [==========================>...] - ETA: 0s - loss: 0.1559\n",
      "12288/12454 [============================>.] - ETA: 0s - loss: 0.1552Epoch 00002: saving model to checkpoints/2017-11-18_1921-seq2seq-multi-attn-conv2d-softmax3D.hdf5\n",
      "\n",
      "12454/12454 [==============================] - ETA: 0s - loss: 0.1552 - val_loss: 0.2847\n",
      "Epoch 3/50\n",
      "\n",
      " 1024/12454 [=>............................] - ETA: 1s - loss: 0.1495\n",
      " 2048/12454 [===>..........................] - ETA: 1s - loss: 0.1491\n",
      " 3072/12454 [======>.......................] - ETA: 1s - loss: 0.1483\n",
      " 4096/12454 [========>.....................] - ETA: 0s - loss: 0.1475\n",
      " 5120/12454 [===========>..................] - ETA: 0s - loss: 0.1468\n",
      " 6144/12454 [=============>................] - ETA: 0s - loss: 0.1466\n",
      " 7168/12454 [================>.............] - ETA: 0s - loss: 0.1457\n",
      " 8192/12454 [==================>...........] - ETA: 0s - loss: 0.1454\n",
      " 9216/12454 [=====================>........] - ETA: 0s - loss: 0.1444\n",
      "10240/12454 [=======================>......] - ETA: 0s - loss: 0.1441\n",
      "11264/12454 [==========================>...] - ETA: 0s - loss: 0.1439\n",
      "12288/12454 [============================>.] - ETA: 0s - loss: 0.1436Epoch 00003: saving model to checkpoints/2017-11-18_1921-seq2seq-multi-attn-conv2d-softmax3D.hdf5\n",
      "\n",
      "12454/12454 [==============================] - ETA: 0s - loss: 0.1437 - val_loss: 0.2684\n",
      "Epoch 4/50\n",
      "\n",
      " 1024/12454 [=>............................] - ETA: 1s - loss: 0.1356\n",
      " 2048/12454 [===>..........................] - ETA: 1s - loss: 0.1347\n",
      " 3072/12454 [======>.......................] - ETA: 1s - loss: 0.1350\n",
      " 4096/12454 [========>.....................] - ETA: 0s - loss: 0.1342\n",
      " 5120/12454 [===========>..................] - ETA: 0s - loss: 0.1348\n",
      " 6144/12454 [=============>................] - ETA: 0s - loss: 0.1334\n",
      " 7168/12454 [================>.............] - ETA: 0s - loss: 0.1333\n",
      " 8192/12454 [==================>...........] - ETA: 0s - loss: 0.1332\n",
      " 9216/12454 [=====================>........] - ETA: 0s - loss: 0.1326\n",
      "10240/12454 [=======================>......] - ETA: 0s - loss: 0.1322\n",
      "11264/12454 [==========================>...] - ETA: 0s - loss: 0.1321\n",
      "12288/12454 [============================>.] - ETA: 0s - loss: 0.1320Epoch 00004: saving model to checkpoints/2017-11-18_1921-seq2seq-multi-attn-conv2d-softmax3D.hdf5\n",
      "\n",
      "12454/12454 [==============================] - ETA: 0s - loss: 0.1318 - val_loss: 0.2502\n",
      "Epoch 5/50\n",
      "\n",
      " 1024/12454 [=>............................] - ETA: 1s - loss: 0.1234\n",
      " 2048/12454 [===>..........................] - ETA: 1s - loss: 0.1232\n",
      " 3072/12454 [======>.......................] - ETA: 1s - loss: 0.1238\n",
      " 4096/12454 [========>.....................] - ETA: 0s - loss: 0.1234\n",
      " 5120/12454 [===========>..................] - ETA: 0s - loss: 0.1226\n",
      " 6144/12454 [=============>................] - ETA: 0s - loss: 0.1225\n",
      " 7168/12454 [================>.............] - ETA: 0s - loss: 0.1221\n",
      " 8192/12454 [==================>...........] - ETA: 0s - loss: 0.1216\n",
      " 9216/12454 [=====================>........] - ETA: 0s - loss: 0.1212\n",
      "10240/12454 [=======================>......] - ETA: 0s - loss: 0.1206\n",
      "11264/12454 [==========================>...] - ETA: 0s - loss: 0.1202\n",
      "12288/12454 [============================>.] - ETA: 0s - loss: 0.1194Epoch 00005: saving model to checkpoints/2017-11-18_1921-seq2seq-multi-attn-conv2d-softmax3D.hdf5\n",
      "\n",
      "12454/12454 [==============================] - ETA: 0s - loss: 0.1194 - val_loss: 0.2321\n",
      "Epoch 6/50\n",
      "\n",
      " 1024/12454 [=>............................] - ETA: 1s - loss: 0.1140\n",
      " 2048/12454 [===>..........................] - ETA: 1s - loss: 0.1124\n",
      " 3072/12454 [======>.......................] - ETA: 1s - loss: 0.1121\n",
      " 4096/12454 [========>.....................] - ETA: 0s - loss: 0.1120\n",
      " 5120/12454 [===========>..................] - ETA: 0s - loss: 0.1108\n",
      " 6144/12454 [=============>................] - ETA: 0s - loss: 0.1109\n",
      " 7168/12454 [================>.............] - ETA: 0s - loss: 0.1104\n",
      " 8192/12454 [==================>...........] - ETA: 0s - loss: 0.1097\n",
      " 9216/12454 [=====================>........] - ETA: 0s - loss: 0.1095\n",
      "10240/12454 [=======================>......] - ETA: 0s - loss: 0.1087\n",
      "11264/12454 [==========================>...] - ETA: 0s - loss: 0.1082\n",
      "12288/12454 [============================>.] - ETA: 0s - loss: 0.1082Epoch 00006: saving model to checkpoints/2017-11-18_1921-seq2seq-multi-attn-conv2d-softmax3D.hdf5\n",
      "\n",
      "12454/12454 [==============================] - ETA: 0s - loss: 0.1081 - val_loss: 0.2167\n",
      "Epoch 7/50\n",
      "\n",
      " 1024/12454 [=>............................] - ETA: 1s - loss: 0.1029\n",
      " 2048/12454 [===>..........................] - ETA: 1s - loss: 0.1020\n",
      " 3072/12454 [======>.......................] - ETA: 1s - loss: 0.1021\n",
      " 4096/12454 [========>.....................] - ETA: 0s - loss: 0.1015\n",
      " 5120/12454 [===========>..................] - ETA: 0s - loss: 0.1005\n",
      " 6144/12454 [=============>................] - ETA: 0s - loss: 0.1011\n",
      " 7168/12454 [================>.............] - ETA: 0s - loss: 0.1008\n",
      " 8192/12454 [==================>...........] - ETA: 0s - loss: 0.0997\n",
      " 9216/12454 [=====================>........] - ETA: 0s - loss: 0.0992\n",
      "10240/12454 [=======================>......] - ETA: 0s - loss: 0.0990\n",
      "11264/12454 [==========================>...] - ETA: 0s - loss: 0.0982\n",
      "12288/12454 [============================>.] - ETA: 0s - loss: 0.0981Epoch 00007: saving model to checkpoints/2017-11-18_1921-seq2seq-multi-attn-conv2d-softmax3D.hdf5\n",
      "\n",
      "12454/12454 [==============================] - ETA: 0s - loss: 0.0981 - val_loss: 0.2015\n",
      "Epoch 8/50\n",
      "\n",
      " 1024/12454 [=>............................] - ETA: 1s - loss: 0.0890\n",
      " 2048/12454 [===>..........................] - ETA: 1s - loss: 0.0903\n",
      " 3072/12454 [======>.......................] - ETA: 1s - loss: 0.0912\n",
      " 4096/12454 [========>.....................] - ETA: 0s - loss: 0.0910\n",
      " 5120/12454 [===========>..................] - ETA: 0s - loss: 0.0908\n",
      " 6144/12454 [=============>................] - ETA: 0s - loss: 0.0902\n",
      " 7168/12454 [================>.............] - ETA: 0s - loss: 0.0901\n",
      " 8192/12454 [==================>...........] - ETA: 0s - loss: 0.0894\n",
      " 9216/12454 [=====================>........] - ETA: 0s - loss: 0.0893\n",
      "10240/12454 [=======================>......] - ETA: 0s - loss: 0.0890\n",
      "11264/12454 [==========================>...] - ETA: 0s - loss: 0.0891\n",
      "12288/12454 [============================>.] - ETA: 0s - loss: 0.0888Epoch 00008: saving model to checkpoints/2017-11-18_1921-seq2seq-multi-attn-conv2d-softmax3D.hdf5\n"
     ]
    },
    {
     "name": "stdout",
     "output_type": "stream",
     "text": [
      "\n",
      "12454/12454 [==============================] - ETA: 0s - loss: 0.0888 - val_loss: 0.1848\n",
      "Epoch 9/50\n",
      "\n",
      " 1024/12454 [=>............................] - ETA: 1s - loss: 0.0829\n",
      " 2048/12454 [===>..........................] - ETA: 1s - loss: 0.0844\n",
      " 3072/12454 [======>.......................] - ETA: 1s - loss: 0.0837\n",
      " 4096/12454 [========>.....................] - ETA: 0s - loss: 0.0832\n",
      " 5120/12454 [===========>..................] - ETA: 0s - loss: 0.0824\n",
      " 6144/12454 [=============>................] - ETA: 0s - loss: 0.0821\n",
      " 7168/12454 [================>.............] - ETA: 0s - loss: 0.0823\n",
      " 8192/12454 [==================>...........] - ETA: 0s - loss: 0.0823\n",
      " 9216/12454 [=====================>........] - ETA: 0s - loss: 0.0815\n",
      "10240/12454 [=======================>......] - ETA: 0s - loss: 0.0817\n",
      "11264/12454 [==========================>...] - ETA: 0s - loss: 0.0814\n",
      "12288/12454 [============================>.] - ETA: 0s - loss: 0.0812Epoch 00009: saving model to checkpoints/2017-11-18_1921-seq2seq-multi-attn-conv2d-softmax3D.hdf5\n",
      "\n",
      "12454/12454 [==============================] - ETA: 0s - loss: 0.0812 - val_loss: 0.1691\n",
      "Epoch 10/50\n",
      "\n",
      " 1024/12454 [=>............................] - ETA: 1s - loss: 0.0779\n",
      " 2048/12454 [===>..........................] - ETA: 1s - loss: 0.0769\n",
      " 3072/12454 [======>.......................] - ETA: 1s - loss: 0.0767\n",
      " 4096/12454 [========>.....................] - ETA: 0s - loss: 0.0775\n",
      " 5120/12454 [===========>..................] - ETA: 0s - loss: 0.0770\n",
      " 6144/12454 [=============>................] - ETA: 0s - loss: 0.0771\n",
      " 7168/12454 [================>.............] - ETA: 0s - loss: 0.0770\n",
      " 8192/12454 [==================>...........] - ETA: 0s - loss: 0.0771\n",
      " 9216/12454 [=====================>........] - ETA: 0s - loss: 0.0770\n",
      "10240/12454 [=======================>......] - ETA: 0s - loss: 0.0766\n",
      "11264/12454 [==========================>...] - ETA: 0s - loss: 0.0761\n",
      "12288/12454 [============================>.] - ETA: 0s - loss: 0.0759Epoch 00010: saving model to checkpoints/2017-11-18_1921-seq2seq-multi-attn-conv2d-softmax3D.hdf5\n",
      "\n",
      "12454/12454 [==============================] - ETA: 0s - loss: 0.0759 - val_loss: 0.1536\n",
      "Epoch 11/50\n",
      "\n",
      " 1024/12454 [=>............................] - ETA: 1s - loss: 0.0744\n",
      " 2048/12454 [===>..........................] - ETA: 1s - loss: 0.0741\n",
      " 3072/12454 [======>.......................] - ETA: 1s - loss: 0.0730\n",
      " 4096/12454 [========>.....................] - ETA: 0s - loss: 0.0732\n",
      " 5120/12454 [===========>..................] - ETA: 0s - loss: 0.0730\n",
      " 6144/12454 [=============>................] - ETA: 0s - loss: 0.0729\n",
      " 7168/12454 [================>.............] - ETA: 0s - loss: 0.0730\n",
      " 8192/12454 [==================>...........] - ETA: 0s - loss: 0.0727\n",
      " 9216/12454 [=====================>........] - ETA: 0s - loss: 0.0728\n",
      "10240/12454 [=======================>......] - ETA: 0s - loss: 0.0729\n",
      "11264/12454 [==========================>...] - ETA: 0s - loss: 0.0727\n",
      "12288/12454 [============================>.] - ETA: 0s - loss: 0.0726Epoch 00011: saving model to checkpoints/2017-11-18_1921-seq2seq-multi-attn-conv2d-softmax3D.hdf5\n",
      "\n",
      "12454/12454 [==============================] - ETA: 0s - loss: 0.0727 - val_loss: 0.1399\n",
      "Epoch 12/50\n",
      "\n",
      " 1024/12454 [=>............................] - ETA: 1s - loss: 0.0708\n",
      " 2048/12454 [===>..........................] - ETA: 1s - loss: 0.0709\n",
      " 3072/12454 [======>.......................] - ETA: 1s - loss: 0.0721\n",
      " 4096/12454 [========>.....................] - ETA: 0s - loss: 0.0723\n",
      " 5120/12454 [===========>..................] - ETA: 0s - loss: 0.0721\n",
      " 6144/12454 [=============>................] - ETA: 0s - loss: 0.0716\n",
      " 7168/12454 [================>.............] - ETA: 0s - loss: 0.0714\n",
      " 8192/12454 [==================>...........] - ETA: 0s - loss: 0.0712\n",
      " 9216/12454 [=====================>........] - ETA: 0s - loss: 0.0709\n",
      "10240/12454 [=======================>......] - ETA: 0s - loss: 0.0709\n",
      "11264/12454 [==========================>...] - ETA: 0s - loss: 0.0709\n",
      "12288/12454 [============================>.] - ETA: 0s - loss: 0.0708Epoch 00012: saving model to checkpoints/2017-11-18_1921-seq2seq-multi-attn-conv2d-softmax3D.hdf5\n",
      "\n",
      "12454/12454 [==============================] - ETA: 0s - loss: 0.0707 - val_loss: 0.1310\n",
      "Epoch 13/50\n",
      "\n",
      " 1024/12454 [=>............................] - ETA: 1s - loss: 0.0673\n",
      " 2048/12454 [===>..........................] - ETA: 1s - loss: 0.0676\n",
      " 3072/12454 [======>.......................] - ETA: 1s - loss: 0.0684\n",
      " 4096/12454 [========>.....................] - ETA: 0s - loss: 0.0690\n",
      " 5120/12454 [===========>..................] - ETA: 0s - loss: 0.0694\n",
      " 6144/12454 [=============>................] - ETA: 0s - loss: 0.0694\n",
      " 7168/12454 [================>.............] - ETA: 0s - loss: 0.0695\n",
      " 8192/12454 [==================>...........] - ETA: 0s - loss: 0.0695\n",
      " 9216/12454 [=====================>........] - ETA: 0s - loss: 0.0693\n",
      "10240/12454 [=======================>......] - ETA: 0s - loss: 0.0693\n",
      "11264/12454 [==========================>...] - ETA: 0s - loss: 0.0693\n",
      "12288/12454 [============================>.] - ETA: 0s - loss: 0.0695Epoch 00013: saving model to checkpoints/2017-11-18_1921-seq2seq-multi-attn-conv2d-softmax3D.hdf5\n",
      "\n",
      "12454/12454 [==============================] - ETA: 0s - loss: 0.0694 - val_loss: 0.1236\n",
      "Epoch 14/50\n",
      "\n",
      " 1024/12454 [=>............................] - ETA: 1s - loss: 0.0688\n",
      " 2048/12454 [===>..........................] - ETA: 1s - loss: 0.0686\n",
      " 3072/12454 [======>.......................] - ETA: 1s - loss: 0.0682\n",
      " 4096/12454 [========>.....................] - ETA: 0s - loss: 0.0677\n",
      " 5120/12454 [===========>..................] - ETA: 0s - loss: 0.0677\n",
      " 6144/12454 [=============>................] - ETA: 0s - loss: 0.0677\n",
      " 7168/12454 [================>.............] - ETA: 0s - loss: 0.0677\n",
      " 8192/12454 [==================>...........] - ETA: 0s - loss: 0.0676\n",
      " 9216/12454 [=====================>........] - ETA: 0s - loss: 0.0680\n",
      "10240/12454 [=======================>......] - ETA: 0s - loss: 0.0683\n",
      "11264/12454 [==========================>...] - ETA: 0s - loss: 0.0682\n",
      "12288/12454 [============================>.] - ETA: 0s - loss: 0.0684Epoch 00014: saving model to checkpoints/2017-11-18_1921-seq2seq-multi-attn-conv2d-softmax3D.hdf5\n",
      "\n",
      "12454/12454 [==============================] - ETA: 0s - loss: 0.0684 - val_loss: 0.1175\n",
      "Epoch 15/50\n",
      "\n",
      " 1024/12454 [=>............................] - ETA: 1s - loss: 0.0689\n",
      " 2048/12454 [===>..........................] - ETA: 1s - loss: 0.0684\n",
      " 3072/12454 [======>.......................] - ETA: 1s - loss: 0.0680\n",
      " 4096/12454 [========>.....................] - ETA: 0s - loss: 0.0679\n",
      " 5120/12454 [===========>..................] - ETA: 0s - loss: 0.0678\n",
      " 6144/12454 [=============>................] - ETA: 0s - loss: 0.0677\n",
      " 7168/12454 [================>.............] - ETA: 0s - loss: 0.0676\n",
      " 8192/12454 [==================>...........] - ETA: 0s - loss: 0.0676\n",
      " 9216/12454 [=====================>........] - ETA: 0s - loss: 0.0678\n",
      "10240/12454 [=======================>......] - ETA: 0s - loss: 0.0678\n",
      "11264/12454 [==========================>...] - ETA: 0s - loss: 0.0678\n",
      "12288/12454 [============================>.] - ETA: 0s - loss: 0.0676Epoch 00015: saving model to checkpoints/2017-11-18_1921-seq2seq-multi-attn-conv2d-softmax3D.hdf5\n",
      "\n",
      "12454/12454 [==============================] - ETA: 0s - loss: 0.0677 - val_loss: 0.1130\n",
      "Epoch 16/50\n",
      "\n",
      " 1024/12454 [=>............................] - ETA: 1s - loss: 0.0660\n",
      " 2048/12454 [===>..........................] - ETA: 1s - loss: 0.0672\n",
      " 3072/12454 [======>.......................] - ETA: 1s - loss: 0.0669\n",
      " 4096/12454 [========>.....................] - ETA: 0s - loss: 0.0669\n",
      " 5120/12454 [===========>..................] - ETA: 0s - loss: 0.0671\n",
      " 6144/12454 [=============>................] - ETA: 0s - loss: 0.0671\n",
      " 7168/12454 [================>.............] - ETA: 0s - loss: 0.0674\n",
      " 8192/12454 [==================>...........] - ETA: 0s - loss: 0.0671\n",
      " 9216/12454 [=====================>........] - ETA: 0s - loss: 0.0670\n",
      "10240/12454 [=======================>......] - ETA: 0s - loss: 0.0670\n",
      "11264/12454 [==========================>...] - ETA: 0s - loss: 0.0670\n"
     ]
    },
    {
     "name": "stdout",
     "output_type": "stream",
     "text": [
      "12288/12454 [============================>.] - ETA: 0s - loss: 0.0668Epoch 00016: saving model to checkpoints/2017-11-18_1921-seq2seq-multi-attn-conv2d-softmax3D.hdf5\n",
      "\n",
      "12454/12454 [==============================] - ETA: 0s - loss: 0.0669 - val_loss: 0.1082\n",
      "Epoch 17/50\n",
      "\n",
      " 1024/12454 [=>............................] - ETA: 1s - loss: 0.0674\n",
      " 2048/12454 [===>..........................] - ETA: 1s - loss: 0.0662\n",
      " 3072/12454 [======>.......................] - ETA: 1s - loss: 0.0662\n",
      " 4096/12454 [========>.....................] - ETA: 0s - loss: 0.0664\n",
      " 5120/12454 [===========>..................] - ETA: 0s - loss: 0.0668\n",
      " 6144/12454 [=============>................] - ETA: 0s - loss: 0.0662\n",
      " 7168/12454 [================>.............] - ETA: 0s - loss: 0.0659\n",
      " 8192/12454 [==================>...........] - ETA: 0s - loss: 0.0660\n",
      " 9216/12454 [=====================>........] - ETA: 0s - loss: 0.0662\n",
      "10240/12454 [=======================>......] - ETA: 0s - loss: 0.0661\n",
      "11264/12454 [==========================>...] - ETA: 0s - loss: 0.0664\n",
      "12288/12454 [============================>.] - ETA: 0s - loss: 0.0662Epoch 00017: saving model to checkpoints/2017-11-18_1921-seq2seq-multi-attn-conv2d-softmax3D.hdf5\n",
      "\n",
      "12454/12454 [==============================] - ETA: 0s - loss: 0.0662 - val_loss: 0.1043\n",
      "Epoch 18/50\n",
      "\n",
      " 1024/12454 [=>............................] - ETA: 1s - loss: 0.0664\n",
      " 2048/12454 [===>..........................] - ETA: 1s - loss: 0.0666\n",
      " 3072/12454 [======>.......................] - ETA: 1s - loss: 0.0663\n",
      " 4096/12454 [========>.....................] - ETA: 0s - loss: 0.0657\n",
      " 5120/12454 [===========>..................] - ETA: 0s - loss: 0.0656\n",
      " 6144/12454 [=============>................] - ETA: 0s - loss: 0.0656\n",
      " 7168/12454 [================>.............] - ETA: 0s - loss: 0.0654\n",
      " 8192/12454 [==================>...........] - ETA: 0s - loss: 0.0653\n",
      " 9216/12454 [=====================>........] - ETA: 0s - loss: 0.0654\n",
      "10240/12454 [=======================>......] - ETA: 0s - loss: 0.0657\n",
      "11264/12454 [==========================>...] - ETA: 0s - loss: 0.0658\n",
      "12288/12454 [============================>.] - ETA: 0s - loss: 0.0656Epoch 00018: saving model to checkpoints/2017-11-18_1921-seq2seq-multi-attn-conv2d-softmax3D.hdf5\n",
      "\n",
      "12454/12454 [==============================] - ETA: 0s - loss: 0.0656 - val_loss: 0.1027\n",
      "Epoch 19/50\n",
      "\n",
      " 1024/12454 [=>............................] - ETA: 1s - loss: 0.0658\n",
      " 2048/12454 [===>..........................] - ETA: 1s - loss: 0.0648\n",
      " 3072/12454 [======>.......................] - ETA: 1s - loss: 0.0653\n",
      " 4096/12454 [========>.....................] - ETA: 0s - loss: 0.0650\n",
      " 5120/12454 [===========>..................] - ETA: 0s - loss: 0.0650\n",
      " 6144/12454 [=============>................] - ETA: 0s - loss: 0.0652\n",
      " 7168/12454 [================>.............] - ETA: 0s - loss: 0.0650\n",
      " 8192/12454 [==================>...........] - ETA: 0s - loss: 0.0649\n",
      " 9216/12454 [=====================>........] - ETA: 0s - loss: 0.0651\n",
      "10240/12454 [=======================>......] - ETA: 0s - loss: 0.0650\n",
      "11264/12454 [==========================>...] - ETA: 0s - loss: 0.0651\n",
      "12288/12454 [============================>.] - ETA: 0s - loss: 0.0651Epoch 00019: saving model to checkpoints/2017-11-18_1921-seq2seq-multi-attn-conv2d-softmax3D.hdf5\n",
      "\n",
      "12454/12454 [==============================] - ETA: 0s - loss: 0.0651 - val_loss: 0.1015\n",
      "Epoch 20/50\n",
      "\n",
      " 1024/12454 [=>............................] - ETA: 1s - loss: 0.0643\n",
      " 2048/12454 [===>..........................] - ETA: 1s - loss: 0.0651\n",
      " 3072/12454 [======>.......................] - ETA: 1s - loss: 0.0647\n",
      " 4096/12454 [========>.....................] - ETA: 0s - loss: 0.0646\n",
      " 5120/12454 [===========>..................] - ETA: 0s - loss: 0.0646\n",
      " 6144/12454 [=============>................] - ETA: 0s - loss: 0.0646\n",
      " 7168/12454 [================>.............] - ETA: 0s - loss: 0.0644\n",
      " 8192/12454 [==================>...........] - ETA: 0s - loss: 0.0644\n",
      " 9216/12454 [=====================>........] - ETA: 0s - loss: 0.0644\n",
      "10240/12454 [=======================>......] - ETA: 0s - loss: 0.0646\n",
      "11264/12454 [==========================>...] - ETA: 0s - loss: 0.0647\n",
      "12288/12454 [============================>.] - ETA: 0s - loss: 0.0647Epoch 00020: saving model to checkpoints/2017-11-18_1921-seq2seq-multi-attn-conv2d-softmax3D.hdf5\n",
      "\n",
      "12454/12454 [==============================] - ETA: 0s - loss: 0.0647 - val_loss: 0.1014\n",
      "Epoch 21/50\n",
      "\n",
      " 1024/12454 [=>............................] - ETA: 1s - loss: 0.0637\n",
      " 2048/12454 [===>..........................] - ETA: 1s - loss: 0.0633\n",
      " 3072/12454 [======>.......................] - ETA: 1s - loss: 0.0637\n",
      " 4096/12454 [========>.....................] - ETA: 0s - loss: 0.0637\n",
      " 5120/12454 [===========>..................] - ETA: 0s - loss: 0.0634\n",
      " 6144/12454 [=============>................] - ETA: 0s - loss: 0.0636\n",
      " 7168/12454 [================>.............] - ETA: 0s - loss: 0.0638\n",
      " 8192/12454 [==================>...........] - ETA: 0s - loss: 0.0640\n",
      " 9216/12454 [=====================>........] - ETA: 0s - loss: 0.0641\n",
      "10240/12454 [=======================>......] - ETA: 0s - loss: 0.0641\n",
      "11264/12454 [==========================>...] - ETA: 0s - loss: 0.0643\n",
      "12288/12454 [============================>.] - ETA: 0s - loss: 0.0641Epoch 00021: saving model to checkpoints/2017-11-18_1921-seq2seq-multi-attn-conv2d-softmax3D.hdf5\n",
      "\n",
      "12454/12454 [==============================] - ETA: 0s - loss: 0.0641 - val_loss: 0.0998\n",
      "Epoch 22/50\n",
      "\n",
      " 1024/12454 [=>............................] - ETA: 1s - loss: 0.0641\n",
      " 2048/12454 [===>..........................] - ETA: 1s - loss: 0.0648\n",
      " 3072/12454 [======>.......................] - ETA: 1s - loss: 0.0644\n",
      " 4096/12454 [========>.....................] - ETA: 0s - loss: 0.0639\n",
      " 5120/12454 [===========>..................] - ETA: 0s - loss: 0.0639\n",
      " 6144/12454 [=============>................] - ETA: 0s - loss: 0.0640\n",
      " 7168/12454 [================>.............] - ETA: 0s - loss: 0.0637\n",
      " 8192/12454 [==================>...........] - ETA: 0s - loss: 0.0639\n",
      " 9216/12454 [=====================>........] - ETA: 0s - loss: 0.0638\n",
      "10240/12454 [=======================>......] - ETA: 0s - loss: 0.0639\n",
      "11264/12454 [==========================>...] - ETA: 0s - loss: 0.0639\n",
      "12288/12454 [============================>.] - ETA: 0s - loss: 0.0637Epoch 00022: saving model to checkpoints/2017-11-18_1921-seq2seq-multi-attn-conv2d-softmax3D.hdf5\n",
      "\n",
      "12454/12454 [==============================] - ETA: 0s - loss: 0.0637 - val_loss: 0.1006\n",
      "Epoch 23/50\n",
      "\n",
      " 1024/12454 [=>............................] - ETA: 1s - loss: 0.0630\n",
      " 2048/12454 [===>..........................] - ETA: 1s - loss: 0.0627\n",
      " 3072/12454 [======>.......................] - ETA: 1s - loss: 0.0628\n",
      " 4096/12454 [========>.....................] - ETA: 0s - loss: 0.0629\n",
      " 5120/12454 [===========>..................] - ETA: 0s - loss: 0.0629\n",
      " 6144/12454 [=============>................] - ETA: 0s - loss: 0.0632\n",
      " 7168/12454 [================>.............] - ETA: 0s - loss: 0.0633\n",
      " 8192/12454 [==================>...........] - ETA: 0s - loss: 0.0630\n",
      " 9216/12454 [=====================>........] - ETA: 0s - loss: 0.0631\n",
      "10240/12454 [=======================>......] - ETA: 0s - loss: 0.0631\n",
      "11264/12454 [==========================>...] - ETA: 0s - loss: 0.0630\n",
      "12288/12454 [============================>.] - ETA: 0s - loss: 0.0631Epoch 00023: saving model to checkpoints/2017-11-18_1921-seq2seq-multi-attn-conv2d-softmax3D.hdf5\n",
      "\n",
      "12454/12454 [==============================] - ETA: 0s - loss: 0.0631 - val_loss: 0.1016\n",
      "Epoch 24/50\n",
      "\n",
      " 1024/12454 [=>............................] - ETA: 1s - loss: 0.0636\n",
      " 2048/12454 [===>..........................] - ETA: 1s - loss: 0.0620\n",
      " 3072/12454 [======>.......................] - ETA: 1s - loss: 0.0621\n",
      " 4096/12454 [========>.....................] - ETA: 0s - loss: 0.0623\n",
      " 5120/12454 [===========>..................] - ETA: 0s - loss: 0.0624\n",
      " 6144/12454 [=============>................] - ETA: 0s - loss: 0.0624\n",
      " 7168/12454 [================>.............] - ETA: 0s - loss: 0.0627\n",
      " 8192/12454 [==================>...........] - ETA: 0s - loss: 0.0629\n",
      " 9216/12454 [=====================>........] - ETA: 0s - loss: 0.0630\n"
     ]
    },
    {
     "name": "stdout",
     "output_type": "stream",
     "text": [
      "10240/12454 [=======================>......] - ETA: 0s - loss: 0.0630\n",
      "11264/12454 [==========================>...] - ETA: 0s - loss: 0.0628\n",
      "12288/12454 [============================>.] - ETA: 0s - loss: 0.0626Epoch 00024: saving model to checkpoints/2017-11-18_1921-seq2seq-multi-attn-conv2d-softmax3D.hdf5\n",
      "\n",
      "12454/12454 [==============================] - ETA: 0s - loss: 0.0626 - val_loss: 0.0973\n",
      "Epoch 25/50\n",
      "\n",
      " 1024/12454 [=>............................] - ETA: 1s - loss: 0.0631\n",
      " 2048/12454 [===>..........................] - ETA: 1s - loss: 0.0625\n",
      " 3072/12454 [======>.......................] - ETA: 1s - loss: 0.0624\n",
      " 4096/12454 [========>.....................] - ETA: 0s - loss: 0.0621\n",
      " 5120/12454 [===========>..................] - ETA: 0s - loss: 0.0621\n",
      " 6144/12454 [=============>................] - ETA: 0s - loss: 0.0621\n",
      " 7168/12454 [================>.............] - ETA: 0s - loss: 0.0622\n",
      " 8192/12454 [==================>...........] - ETA: 0s - loss: 0.0621\n",
      " 9216/12454 [=====================>........] - ETA: 0s - loss: 0.0621\n",
      "10240/12454 [=======================>......] - ETA: 0s - loss: 0.0620\n",
      "11264/12454 [==========================>...] - ETA: 0s - loss: 0.0622\n",
      "12288/12454 [============================>.] - ETA: 0s - loss: 0.0620Epoch 00025: saving model to checkpoints/2017-11-18_1921-seq2seq-multi-attn-conv2d-softmax3D.hdf5\n",
      "\n",
      "12454/12454 [==============================] - ETA: 0s - loss: 0.0620 - val_loss: 0.0981\n",
      "Epoch 26/50\n",
      "\n",
      " 1024/12454 [=>............................] - ETA: 1s - loss: 0.0611\n",
      " 2048/12454 [===>..........................] - ETA: 1s - loss: 0.0611\n",
      " 3072/12454 [======>.......................] - ETA: 1s - loss: 0.0610\n",
      " 4096/12454 [========>.....................] - ETA: 0s - loss: 0.0608\n",
      " 5120/12454 [===========>..................] - ETA: 0s - loss: 0.0609\n",
      " 6144/12454 [=============>................] - ETA: 0s - loss: 0.0612\n",
      " 7168/12454 [================>.............] - ETA: 0s - loss: 0.0612\n",
      " 8192/12454 [==================>...........] - ETA: 0s - loss: 0.0612\n",
      " 9216/12454 [=====================>........] - ETA: 0s - loss: 0.0614\n",
      "10240/12454 [=======================>......] - ETA: 0s - loss: 0.0612\n",
      "11264/12454 [==========================>...] - ETA: 0s - loss: 0.0613\n",
      "12288/12454 [============================>.] - ETA: 0s - loss: 0.0615Epoch 00026: saving model to checkpoints/2017-11-18_1921-seq2seq-multi-attn-conv2d-softmax3D.hdf5\n",
      "\n",
      "12454/12454 [==============================] - ETA: 0s - loss: 0.0614 - val_loss: 0.0971\n",
      "Epoch 27/50\n",
      "\n",
      " 1024/12454 [=>............................] - ETA: 1s - loss: 0.0612\n",
      " 2048/12454 [===>..........................] - ETA: 1s - loss: 0.0612\n",
      " 3072/12454 [======>.......................] - ETA: 1s - loss: 0.0611\n",
      " 4096/12454 [========>.....................] - ETA: 0s - loss: 0.0613\n",
      " 5120/12454 [===========>..................] - ETA: 0s - loss: 0.0614\n",
      " 6144/12454 [=============>................] - ETA: 0s - loss: 0.0613\n",
      " 7168/12454 [================>.............] - ETA: 0s - loss: 0.0615\n",
      " 8192/12454 [==================>...........] - ETA: 0s - loss: 0.0612\n",
      " 9216/12454 [=====================>........] - ETA: 0s - loss: 0.0612\n",
      "10240/12454 [=======================>......] - ETA: 0s - loss: 0.0609\n",
      "11264/12454 [==========================>...] - ETA: 0s - loss: 0.0610\n",
      "12288/12454 [============================>.] - ETA: 0s - loss: 0.0609Epoch 00027: saving model to checkpoints/2017-11-18_1921-seq2seq-multi-attn-conv2d-softmax3D.hdf5\n",
      "\n",
      "12454/12454 [==============================] - ETA: 0s - loss: 0.0609 - val_loss: 0.0961\n",
      "Epoch 28/50\n",
      "\n",
      " 1024/12454 [=>............................] - ETA: 1s - loss: 0.0631\n",
      " 2048/12454 [===>..........................] - ETA: 1s - loss: 0.0627\n",
      " 3072/12454 [======>.......................] - ETA: 1s - loss: 0.0616\n",
      " 4096/12454 [========>.....................] - ETA: 0s - loss: 0.0609\n",
      " 5120/12454 [===========>..................] - ETA: 0s - loss: 0.0609\n",
      " 6144/12454 [=============>................] - ETA: 0s - loss: 0.0609\n",
      " 7168/12454 [================>.............] - ETA: 0s - loss: 0.0608\n",
      " 8192/12454 [==================>...........] - ETA: 0s - loss: 0.0605\n",
      " 9216/12454 [=====================>........] - ETA: 0s - loss: 0.0604\n",
      "10240/12454 [=======================>......] - ETA: 0s - loss: 0.0604\n",
      "11264/12454 [==========================>...] - ETA: 0s - loss: 0.0603\n",
      "12288/12454 [============================>.] - ETA: 0s - loss: 0.0603Epoch 00028: saving model to checkpoints/2017-11-18_1921-seq2seq-multi-attn-conv2d-softmax3D.hdf5\n",
      "\n",
      "12454/12454 [==============================] - ETA: 0s - loss: 0.0602 - val_loss: 0.0957\n",
      "Epoch 29/50\n",
      "\n",
      " 1024/12454 [=>............................] - ETA: 1s - loss: 0.0599\n",
      " 2048/12454 [===>..........................] - ETA: 1s - loss: 0.0600\n",
      " 3072/12454 [======>.......................] - ETA: 1s - loss: 0.0604\n",
      " 4096/12454 [========>.....................] - ETA: 0s - loss: 0.0601\n",
      " 5120/12454 [===========>..................] - ETA: 0s - loss: 0.0600\n",
      " 6144/12454 [=============>................] - ETA: 0s - loss: 0.0598\n",
      " 7168/12454 [================>.............] - ETA: 0s - loss: 0.0598\n",
      " 8192/12454 [==================>...........] - ETA: 0s - loss: 0.0597\n",
      " 9216/12454 [=====================>........] - ETA: 0s - loss: 0.0599\n",
      "10240/12454 [=======================>......] - ETA: 0s - loss: 0.0597\n",
      "11264/12454 [==========================>...] - ETA: 0s - loss: 0.0598\n",
      "12288/12454 [============================>.] - ETA: 0s - loss: 0.0597Epoch 00029: saving model to checkpoints/2017-11-18_1921-seq2seq-multi-attn-conv2d-softmax3D.hdf5\n",
      "\n",
      "12454/12454 [==============================] - ETA: 0s - loss: 0.0597 - val_loss: 0.0947\n",
      "Epoch 30/50\n",
      "\n",
      " 1024/12454 [=>............................] - ETA: 1s - loss: 0.0597\n",
      " 2048/12454 [===>..........................] - ETA: 1s - loss: 0.0601\n",
      " 3072/12454 [======>.......................] - ETA: 1s - loss: 0.0604\n",
      " 4096/12454 [========>.....................] - ETA: 0s - loss: 0.0603\n",
      " 5120/12454 [===========>..................] - ETA: 0s - loss: 0.0600\n",
      " 6144/12454 [=============>................] - ETA: 0s - loss: 0.0600\n",
      " 7168/12454 [================>.............] - ETA: 0s - loss: 0.0600\n",
      " 8192/12454 [==================>...........] - ETA: 0s - loss: 0.0598\n",
      " 9216/12454 [=====================>........] - ETA: 0s - loss: 0.0597\n",
      "10240/12454 [=======================>......] - ETA: 0s - loss: 0.0593\n",
      "11264/12454 [==========================>...] - ETA: 0s - loss: 0.0591\n",
      "12288/12454 [============================>.] - ETA: 0s - loss: 0.0590Epoch 00030: saving model to checkpoints/2017-11-18_1921-seq2seq-multi-attn-conv2d-softmax3D.hdf5\n",
      "\n",
      "12454/12454 [==============================] - ETA: 0s - loss: 0.0590 - val_loss: 0.0936\n",
      "Epoch 31/50\n",
      "\n",
      " 1024/12454 [=>............................] - ETA: 1s - loss: 0.0593\n",
      " 2048/12454 [===>..........................] - ETA: 1s - loss: 0.0585\n",
      " 3072/12454 [======>.......................] - ETA: 1s - loss: 0.0586\n",
      " 4096/12454 [========>.....................] - ETA: 0s - loss: 0.0584\n",
      " 5120/12454 [===========>..................] - ETA: 0s - loss: 0.0585\n",
      " 6144/12454 [=============>................] - ETA: 0s - loss: 0.0583\n",
      " 7168/12454 [================>.............] - ETA: 0s - loss: 0.0581\n",
      " 8192/12454 [==================>...........] - ETA: 0s - loss: 0.0582\n",
      " 9216/12454 [=====================>........] - ETA: 0s - loss: 0.0581\n",
      "10240/12454 [=======================>......] - ETA: 0s - loss: 0.0584\n",
      "11264/12454 [==========================>...] - ETA: 0s - loss: 0.0586\n",
      "12288/12454 [============================>.] - ETA: 0s - loss: 0.0585Epoch 00031: saving model to checkpoints/2017-11-18_1921-seq2seq-multi-attn-conv2d-softmax3D.hdf5\n",
      "\n",
      "12454/12454 [==============================] - ETA: 0s - loss: 0.0585 - val_loss: 0.0933\n",
      "Epoch 32/50\n",
      "\n",
      " 1024/12454 [=>............................] - ETA: 1s - loss: 0.0572\n",
      " 2048/12454 [===>..........................] - ETA: 1s - loss: 0.0577\n",
      " 3072/12454 [======>.......................] - ETA: 1s - loss: 0.0580\n",
      " 4096/12454 [========>.....................] - ETA: 0s - loss: 0.0578\n",
      " 5120/12454 [===========>..................] - ETA: 0s - loss: 0.0577\n",
      " 6144/12454 [=============>................] - ETA: 0s - loss: 0.0577\n",
      " 7168/12454 [================>.............] - ETA: 0s - loss: 0.0575\n"
     ]
    },
    {
     "name": "stdout",
     "output_type": "stream",
     "text": [
      " 8192/12454 [==================>...........] - ETA: 0s - loss: 0.0577\n",
      " 9216/12454 [=====================>........] - ETA: 0s - loss: 0.0579\n",
      "10240/12454 [=======================>......] - ETA: 0s - loss: 0.0580\n",
      "11264/12454 [==========================>...] - ETA: 0s - loss: 0.0580\n",
      "12288/12454 [============================>.] - ETA: 0s - loss: 0.0578Epoch 00032: saving model to checkpoints/2017-11-18_1921-seq2seq-multi-attn-conv2d-softmax3D.hdf5\n",
      "\n",
      "12454/12454 [==============================] - ETA: 0s - loss: 0.0578 - val_loss: 0.0918\n",
      "Epoch 33/50\n",
      "\n",
      " 1024/12454 [=>............................] - ETA: 1s - loss: 0.0574\n",
      " 2048/12454 [===>..........................] - ETA: 1s - loss: 0.0570\n",
      " 3072/12454 [======>.......................] - ETA: 1s - loss: 0.0575\n",
      " 4096/12454 [========>.....................] - ETA: 0s - loss: 0.0577\n",
      " 5120/12454 [===========>..................] - ETA: 0s - loss: 0.0577\n",
      " 6144/12454 [=============>................] - ETA: 0s - loss: 0.0577\n",
      " 7168/12454 [================>.............] - ETA: 0s - loss: 0.0574\n",
      " 8192/12454 [==================>...........] - ETA: 0s - loss: 0.0571\n",
      " 9216/12454 [=====================>........] - ETA: 0s - loss: 0.0572\n",
      "10240/12454 [=======================>......] - ETA: 0s - loss: 0.0573\n",
      "11264/12454 [==========================>...] - ETA: 0s - loss: 0.0573\n",
      "12288/12454 [============================>.] - ETA: 0s - loss: 0.0572Epoch 00033: saving model to checkpoints/2017-11-18_1921-seq2seq-multi-attn-conv2d-softmax3D.hdf5\n",
      "\n",
      "12454/12454 [==============================] - ETA: 0s - loss: 0.0572 - val_loss: 0.0908\n",
      "Epoch 34/50\n",
      "\n",
      " 1024/12454 [=>............................] - ETA: 1s - loss: 0.0571\n",
      " 2048/12454 [===>..........................] - ETA: 1s - loss: 0.0576\n",
      " 3072/12454 [======>.......................] - ETA: 1s - loss: 0.0580\n",
      " 4096/12454 [========>.....................] - ETA: 1s - loss: 0.0578\n",
      " 5120/12454 [===========>..................] - ETA: 0s - loss: 0.0573\n",
      " 6144/12454 [=============>................] - ETA: 0s - loss: 0.0574\n",
      " 7168/12454 [================>.............] - ETA: 0s - loss: 0.0573\n",
      " 8192/12454 [==================>...........] - ETA: 0s - loss: 0.0572\n",
      " 9216/12454 [=====================>........] - ETA: 0s - loss: 0.0570\n",
      "10240/12454 [=======================>......] - ETA: 0s - loss: 0.0568\n",
      "11264/12454 [==========================>...] - ETA: 0s - loss: 0.0566\n",
      "12288/12454 [============================>.] - ETA: 0s - loss: 0.0564Epoch 00034: saving model to checkpoints/2017-11-18_1921-seq2seq-multi-attn-conv2d-softmax3D.hdf5\n",
      "\n",
      "12454/12454 [==============================] - ETA: 0s - loss: 0.0565 - val_loss: 0.0906\n",
      "Epoch 35/50\n",
      "\n",
      " 1024/12454 [=>............................] - ETA: 1s - loss: 0.0555\n",
      " 2048/12454 [===>..........................] - ETA: 1s - loss: 0.0564\n",
      " 3072/12454 [======>.......................] - ETA: 1s - loss: 0.0571\n",
      " 4096/12454 [========>.....................] - ETA: 0s - loss: 0.0562\n",
      " 5120/12454 [===========>..................] - ETA: 0s - loss: 0.0562\n",
      " 6144/12454 [=============>................] - ETA: 0s - loss: 0.0559\n",
      " 7168/12454 [================>.............] - ETA: 0s - loss: 0.0556\n",
      " 8192/12454 [==================>...........] - ETA: 0s - loss: 0.0557\n",
      " 9216/12454 [=====================>........] - ETA: 0s - loss: 0.0559\n",
      "10240/12454 [=======================>......] - ETA: 0s - loss: 0.0560\n",
      "11264/12454 [==========================>...] - ETA: 0s - loss: 0.0561\n",
      "12288/12454 [============================>.] - ETA: 0s - loss: 0.0560Epoch 00035: saving model to checkpoints/2017-11-18_1921-seq2seq-multi-attn-conv2d-softmax3D.hdf5\n",
      "\n",
      "12454/12454 [==============================] - ETA: 0s - loss: 0.0560 - val_loss: 0.0893\n",
      "Epoch 36/50\n",
      "\n",
      " 1024/12454 [=>............................] - ETA: 1s - loss: 0.0557\n",
      " 2048/12454 [===>..........................] - ETA: 1s - loss: 0.0551\n",
      " 3072/12454 [======>.......................] - ETA: 1s - loss: 0.0558\n",
      " 4096/12454 [========>.....................] - ETA: 0s - loss: 0.0556\n",
      " 5120/12454 [===========>..................] - ETA: 0s - loss: 0.0559\n",
      " 6144/12454 [=============>................] - ETA: 0s - loss: 0.0558\n",
      " 7168/12454 [================>.............] - ETA: 0s - loss: 0.0557\n",
      " 8192/12454 [==================>...........] - ETA: 0s - loss: 0.0556\n",
      " 9216/12454 [=====================>........] - ETA: 0s - loss: 0.0554\n",
      "10240/12454 [=======================>......] - ETA: 0s - loss: 0.0555\n",
      "11264/12454 [==========================>...] - ETA: 0s - loss: 0.0555\n",
      "12288/12454 [============================>.] - ETA: 0s - loss: 0.0553Epoch 00036: saving model to checkpoints/2017-11-18_1921-seq2seq-multi-attn-conv2d-softmax3D.hdf5\n",
      "\n",
      "12454/12454 [==============================] - ETA: 0s - loss: 0.0553 - val_loss: 0.0892\n",
      "Epoch 37/50\n",
      "\n",
      " 1024/12454 [=>............................] - ETA: 1s - loss: 0.0552\n",
      " 2048/12454 [===>..........................] - ETA: 1s - loss: 0.0555\n",
      " 3072/12454 [======>.......................] - ETA: 1s - loss: 0.0552\n",
      " 4096/12454 [========>.....................] - ETA: 0s - loss: 0.0551\n",
      " 5120/12454 [===========>..................] - ETA: 0s - loss: 0.0552\n",
      " 6144/12454 [=============>................] - ETA: 0s - loss: 0.0552\n",
      " 7168/12454 [================>.............] - ETA: 0s - loss: 0.0549\n",
      " 8192/12454 [==================>...........] - ETA: 0s - loss: 0.0549\n",
      " 9216/12454 [=====================>........] - ETA: 0s - loss: 0.0549\n",
      "10240/12454 [=======================>......] - ETA: 0s - loss: 0.0549\n",
      "11264/12454 [==========================>...] - ETA: 0s - loss: 0.0549\n",
      "12288/12454 [============================>.] - ETA: 0s - loss: 0.0550Epoch 00037: saving model to checkpoints/2017-11-18_1921-seq2seq-multi-attn-conv2d-softmax3D.hdf5\n",
      "\n",
      "12454/12454 [==============================] - ETA: 0s - loss: 0.0550 - val_loss: 0.0889\n",
      "Epoch 38/50\n",
      "\n",
      " 1024/12454 [=>............................] - ETA: 1s - loss: 0.0563\n",
      " 2048/12454 [===>..........................] - ETA: 1s - loss: 0.0545\n",
      " 3072/12454 [======>.......................] - ETA: 1s - loss: 0.0546\n",
      " 4096/12454 [========>.....................] - ETA: 0s - loss: 0.0544\n",
      " 5120/12454 [===========>..................] - ETA: 0s - loss: 0.0541\n",
      " 6144/12454 [=============>................] - ETA: 0s - loss: 0.0543\n",
      " 7168/12454 [================>.............] - ETA: 0s - loss: 0.0546\n",
      " 8192/12454 [==================>...........] - ETA: 0s - loss: 0.0543\n",
      " 9216/12454 [=====================>........] - ETA: 0s - loss: 0.0545\n",
      "10240/12454 [=======================>......] - ETA: 0s - loss: 0.0544\n",
      "11264/12454 [==========================>...] - ETA: 0s - loss: 0.0544\n",
      "12288/12454 [============================>.] - ETA: 0s - loss: 0.0543Epoch 00038: saving model to checkpoints/2017-11-18_1921-seq2seq-multi-attn-conv2d-softmax3D.hdf5\n",
      "\n",
      "12454/12454 [==============================] - ETA: 0s - loss: 0.0543 - val_loss: 0.0871\n",
      "Epoch 39/50\n",
      "\n",
      " 1024/12454 [=>............................] - ETA: 1s - loss: 0.0547\n",
      " 2048/12454 [===>..........................] - ETA: 1s - loss: 0.0539\n",
      " 3072/12454 [======>.......................] - ETA: 1s - loss: 0.0538\n",
      " 4096/12454 [========>.....................] - ETA: 0s - loss: 0.0539\n",
      " 5120/12454 [===========>..................] - ETA: 0s - loss: 0.0537\n",
      " 6144/12454 [=============>................] - ETA: 0s - loss: 0.0538\n",
      " 7168/12454 [================>.............] - ETA: 0s - loss: 0.0537\n",
      " 8192/12454 [==================>...........] - ETA: 0s - loss: 0.0538\n",
      " 9216/12454 [=====================>........] - ETA: 0s - loss: 0.0538\n",
      "10240/12454 [=======================>......] - ETA: 0s - loss: 0.0537\n",
      "11264/12454 [==========================>...] - ETA: 0s - loss: 0.0537\n",
      "12288/12454 [============================>.] - ETA: 0s - loss: 0.0537Epoch 00039: saving model to checkpoints/2017-11-18_1921-seq2seq-multi-attn-conv2d-softmax3D.hdf5\n",
      "\n",
      "12454/12454 [==============================] - ETA: 0s - loss: 0.0537 - val_loss: 0.0862\n",
      "Epoch 40/50\n",
      "\n",
      " 1024/12454 [=>............................] - ETA: 1s - loss: 0.0528\n",
      " 2048/12454 [===>..........................] - ETA: 1s - loss: 0.0530\n",
      " 3072/12454 [======>.......................] - ETA: 1s - loss: 0.0536\n",
      " 4096/12454 [========>.....................] - ETA: 0s - loss: 0.0539\n",
      " 5120/12454 [===========>..................] - ETA: 0s - loss: 0.0540\n"
     ]
    },
    {
     "name": "stdout",
     "output_type": "stream",
     "text": [
      " 6144/12454 [=============>................] - ETA: 0s - loss: 0.0536\n",
      " 7168/12454 [================>.............] - ETA: 0s - loss: 0.0533\n",
      " 8192/12454 [==================>...........] - ETA: 0s - loss: 0.0533\n",
      " 9216/12454 [=====================>........] - ETA: 0s - loss: 0.0533\n",
      "10240/12454 [=======================>......] - ETA: 0s - loss: 0.0534\n",
      "11264/12454 [==========================>...] - ETA: 0s - loss: 0.0533\n",
      "12288/12454 [============================>.] - ETA: 0s - loss: 0.0533Epoch 00040: saving model to checkpoints/2017-11-18_1921-seq2seq-multi-attn-conv2d-softmax3D.hdf5\n",
      "\n",
      "12454/12454 [==============================] - ETA: 0s - loss: 0.0534 - val_loss: 0.0855\n",
      "Epoch 41/50\n",
      "\n",
      " 1024/12454 [=>............................] - ETA: 1s - loss: 0.0531\n",
      " 2048/12454 [===>..........................] - ETA: 1s - loss: 0.0524\n",
      " 3072/12454 [======>.......................] - ETA: 1s - loss: 0.0527\n",
      " 4096/12454 [========>.....................] - ETA: 0s - loss: 0.0531\n",
      " 5120/12454 [===========>..................] - ETA: 0s - loss: 0.0531\n",
      " 6144/12454 [=============>................] - ETA: 0s - loss: 0.0534\n",
      " 7168/12454 [================>.............] - ETA: 0s - loss: 0.0532\n",
      " 8192/12454 [==================>...........] - ETA: 0s - loss: 0.0532\n",
      " 9216/12454 [=====================>........] - ETA: 0s - loss: 0.0533\n",
      "10240/12454 [=======================>......] - ETA: 0s - loss: 0.0533\n",
      "11264/12454 [==========================>...] - ETA: 0s - loss: 0.0531\n",
      "12288/12454 [============================>.] - ETA: 0s - loss: 0.0529Epoch 00041: saving model to checkpoints/2017-11-18_1921-seq2seq-multi-attn-conv2d-softmax3D.hdf5\n",
      "\n",
      "12454/12454 [==============================] - ETA: 0s - loss: 0.0529 - val_loss: 0.0847\n",
      "Epoch 42/50\n",
      "\n",
      " 1024/12454 [=>............................] - ETA: 1s - loss: 0.0546\n",
      " 2048/12454 [===>..........................] - ETA: 1s - loss: 0.0528\n",
      " 3072/12454 [======>.......................] - ETA: 1s - loss: 0.0528\n",
      " 4096/12454 [========>.....................] - ETA: 0s - loss: 0.0526\n",
      " 5120/12454 [===========>..................] - ETA: 0s - loss: 0.0521\n",
      " 6144/12454 [=============>................] - ETA: 0s - loss: 0.0521\n",
      " 7168/12454 [================>.............] - ETA: 0s - loss: 0.0525\n",
      " 8192/12454 [==================>...........] - ETA: 0s - loss: 0.0524\n",
      " 9216/12454 [=====================>........] - ETA: 0s - loss: 0.0523\n",
      "10240/12454 [=======================>......] - ETA: 0s - loss: 0.0525\n",
      "11264/12454 [==========================>...] - ETA: 0s - loss: 0.0524\n",
      "12288/12454 [============================>.] - ETA: 0s - loss: 0.0523Epoch 00042: saving model to checkpoints/2017-11-18_1921-seq2seq-multi-attn-conv2d-softmax3D.hdf5\n",
      "\n",
      "12454/12454 [==============================] - ETA: 0s - loss: 0.0524 - val_loss: 0.0853\n",
      "Epoch 43/50\n",
      "\n",
      " 1024/12454 [=>............................] - ETA: 1s - loss: 0.0532\n",
      " 2048/12454 [===>..........................] - ETA: 1s - loss: 0.0532\n",
      " 3072/12454 [======>.......................] - ETA: 1s - loss: 0.0527\n",
      " 4096/12454 [========>.....................] - ETA: 0s - loss: 0.0524\n",
      " 5120/12454 [===========>..................] - ETA: 0s - loss: 0.0524\n",
      " 6144/12454 [=============>................] - ETA: 0s - loss: 0.0524\n",
      " 7168/12454 [================>.............] - ETA: 0s - loss: 0.0523\n",
      " 8192/12454 [==================>...........] - ETA: 0s - loss: 0.0524\n",
      " 9216/12454 [=====================>........] - ETA: 0s - loss: 0.0523\n",
      "10240/12454 [=======================>......] - ETA: 0s - loss: 0.0523\n",
      "11264/12454 [==========================>...] - ETA: 0s - loss: 0.0522\n",
      "12288/12454 [============================>.] - ETA: 0s - loss: 0.0522Epoch 00043: saving model to checkpoints/2017-11-18_1921-seq2seq-multi-attn-conv2d-softmax3D.hdf5\n",
      "\n",
      "12454/12454 [==============================] - ETA: 0s - loss: 0.0522 - val_loss: 0.0868\n",
      "Epoch 44/50\n",
      "\n",
      " 1024/12454 [=>............................] - ETA: 1s - loss: 0.0522\n",
      " 2048/12454 [===>..........................] - ETA: 1s - loss: 0.0513\n",
      " 3072/12454 [======>.......................] - ETA: 1s - loss: 0.0518\n",
      " 4096/12454 [========>.....................] - ETA: 0s - loss: 0.0513\n",
      " 5120/12454 [===========>..................] - ETA: 0s - loss: 0.0513\n",
      " 6144/12454 [=============>................] - ETA: 0s - loss: 0.0515\n",
      " 7168/12454 [================>.............] - ETA: 0s - loss: 0.0518\n",
      " 8192/12454 [==================>...........] - ETA: 0s - loss: 0.0518\n",
      " 9216/12454 [=====================>........] - ETA: 0s - loss: 0.0517\n",
      "10240/12454 [=======================>......] - ETA: 0s - loss: 0.0516\n",
      "11264/12454 [==========================>...] - ETA: 0s - loss: 0.0515\n",
      "12288/12454 [============================>.] - ETA: 0s - loss: 0.0516Epoch 00044: saving model to checkpoints/2017-11-18_1921-seq2seq-multi-attn-conv2d-softmax3D.hdf5\n",
      "\n",
      "12454/12454 [==============================] - ETA: 0s - loss: 0.0517 - val_loss: 0.0838\n",
      "Epoch 45/50\n",
      "\n",
      " 1024/12454 [=>............................] - ETA: 1s - loss: 0.0522\n",
      " 2048/12454 [===>..........................] - ETA: 1s - loss: 0.0524\n",
      " 3072/12454 [======>.......................] - ETA: 1s - loss: 0.0519\n",
      " 4096/12454 [========>.....................] - ETA: 0s - loss: 0.0515\n",
      " 5120/12454 [===========>..................] - ETA: 0s - loss: 0.0515\n",
      " 6144/12454 [=============>................] - ETA: 0s - loss: 0.0514\n",
      " 7168/12454 [================>.............] - ETA: 0s - loss: 0.0514\n",
      " 8192/12454 [==================>...........] - ETA: 0s - loss: 0.0515\n",
      " 9216/12454 [=====================>........] - ETA: 0s - loss: 0.0514\n",
      "10240/12454 [=======================>......] - ETA: 0s - loss: 0.0512\n",
      "11264/12454 [==========================>...] - ETA: 0s - loss: 0.0512\n",
      "12288/12454 [============================>.] - ETA: 0s - loss: 0.0513Epoch 00045: saving model to checkpoints/2017-11-18_1921-seq2seq-multi-attn-conv2d-softmax3D.hdf5\n",
      "\n",
      "12454/12454 [==============================] - ETA: 0s - loss: 0.0513 - val_loss: 0.0870\n",
      "Epoch 46/50\n",
      "\n",
      " 1024/12454 [=>............................] - ETA: 1s - loss: 0.0531\n",
      " 2048/12454 [===>..........................] - ETA: 1s - loss: 0.0531\n",
      " 3072/12454 [======>.......................] - ETA: 1s - loss: 0.0530\n",
      " 4096/12454 [========>.....................] - ETA: 0s - loss: 0.0524\n",
      " 5120/12454 [===========>..................] - ETA: 0s - loss: 0.0518\n",
      " 6144/12454 [=============>................] - ETA: 0s - loss: 0.0519\n",
      " 7168/12454 [================>.............] - ETA: 0s - loss: 0.0517\n",
      " 8192/12454 [==================>...........] - ETA: 0s - loss: 0.0515\n",
      " 9216/12454 [=====================>........] - ETA: 0s - loss: 0.0514\n",
      "10240/12454 [=======================>......] - ETA: 0s - loss: 0.0512\n",
      "11264/12454 [==========================>...] - ETA: 0s - loss: 0.0513\n",
      "12288/12454 [============================>.] - ETA: 0s - loss: 0.0512Epoch 00046: saving model to checkpoints/2017-11-18_1921-seq2seq-multi-attn-conv2d-softmax3D.hdf5\n",
      "\n",
      "12454/12454 [==============================] - ETA: 0s - loss: 0.0513 - val_loss: 0.0867\n",
      "Epoch 47/50\n",
      "\n",
      " 1024/12454 [=>............................] - ETA: 1s - loss: 0.0500\n",
      " 2048/12454 [===>..........................] - ETA: 1s - loss: 0.0506\n",
      " 3072/12454 [======>.......................] - ETA: 1s - loss: 0.0503\n",
      " 4096/12454 [========>.....................] - ETA: 0s - loss: 0.0501\n",
      " 5120/12454 [===========>..................] - ETA: 0s - loss: 0.0505\n",
      " 6144/12454 [=============>................] - ETA: 0s - loss: 0.0501\n",
      " 7168/12454 [================>.............] - ETA: 0s - loss: 0.0503\n",
      " 8192/12454 [==================>...........] - ETA: 0s - loss: 0.0502\n",
      " 9216/12454 [=====================>........] - ETA: 0s - loss: 0.0504\n",
      "10240/12454 [=======================>......] - ETA: 0s - loss: 0.0506\n",
      "11264/12454 [==========================>...] - ETA: 0s - loss: 0.0507\n",
      "12288/12454 [============================>.] - ETA: 0s - loss: 0.0507Epoch 00047: saving model to checkpoints/2017-11-18_1921-seq2seq-multi-attn-conv2d-softmax3D.hdf5\n",
      "\n",
      "12454/12454 [==============================] - ETA: 0s - loss: 0.0508 - val_loss: 0.0838\n",
      "Epoch 48/50\n",
      "\n",
      " 1024/12454 [=>............................] - ETA: 1s - loss: 0.0492\n",
      " 2048/12454 [===>..........................] - ETA: 1s - loss: 0.0508\n",
      " 3072/12454 [======>.......................] - ETA: 1s - loss: 0.0506\n"
     ]
    },
    {
     "name": "stdout",
     "output_type": "stream",
     "text": [
      " 4096/12454 [========>.....................] - ETA: 0s - loss: 0.0505\n",
      " 5120/12454 [===========>..................] - ETA: 0s - loss: 0.0506\n",
      " 6144/12454 [=============>................] - ETA: 0s - loss: 0.0505\n",
      " 7168/12454 [================>.............] - ETA: 0s - loss: 0.0505\n",
      " 8192/12454 [==================>...........] - ETA: 0s - loss: 0.0504\n",
      " 9216/12454 [=====================>........] - ETA: 0s - loss: 0.0505\n",
      "10240/12454 [=======================>......] - ETA: 0s - loss: 0.0504\n",
      "11264/12454 [==========================>...] - ETA: 0s - loss: 0.0504\n",
      "12288/12454 [============================>.] - ETA: 0s - loss: 0.0505Epoch 00048: saving model to checkpoints/2017-11-18_1921-seq2seq-multi-attn-conv2d-softmax3D.hdf5\n",
      "\n",
      "12454/12454 [==============================] - ETA: 0s - loss: 0.0504 - val_loss: 0.0826\n",
      "Epoch 49/50\n",
      "\n",
      " 1024/12454 [=>............................] - ETA: 1s - loss: 0.0483\n",
      " 2048/12454 [===>..........................] - ETA: 1s - loss: 0.0491\n",
      " 3072/12454 [======>.......................] - ETA: 1s - loss: 0.0489\n",
      " 4096/12454 [========>.....................] - ETA: 0s - loss: 0.0494\n",
      " 5120/12454 [===========>..................] - ETA: 0s - loss: 0.0499\n",
      " 6144/12454 [=============>................] - ETA: 0s - loss: 0.0501\n",
      " 7168/12454 [================>.............] - ETA: 0s - loss: 0.0498\n",
      " 8192/12454 [==================>...........] - ETA: 0s - loss: 0.0497\n",
      " 9216/12454 [=====================>........] - ETA: 0s - loss: 0.0499\n",
      "10240/12454 [=======================>......] - ETA: 0s - loss: 0.0498\n",
      "11264/12454 [==========================>...] - ETA: 0s - loss: 0.0501\n",
      "12288/12454 [============================>.] - ETA: 0s - loss: 0.0501Epoch 00049: saving model to checkpoints/2017-11-18_1921-seq2seq-multi-attn-conv2d-softmax3D.hdf5\n",
      "\n",
      "12454/12454 [==============================] - ETA: 0s - loss: 0.0501 - val_loss: 0.0853\n",
      "Epoch 50/50\n",
      "\n",
      " 1024/12454 [=>............................] - ETA: 1s - loss: 0.0508\n",
      " 2048/12454 [===>..........................] - ETA: 1s - loss: 0.0508\n",
      " 3072/12454 [======>.......................] - ETA: 1s - loss: 0.0515\n",
      " 4096/12454 [========>.....................] - ETA: 0s - loss: 0.0511\n",
      " 5120/12454 [===========>..................] - ETA: 0s - loss: 0.0506\n",
      " 6144/12454 [=============>................] - ETA: 0s - loss: 0.0505\n",
      " 7168/12454 [================>.............] - ETA: 0s - loss: 0.0502\n",
      " 8192/12454 [==================>...........] - ETA: 0s - loss: 0.0498\n",
      " 9216/12454 [=====================>........] - ETA: 0s - loss: 0.0500\n",
      "10240/12454 [=======================>......] - ETA: 0s - loss: 0.0500\n",
      "11264/12454 [==========================>...] - ETA: 0s - loss: 0.0500\n",
      "12288/12454 [============================>.] - ETA: 0s - loss: 0.0500Epoch 00050: saving model to checkpoints/2017-11-18_1921-seq2seq-multi-attn-conv2d-softmax3D.hdf5\n",
      "\n",
      "12454/12454 [==============================] - ETA: 0s - loss: 0.0500 - val_loss: 0.0843\n"
     ]
    },
    {
     "data": {
      "text/plain": [
       "<keras.callbacks.History at 0x7f0386ccacc0>"
      ]
     },
     "execution_count": 26,
     "metadata": {},
     "output_type": "execute_result"
    }
   ],
   "source": [
    "model.fit(X_train, y_train,\n",
    "          batch_size=bs,\n",
    "          epochs=epochs,\n",
    "          validation_split=0.05,\n",
    "          callbacks=[history,checkpointer,csv_logger,early_stop])"
   ]
  },
  {
   "cell_type": "markdown",
   "metadata": {
    "ExecuteTime": {
     "end_time": "2017-11-18T10:32:08.713366Z",
     "start_time": "2017-11-18T10:32:08.708839Z"
    }
   },
   "source": [
    "# Validation"
   ]
  },
  {
   "cell_type": "markdown",
   "metadata": {
    "ExecuteTime": {
     "end_time": "2017-11-18T10:32:08.707276Z",
     "start_time": "2017-11-18T10:32:08.705151Z"
    }
   },
   "source": [
    "## Validation by feeding truth values"
   ]
  },
  {
   "cell_type": "code",
   "execution_count": 27,
   "metadata": {
    "ExecuteTime": {
     "end_time": "2017-11-18T19:22:43.413309Z",
     "start_time": "2017-11-18T19:22:43.406359Z"
    },
    "collapsed": true
   },
   "outputs": [],
   "source": [
    "def plot_preds(y_truth, y_pred):\n",
    "    for junction in range(4):\n",
    "        plt.figure\n",
    "        plt.plot(y_truth[:,junction], color = 'blue', label = 'Real traffic')\n",
    "        plt.plot(y_pred[:,junction], color = 'orange', label = 'Predicted traffic')\n",
    "        plt.title('Traffic Forecasting at junction %i' % (junction+1))\n",
    "        plt.xlabel('Number of hours from Start')\n",
    "        plt.ylabel('Traffic')\n",
    "        plt.legend()\n",
    "        plt.show()"
   ]
  },
  {
   "cell_type": "markdown",
   "metadata": {},
   "source": [
    "### Prediction"
   ]
  },
  {
   "cell_type": "code",
   "execution_count": 28,
   "metadata": {
    "ExecuteTime": {
     "end_time": "2017-11-18T19:22:44.070423Z",
     "start_time": "2017-11-18T19:22:43.414803Z"
    },
    "collapsed": true
   },
   "outputs": [],
   "source": [
    "y_pred = model.predict(X_test)"
   ]
  },
  {
   "cell_type": "code",
   "execution_count": 29,
   "metadata": {
    "ExecuteTime": {
     "end_time": "2017-11-18T19:22:44.074667Z",
     "start_time": "2017-11-18T19:22:44.071882Z"
    }
   },
   "outputs": [
    {
     "data": {
      "text/plain": [
       "(1457, 4)"
      ]
     },
     "execution_count": 29,
     "metadata": {},
     "output_type": "execute_result"
    }
   ],
   "source": [
    "y_pred.shape"
   ]
  },
  {
   "cell_type": "markdown",
   "metadata": {},
   "source": [
    "### Plot & score"
   ]
  },
  {
   "cell_type": "code",
   "execution_count": 30,
   "metadata": {
    "ExecuteTime": {
     "end_time": "2017-11-18T19:22:44.483287Z",
     "start_time": "2017-11-18T19:22:44.075787Z"
    }
   },
   "outputs": [
    {
     "data": {
      "image/png": "[encoded data removed]",
      "text/plain": [
       "<matplotlib.figure.Figure at 0x7f036d247898>"
      ]
     },
     "metadata": {},
     "output_type": "display_data"
    },
    {
     "data": {
      "image/png": "[encoded data removed]",
      "text/plain": [
       "<matplotlib.figure.Figure at 0x7f036cc6beb8>"
      ]
     },
     "metadata": {},
     "output_type": "display_data"
    },
    {
     "data": {
      "image/png": "[encoded data removed]",
      "text/plain": [
       "<matplotlib.figure.Figure at 0x7f036d2f8160>"
      ]
     },
     "metadata": {},
     "output_type": "display_data"
    },
    {
     "data": {
      "image/png": "[encoded data removed]",
      "text/plain": [
       "<matplotlib.figure.Figure at 0x7f036cc73ba8>"
      ]
     },
     "metadata": {},
     "output_type": "display_data"
    }
   ],
   "source": [
    "plot_preds(y_test, y_pred)"
   ]
  },
  {
   "cell_type": "code",
   "execution_count": 31,
   "metadata": {
    "ExecuteTime": {
     "end_time": "2017-11-18T19:22:44.493529Z",
     "start_time": "2017-11-18T19:22:44.484619Z"
    },
    "collapsed": true
   },
   "outputs": [],
   "source": [
    "from sklearn.metrics import mean_squared_error\n",
    "from math import sqrt\n",
    "\n",
    "def rmse(y_true, y_pred):\n",
    "    return sqrt(mean_squared_error(y_true, y_pred))"
   ]
  },
  {
   "cell_type": "code",
   "execution_count": 32,
   "metadata": {
    "ExecuteTime": {
     "end_time": "2017-11-18T19:22:44.498890Z",
     "start_time": "2017-11-18T19:22:44.495134Z"
    }
   },
   "outputs": [
    {
     "data": {
      "text/plain": [
       "0.1192147347650415"
      ]
     },
     "execution_count": 32,
     "metadata": {},
     "output_type": "execute_result"
    }
   ],
   "source": [
    "rmse(y_test, y_pred)"
   ]
  },
  {
   "cell_type": "markdown",
   "metadata": {},
   "source": [
    "## Validation by feeding predicted values"
   ]
  },
  {
   "cell_type": "code",
   "execution_count": 33,
   "metadata": {
    "ExecuteTime": {
     "end_time": "2017-11-18T19:22:44.507954Z",
     "start_time": "2017-11-18T19:22:44.500384Z"
    },
    "collapsed": true
   },
   "outputs": [],
   "source": [
    "def pred_seq(model, to_pred, w_size, num_preds=None):\n",
    "    if num_preds == None:\n",
    "        num_preds = to_pred.shape[0]\n",
    "    current = to_pred[0]\n",
    "    predicted = []\n",
    "    for i in range(num_preds):\n",
    "        predicted.append(model.predict(current[np.newaxis,:,:])[0,:])\n",
    "        current = current[1:]\n",
    "        current = np.insert(current, [w_size-1], predicted[-1], axis=0)\n",
    "    return np.asarray(predicted)"
   ]
  },
  {
   "cell_type": "markdown",
   "metadata": {},
   "source": [
    "### We add truth values from the previous year"
   ]
  },
  {
   "cell_type": "code",
   "execution_count": 34,
   "metadata": {
    "ExecuteTime": {
     "end_time": "2017-11-18T19:22:44.517326Z",
     "start_time": "2017-11-18T19:22:44.509250Z"
    },
    "collapsed": true
   },
   "outputs": [],
   "source": [
    "year_sample = 24 * 365"
   ]
  },
  {
   "cell_type": "code",
   "execution_count": 35,
   "metadata": {
    "ExecuteTime": {
     "end_time": "2017-11-18T19:22:44.522819Z",
     "start_time": "2017-11-18T19:22:44.518793Z"
    }
   },
   "outputs": [
    {
     "name": "stdout",
     "output_type": "stream",
     "text": [
      "(1457, 24, 4)\n",
      "(13110, 24, 4)\n"
     ]
    }
   ],
   "source": [
    "print(X_test.shape)\n",
    "print(X_train.shape)"
   ]
  },
  {
   "cell_type": "code",
   "execution_count": 36,
   "metadata": {
    "ExecuteTime": {
     "end_time": "2017-11-18T19:22:44.539279Z",
     "start_time": "2017-11-18T19:22:44.524302Z"
    }
   },
   "outputs": [],
   "source": [
    "X_test = np.concatenate([X_train[:-year_sample, :, :], X_test])"
   ]
  },
  {
   "cell_type": "code",
   "execution_count": 37,
   "metadata": {
    "ExecuteTime": {
     "end_time": "2017-11-18T19:22:44.543918Z",
     "start_time": "2017-11-18T19:22:44.540931Z"
    }
   },
   "outputs": [
    {
     "name": "stdout",
     "output_type": "stream",
     "text": [
      "(5807, 24, 4)\n"
     ]
    }
   ],
   "source": [
    "print(X_test.shape)"
   ]
  },
  {
   "cell_type": "markdown",
   "metadata": {},
   "source": [
    "### Predictions"
   ]
  },
  {
   "cell_type": "code",
   "execution_count": 38,
   "metadata": {
    "ExecuteTime": {
     "end_time": "2017-11-18T19:23:56.527870Z",
     "start_time": "2017-11-18T19:22:44.545105Z"
    }
   },
   "outputs": [],
   "source": [
    "seqpreds = pred_seq(model, X_test, seq_len)"
   ]
  },
  {
   "cell_type": "code",
   "execution_count": 39,
   "metadata": {
    "ExecuteTime": {
     "end_time": "2017-11-18T19:23:56.531675Z",
     "start_time": "2017-11-18T19:23:56.529186Z"
    }
   },
   "outputs": [
    {
     "data": {
      "text/plain": [
       "(5807, 4)"
      ]
     },
     "execution_count": 39,
     "metadata": {},
     "output_type": "execute_result"
    }
   ],
   "source": [
    "seqpreds.shape"
   ]
  },
  {
   "cell_type": "markdown",
   "metadata": {
    "ExecuteTime": {
     "end_time": "2017-11-18T18:55:12.579556Z",
     "start_time": "2017-11-18T18:55:12.577584Z"
    }
   },
   "source": [
    "### Prediction done, we remove the values from previous year"
   ]
  },
  {
   "cell_type": "code",
   "execution_count": 40,
   "metadata": {
    "ExecuteTime": {
     "end_time": "2017-11-18T19:23:56.537596Z",
     "start_time": "2017-11-18T19:23:56.532689Z"
    }
   },
   "outputs": [
    {
     "name": "stdout",
     "output_type": "stream",
     "text": [
      "(5807, 24, 4)\n",
      "(5807, 4)\n"
     ]
    }
   ],
   "source": [
    "X_test = X_test[-year_sample:, :, :]\n",
    "seqpreds = seqpreds[-year_sample:, :]\n",
    "print(X_test.shape)\n",
    "print(seqpreds.shape)"
   ]
  },
  {
   "cell_type": "markdown",
   "metadata": {},
   "source": [
    "### Plot & score"
   ]
  },
  {
   "cell_type": "code",
   "execution_count": 41,
   "metadata": {
    "ExecuteTime": {
     "end_time": "2017-11-18T19:23:56.867666Z",
     "start_time": "2017-11-18T19:23:56.538573Z"
    }
   },
   "outputs": [
    {
     "data": {
      "image/png": "[encoded data removed]",
      "text/plain": [
       "<matplotlib.figure.Figure at 0x7f036d45cc18>"
      ]
     },
     "metadata": {},
     "output_type": "display_data"
    },
    {
     "data": {
      "image/png": "[encoded data removed]",
      "text/plain": [
       "<matplotlib.figure.Figure at 0x7f036d4756a0>"
      ]
     },
     "metadata": {},
     "output_type": "display_data"
    },
    {
     "data": {
      "image/png": "[encoded data removed]",
      "text/plain": [
       "<matplotlib.figure.Figure at 0x7f036d34def0>"
      ]
     },
     "metadata": {},
     "output_type": "display_data"
    },
    {
     "data": {
      "image/png": "[encoded data removed]",
      "text/plain": [
       "<matplotlib.figure.Figure at 0x7f036d3083c8>"
      ]
     },
     "metadata": {},
     "output_type": "display_data"
    }
   ],
   "source": [
    "plot_preds(y_test, seqpreds)"
   ]
  },
  {
   "cell_type": "code",
   "execution_count": 42,
   "metadata": {
    "ExecuteTime": {
     "end_time": "2017-11-18T19:23:56.985377Z",
     "start_time": "2017-11-18T19:23:56.869014Z"
    }
   },
   "outputs": [
    {
     "ename": "ValueError",
     "evalue": "Found input variables with inconsistent numbers of samples: [1457, 5807]",
     "output_type": "error",
     "traceback": [
      "\u001b[0;31m---------------------------------------------------------------------------\u001b[0m",
      "\u001b[0;31mValueError\u001b[0m                                Traceback (most recent call last)",
      "\u001b[0;32m<ipython-input-42-8baa9d58a180>\u001b[0m in \u001b[0;36m<module>\u001b[0;34m()\u001b[0m\n\u001b[0;32m----> 1\u001b[0;31m \u001b[0mrmse\u001b[0m\u001b[0;34m(\u001b[0m\u001b[0my_test\u001b[0m\u001b[0;34m,\u001b[0m \u001b[0mseqpreds\u001b[0m\u001b[0;34m)\u001b[0m\u001b[0;34m\u001b[0m\u001b[0m\n\u001b[0m",
      "\u001b[0;32m<ipython-input-31-6aaafa7c34f0>\u001b[0m in \u001b[0;36mrmse\u001b[0;34m(y_true, y_pred)\u001b[0m\n\u001b[1;32m      3\u001b[0m \u001b[0;34m\u001b[0m\u001b[0m\n\u001b[1;32m      4\u001b[0m \u001b[0;32mdef\u001b[0m \u001b[0mrmse\u001b[0m\u001b[0;34m(\u001b[0m\u001b[0my_true\u001b[0m\u001b[0;34m,\u001b[0m \u001b[0my_pred\u001b[0m\u001b[0;34m)\u001b[0m\u001b[0;34m:\u001b[0m\u001b[0;34m\u001b[0m\u001b[0m\n\u001b[0;32m----> 5\u001b[0;31m     \u001b[0;32mreturn\u001b[0m \u001b[0msqrt\u001b[0m\u001b[0;34m(\u001b[0m\u001b[0mmean_squared_error\u001b[0m\u001b[0;34m(\u001b[0m\u001b[0my_true\u001b[0m\u001b[0;34m,\u001b[0m \u001b[0my_pred\u001b[0m\u001b[0;34m)\u001b[0m\u001b[0;34m)\u001b[0m\u001b[0;34m\u001b[0m\u001b[0m\n\u001b[0m",
      "\u001b[0;32m/usr/lib/python3.6/site-packages/sklearn/metrics/regression.py\u001b[0m in \u001b[0;36mmean_squared_error\u001b[0;34m(y_true, y_pred, sample_weight, multioutput)\u001b[0m\n\u001b[1;32m    236\u001b[0m     \"\"\"\n\u001b[1;32m    237\u001b[0m     y_type, y_true, y_pred, multioutput = _check_reg_targets(\n\u001b[0;32m--> 238\u001b[0;31m         y_true, y_pred, multioutput)\n\u001b[0m\u001b[1;32m    239\u001b[0m     output_errors = np.average((y_true - y_pred) ** 2, axis=0,\n\u001b[1;32m    240\u001b[0m                                weights=sample_weight)\n",
      "\u001b[0;32m/usr/lib/python3.6/site-packages/sklearn/metrics/regression.py\u001b[0m in \u001b[0;36m_check_reg_targets\u001b[0;34m(y_true, y_pred, multioutput)\u001b[0m\n\u001b[1;32m     73\u001b[0m \u001b[0;34m\u001b[0m\u001b[0m\n\u001b[1;32m     74\u001b[0m     \"\"\"\n\u001b[0;32m---> 75\u001b[0;31m     \u001b[0mcheck_consistent_length\u001b[0m\u001b[0;34m(\u001b[0m\u001b[0my_true\u001b[0m\u001b[0;34m,\u001b[0m \u001b[0my_pred\u001b[0m\u001b[0;34m)\u001b[0m\u001b[0;34m\u001b[0m\u001b[0m\n\u001b[0m\u001b[1;32m     76\u001b[0m     \u001b[0my_true\u001b[0m \u001b[0;34m=\u001b[0m \u001b[0mcheck_array\u001b[0m\u001b[0;34m(\u001b[0m\u001b[0my_true\u001b[0m\u001b[0;34m,\u001b[0m \u001b[0mensure_2d\u001b[0m\u001b[0;34m=\u001b[0m\u001b[0;32mFalse\u001b[0m\u001b[0;34m)\u001b[0m\u001b[0;34m\u001b[0m\u001b[0m\n\u001b[1;32m     77\u001b[0m     \u001b[0my_pred\u001b[0m \u001b[0;34m=\u001b[0m \u001b[0mcheck_array\u001b[0m\u001b[0;34m(\u001b[0m\u001b[0my_pred\u001b[0m\u001b[0;34m,\u001b[0m \u001b[0mensure_2d\u001b[0m\u001b[0;34m=\u001b[0m\u001b[0;32mFalse\u001b[0m\u001b[0;34m)\u001b[0m\u001b[0;34m\u001b[0m\u001b[0m\n",
      "\u001b[0;32m/usr/lib/python3.6/site-packages/sklearn/utils/validation.py\u001b[0m in \u001b[0;36mcheck_consistent_length\u001b[0;34m(*arrays)\u001b[0m\n\u001b[1;32m    171\u001b[0m     \u001b[0;32mif\u001b[0m \u001b[0mlen\u001b[0m\u001b[0;34m(\u001b[0m\u001b[0muniques\u001b[0m\u001b[0;34m)\u001b[0m \u001b[0;34m>\u001b[0m \u001b[0;36m1\u001b[0m\u001b[0;34m:\u001b[0m\u001b[0;34m\u001b[0m\u001b[0m\n\u001b[1;32m    172\u001b[0m         raise ValueError(\"Found input variables with inconsistent numbers of\"\n\u001b[0;32m--> 173\u001b[0;31m                          \" samples: %r\" % [int(l) for l in lengths])\n\u001b[0m\u001b[1;32m    174\u001b[0m \u001b[0;34m\u001b[0m\u001b[0m\n\u001b[1;32m    175\u001b[0m \u001b[0;34m\u001b[0m\u001b[0m\n",
      "\u001b[0;31mValueError\u001b[0m: Found input variables with inconsistent numbers of samples: [1457, 5807]"
     ]
    }
   ],
   "source": [
    "rmse(y_test, seqpreds)"
   ]
  },
  {
   "cell_type": "code",
   "execution_count": null,
   "metadata": {
    "collapsed": true
   },
   "outputs": [],
   "source": []
  }
 ],
 "metadata": {
  "kernelspec": {
   "display_name": "Python 3",
   "language": "python",
   "name": "python3"
  },
  "language_info": {
   "codemirror_mode": {
    "name": "ipython",
    "version": 3
   },
   "file_extension": ".py",
   "mimetype": "text/x-python",
   "name": "python",
   "nbconvert_exporter": "python",
   "pygments_lexer": "ipython3",
   "version": "3.6.2"
  }
 },
 "nbformat": 4,
 "nbformat_minor": 2
}
