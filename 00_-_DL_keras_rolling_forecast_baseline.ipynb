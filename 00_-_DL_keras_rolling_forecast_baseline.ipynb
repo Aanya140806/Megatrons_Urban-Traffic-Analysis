{
 "cells": [
  {
   "cell_type": "code",
   "execution_count": 1,
   "metadata": {
    "ExecuteTime": {
     "end_time": "2017-11-18T20:13:05.474869Z",
     "start_time": "2017-11-18T20:13:03.998158Z"
    }
   },
   "outputs": [
    {
     "name": "stderr",
     "output_type": "stream",
     "text": [
      "Using TensorFlow backend.\n"
     ]
    }
   ],
   "source": [
    "import numpy as np\n",
    "import pandas as pd\n",
    "import matplotlib.pyplot as plt\n",
    "import time\n",
    "\n",
    "from keras.layers.core import Dense, Activation, Dropout\n",
    "from keras.layers.recurrent import LSTM\n",
    "from keras.models import Sequential\n",
    "from keras.initializers import he_normal\n",
    "%matplotlib inline\n",
    "\n",
    "# Display only top 5 and bottom 5 rows\n",
    "pd.set_option('display.max_rows', 10)"
   ]
  },
  {
   "cell_type": "code",
   "execution_count": 2,
   "metadata": {
    "ExecuteTime": {
     "end_time": "2017-11-18T20:13:05.479450Z",
     "start_time": "2017-11-18T20:13:05.476238Z"
    },
    "collapsed": true
   },
   "outputs": [],
   "source": [
    "# Set random seed for reproducibility\n",
    "# Note: CuDNN is usually non-deterministic\n",
    "# (can't determine which of the ~3000 threads finish earlier)\n",
    "# And floating points reduction is not perfectly associative due to ULP rounding\n",
    "import numpy as np\n",
    "np.random.seed(1337)\n",
    "import tensorflow as tf\n",
    "tf.set_random_seed(1337)"
   ]
  },
  {
   "cell_type": "code",
   "execution_count": 3,
   "metadata": {
    "ExecuteTime": {
     "end_time": "2017-11-18T20:13:05.530752Z",
     "start_time": "2017-11-18T20:13:05.480614Z"
    }
   },
   "outputs": [
    {
     "data": {
      "text/html": [
       "<div>\n",
       "<style scoped>\n",
       "    .dataframe tbody tr th:only-of-type {\n",
       "        vertical-align: middle;\n",
       "    }\n",
       "\n",
       "    .dataframe tbody tr th {\n",
       "        vertical-align: top;\n",
       "    }\n",
       "\n",
       "    .dataframe thead th {\n",
       "        text-align: right;\n",
       "    }\n",
       "</style>\n",
       "<table border=\"1\" class=\"dataframe\">\n",
       "  <thead>\n",
       "    <tr style=\"text-align: right;\">\n",
       "      <th></th>\n",
       "      <th>DateTime</th>\n",
       "      <th>Junction</th>\n",
       "      <th>Vehicles</th>\n",
       "      <th>ID</th>\n",
       "    </tr>\n",
       "  </thead>\n",
       "  <tbody>\n",
       "    <tr>\n",
       "      <th>0</th>\n",
       "      <td>2015-11-01 00:00:00</td>\n",
       "      <td>1</td>\n",
       "      <td>15</td>\n",
       "      <td>20151101001</td>\n",
       "    </tr>\n",
       "    <tr>\n",
       "      <th>1</th>\n",
       "      <td>2015-11-01 01:00:00</td>\n",
       "      <td>1</td>\n",
       "      <td>13</td>\n",
       "      <td>20151101011</td>\n",
       "    </tr>\n",
       "    <tr>\n",
       "      <th>2</th>\n",
       "      <td>2015-11-01 02:00:00</td>\n",
       "      <td>1</td>\n",
       "      <td>10</td>\n",
       "      <td>20151101021</td>\n",
       "    </tr>\n",
       "    <tr>\n",
       "      <th>3</th>\n",
       "      <td>2015-11-01 03:00:00</td>\n",
       "      <td>1</td>\n",
       "      <td>7</td>\n",
       "      <td>20151101031</td>\n",
       "    </tr>\n",
       "    <tr>\n",
       "      <th>4</th>\n",
       "      <td>2015-11-01 04:00:00</td>\n",
       "      <td>1</td>\n",
       "      <td>9</td>\n",
       "      <td>20151101041</td>\n",
       "    </tr>\n",
       "    <tr>\n",
       "      <th>...</th>\n",
       "      <td>...</td>\n",
       "      <td>...</td>\n",
       "      <td>...</td>\n",
       "      <td>...</td>\n",
       "    </tr>\n",
       "    <tr>\n",
       "      <th>48115</th>\n",
       "      <td>2017-06-30 19:00:00</td>\n",
       "      <td>4</td>\n",
       "      <td>11</td>\n",
       "      <td>20170630194</td>\n",
       "    </tr>\n",
       "    <tr>\n",
       "      <th>48116</th>\n",
       "      <td>2017-06-30 20:00:00</td>\n",
       "      <td>4</td>\n",
       "      <td>30</td>\n",
       "      <td>20170630204</td>\n",
       "    </tr>\n",
       "    <tr>\n",
       "      <th>48117</th>\n",
       "      <td>2017-06-30 21:00:00</td>\n",
       "      <td>4</td>\n",
       "      <td>16</td>\n",
       "      <td>20170630214</td>\n",
       "    </tr>\n",
       "    <tr>\n",
       "      <th>48118</th>\n",
       "      <td>2017-06-30 22:00:00</td>\n",
       "      <td>4</td>\n",
       "      <td>22</td>\n",
       "      <td>20170630224</td>\n",
       "    </tr>\n",
       "    <tr>\n",
       "      <th>48119</th>\n",
       "      <td>2017-06-30 23:00:00</td>\n",
       "      <td>4</td>\n",
       "      <td>12</td>\n",
       "      <td>20170630234</td>\n",
       "    </tr>\n",
       "  </tbody>\n",
       "</table>\n",
       "<p>48120 rows × 4 columns</p>\n",
       "</div>"
      ],
      "text/plain": [
       "                 DateTime  Junction  Vehicles           ID\n",
       "0     2015-11-01 00:00:00         1        15  20151101001\n",
       "1     2015-11-01 01:00:00         1        13  20151101011\n",
       "2     2015-11-01 02:00:00         1        10  20151101021\n",
       "3     2015-11-01 03:00:00         1         7  20151101031\n",
       "4     2015-11-01 04:00:00         1         9  20151101041\n",
       "...                   ...       ...       ...          ...\n",
       "48115 2017-06-30 19:00:00         4        11  20170630194\n",
       "48116 2017-06-30 20:00:00         4        30  20170630204\n",
       "48117 2017-06-30 21:00:00         4        16  20170630214\n",
       "48118 2017-06-30 22:00:00         4        22  20170630224\n",
       "48119 2017-06-30 23:00:00         4        12  20170630234\n",
       "\n",
       "[48120 rows x 4 columns]"
      ]
     },
     "execution_count": 3,
     "metadata": {},
     "output_type": "execute_result"
    }
   ],
   "source": [
    "df_train = pd.read_csv('./data/train_aWnotuB.csv', parse_dates=[0], infer_datetime_format=True)\n",
    "df_train"
   ]
  },
  {
   "cell_type": "markdown",
   "metadata": {},
   "source": [
    "# Preprocessing"
   ]
  },
  {
   "cell_type": "code",
   "execution_count": 4,
   "metadata": {
    "ExecuteTime": {
     "end_time": "2017-11-18T20:13:05.550420Z",
     "start_time": "2017-11-18T20:13:05.531829Z"
    }
   },
   "outputs": [
    {
     "data": {
      "text/html": [
       "<div>\n",
       "<style scoped>\n",
       "    .dataframe tbody tr th:only-of-type {\n",
       "        vertical-align: middle;\n",
       "    }\n",
       "\n",
       "    .dataframe tbody tr th {\n",
       "        vertical-align: top;\n",
       "    }\n",
       "\n",
       "    .dataframe thead th {\n",
       "        text-align: right;\n",
       "    }\n",
       "</style>\n",
       "<table border=\"1\" class=\"dataframe\">\n",
       "  <thead>\n",
       "    <tr style=\"text-align: right;\">\n",
       "      <th>Junction</th>\n",
       "      <th>1</th>\n",
       "      <th>2</th>\n",
       "      <th>3</th>\n",
       "      <th>4</th>\n",
       "    </tr>\n",
       "    <tr>\n",
       "      <th>DateTime</th>\n",
       "      <th></th>\n",
       "      <th></th>\n",
       "      <th></th>\n",
       "      <th></th>\n",
       "    </tr>\n",
       "  </thead>\n",
       "  <tbody>\n",
       "    <tr>\n",
       "      <th>2015-11-01 00:00:00</th>\n",
       "      <td>15.0</td>\n",
       "      <td>6.0</td>\n",
       "      <td>9.0</td>\n",
       "      <td>NaN</td>\n",
       "    </tr>\n",
       "    <tr>\n",
       "      <th>2015-11-01 01:00:00</th>\n",
       "      <td>13.0</td>\n",
       "      <td>6.0</td>\n",
       "      <td>7.0</td>\n",
       "      <td>NaN</td>\n",
       "    </tr>\n",
       "    <tr>\n",
       "      <th>2015-11-01 02:00:00</th>\n",
       "      <td>10.0</td>\n",
       "      <td>5.0</td>\n",
       "      <td>5.0</td>\n",
       "      <td>NaN</td>\n",
       "    </tr>\n",
       "    <tr>\n",
       "      <th>2015-11-01 03:00:00</th>\n",
       "      <td>7.0</td>\n",
       "      <td>6.0</td>\n",
       "      <td>1.0</td>\n",
       "      <td>NaN</td>\n",
       "    </tr>\n",
       "    <tr>\n",
       "      <th>2015-11-01 04:00:00</th>\n",
       "      <td>9.0</td>\n",
       "      <td>7.0</td>\n",
       "      <td>2.0</td>\n",
       "      <td>NaN</td>\n",
       "    </tr>\n",
       "    <tr>\n",
       "      <th>...</th>\n",
       "      <td>...</td>\n",
       "      <td>...</td>\n",
       "      <td>...</td>\n",
       "      <td>...</td>\n",
       "    </tr>\n",
       "    <tr>\n",
       "      <th>2017-06-30 19:00:00</th>\n",
       "      <td>105.0</td>\n",
       "      <td>34.0</td>\n",
       "      <td>33.0</td>\n",
       "      <td>11.0</td>\n",
       "    </tr>\n",
       "    <tr>\n",
       "      <th>2017-06-30 20:00:00</th>\n",
       "      <td>96.0</td>\n",
       "      <td>35.0</td>\n",
       "      <td>31.0</td>\n",
       "      <td>30.0</td>\n",
       "    </tr>\n",
       "    <tr>\n",
       "      <th>2017-06-30 21:00:00</th>\n",
       "      <td>90.0</td>\n",
       "      <td>31.0</td>\n",
       "      <td>28.0</td>\n",
       "      <td>16.0</td>\n",
       "    </tr>\n",
       "    <tr>\n",
       "      <th>2017-06-30 22:00:00</th>\n",
       "      <td>84.0</td>\n",
       "      <td>29.0</td>\n",
       "      <td>26.0</td>\n",
       "      <td>22.0</td>\n",
       "    </tr>\n",
       "    <tr>\n",
       "      <th>2017-06-30 23:00:00</th>\n",
       "      <td>78.0</td>\n",
       "      <td>27.0</td>\n",
       "      <td>39.0</td>\n",
       "      <td>12.0</td>\n",
       "    </tr>\n",
       "  </tbody>\n",
       "</table>\n",
       "<p>14592 rows × 4 columns</p>\n",
       "</div>"
      ],
      "text/plain": [
       "Junction                 1     2     3     4\n",
       "DateTime                                    \n",
       "2015-11-01 00:00:00   15.0   6.0   9.0   NaN\n",
       "2015-11-01 01:00:00   13.0   6.0   7.0   NaN\n",
       "2015-11-01 02:00:00   10.0   5.0   5.0   NaN\n",
       "2015-11-01 03:00:00    7.0   6.0   1.0   NaN\n",
       "2015-11-01 04:00:00    9.0   7.0   2.0   NaN\n",
       "...                    ...   ...   ...   ...\n",
       "2017-06-30 19:00:00  105.0  34.0  33.0  11.0\n",
       "2017-06-30 20:00:00   96.0  35.0  31.0  30.0\n",
       "2017-06-30 21:00:00   90.0  31.0  28.0  16.0\n",
       "2017-06-30 22:00:00   84.0  29.0  26.0  22.0\n",
       "2017-06-30 23:00:00   78.0  27.0  39.0  12.0\n",
       "\n",
       "[14592 rows x 4 columns]"
      ]
     },
     "execution_count": 4,
     "metadata": {},
     "output_type": "execute_result"
    }
   ],
   "source": [
    "train = df_train.pivot(index='DateTime',columns='Junction', values='Vehicles')\n",
    "train"
   ]
  },
  {
   "cell_type": "markdown",
   "metadata": {
    "ExecuteTime": {
     "end_time": "2017-11-18T09:50:40.101929Z",
     "start_time": "2017-11-18T09:50:40.100033Z"
    }
   },
   "source": [
    "## Remove Nan (0 vehicle)"
   ]
  },
  {
   "cell_type": "code",
   "execution_count": 5,
   "metadata": {
    "ExecuteTime": {
     "end_time": "2017-11-18T20:13:05.553720Z",
     "start_time": "2017-11-18T20:13:05.551506Z"
    },
    "collapsed": true
   },
   "outputs": [],
   "source": [
    "train = train.fillna(0)"
   ]
  },
  {
   "cell_type": "markdown",
   "metadata": {},
   "source": [
    "## Normalize the data on 0, 1"
   ]
  },
  {
   "cell_type": "code",
   "execution_count": 6,
   "metadata": {
    "ExecuteTime": {
     "end_time": "2017-11-18T20:13:05.643079Z",
     "start_time": "2017-11-18T20:13:05.554870Z"
    },
    "collapsed": true
   },
   "outputs": [],
   "source": [
    "from sklearn.preprocessing import MinMaxScaler, StandardScaler"
   ]
  },
  {
   "cell_type": "code",
   "execution_count": 7,
   "metadata": {
    "ExecuteTime": {
     "end_time": "2017-11-18T20:13:05.646223Z",
     "start_time": "2017-11-18T20:13:05.644157Z"
    },
    "collapsed": true
   },
   "outputs": [],
   "source": [
    "# scaler = MinMaxScaler(feature_range=(-1, 1))\n",
    "# scaler = StandardScaler()\n",
    "scaler = MinMaxScaler(feature_range=(0, 1))"
   ]
  },
  {
   "cell_type": "code",
   "execution_count": 8,
   "metadata": {
    "ExecuteTime": {
     "end_time": "2017-11-18T20:13:05.653100Z",
     "start_time": "2017-11-18T20:13:05.647238Z"
    },
    "collapsed": true
   },
   "outputs": [],
   "source": [
    "train[train.columns] = scaler.fit_transform(train[train.columns])"
   ]
  },
  {
   "cell_type": "code",
   "execution_count": 9,
   "metadata": {
    "ExecuteTime": {
     "end_time": "2017-11-18T20:13:05.667604Z",
     "start_time": "2017-11-18T20:13:05.654207Z"
    }
   },
   "outputs": [
    {
     "data": {
      "text/html": [
       "<div>\n",
       "<style scoped>\n",
       "    .dataframe tbody tr th:only-of-type {\n",
       "        vertical-align: middle;\n",
       "    }\n",
       "\n",
       "    .dataframe tbody tr th {\n",
       "        vertical-align: top;\n",
       "    }\n",
       "\n",
       "    .dataframe thead th {\n",
       "        text-align: right;\n",
       "    }\n",
       "</style>\n",
       "<table border=\"1\" class=\"dataframe\">\n",
       "  <thead>\n",
       "    <tr style=\"text-align: right;\">\n",
       "      <th>Junction</th>\n",
       "      <th>1</th>\n",
       "      <th>2</th>\n",
       "      <th>3</th>\n",
       "      <th>4</th>\n",
       "    </tr>\n",
       "    <tr>\n",
       "      <th>DateTime</th>\n",
       "      <th></th>\n",
       "      <th></th>\n",
       "      <th></th>\n",
       "      <th></th>\n",
       "    </tr>\n",
       "  </thead>\n",
       "  <tbody>\n",
       "    <tr>\n",
       "      <th>2015-11-01 00:00:00</th>\n",
       "      <td>0.066225</td>\n",
       "      <td>0.106383</td>\n",
       "      <td>0.044693</td>\n",
       "      <td>0.000000</td>\n",
       "    </tr>\n",
       "    <tr>\n",
       "      <th>2015-11-01 01:00:00</th>\n",
       "      <td>0.052980</td>\n",
       "      <td>0.106383</td>\n",
       "      <td>0.033520</td>\n",
       "      <td>0.000000</td>\n",
       "    </tr>\n",
       "    <tr>\n",
       "      <th>2015-11-01 02:00:00</th>\n",
       "      <td>0.033113</td>\n",
       "      <td>0.085106</td>\n",
       "      <td>0.022346</td>\n",
       "      <td>0.000000</td>\n",
       "    </tr>\n",
       "    <tr>\n",
       "      <th>2015-11-01 03:00:00</th>\n",
       "      <td>0.013245</td>\n",
       "      <td>0.106383</td>\n",
       "      <td>0.000000</td>\n",
       "      <td>0.000000</td>\n",
       "    </tr>\n",
       "    <tr>\n",
       "      <th>2015-11-01 04:00:00</th>\n",
       "      <td>0.026490</td>\n",
       "      <td>0.127660</td>\n",
       "      <td>0.005587</td>\n",
       "      <td>0.000000</td>\n",
       "    </tr>\n",
       "    <tr>\n",
       "      <th>...</th>\n",
       "      <td>...</td>\n",
       "      <td>...</td>\n",
       "      <td>...</td>\n",
       "      <td>...</td>\n",
       "    </tr>\n",
       "    <tr>\n",
       "      <th>2017-06-30 19:00:00</th>\n",
       "      <td>0.662252</td>\n",
       "      <td>0.702128</td>\n",
       "      <td>0.178771</td>\n",
       "      <td>0.305556</td>\n",
       "    </tr>\n",
       "    <tr>\n",
       "      <th>2017-06-30 20:00:00</th>\n",
       "      <td>0.602649</td>\n",
       "      <td>0.723404</td>\n",
       "      <td>0.167598</td>\n",
       "      <td>0.833333</td>\n",
       "    </tr>\n",
       "    <tr>\n",
       "      <th>2017-06-30 21:00:00</th>\n",
       "      <td>0.562914</td>\n",
       "      <td>0.638298</td>\n",
       "      <td>0.150838</td>\n",
       "      <td>0.444444</td>\n",
       "    </tr>\n",
       "    <tr>\n",
       "      <th>2017-06-30 22:00:00</th>\n",
       "      <td>0.523179</td>\n",
       "      <td>0.595745</td>\n",
       "      <td>0.139665</td>\n",
       "      <td>0.611111</td>\n",
       "    </tr>\n",
       "    <tr>\n",
       "      <th>2017-06-30 23:00:00</th>\n",
       "      <td>0.483444</td>\n",
       "      <td>0.553191</td>\n",
       "      <td>0.212291</td>\n",
       "      <td>0.333333</td>\n",
       "    </tr>\n",
       "  </tbody>\n",
       "</table>\n",
       "<p>14592 rows × 4 columns</p>\n",
       "</div>"
      ],
      "text/plain": [
       "Junction                    1         2         3         4\n",
       "DateTime                                                   \n",
       "2015-11-01 00:00:00  0.066225  0.106383  0.044693  0.000000\n",
       "2015-11-01 01:00:00  0.052980  0.106383  0.033520  0.000000\n",
       "2015-11-01 02:00:00  0.033113  0.085106  0.022346  0.000000\n",
       "2015-11-01 03:00:00  0.013245  0.106383  0.000000  0.000000\n",
       "2015-11-01 04:00:00  0.026490  0.127660  0.005587  0.000000\n",
       "...                       ...       ...       ...       ...\n",
       "2017-06-30 19:00:00  0.662252  0.702128  0.178771  0.305556\n",
       "2017-06-30 20:00:00  0.602649  0.723404  0.167598  0.833333\n",
       "2017-06-30 21:00:00  0.562914  0.638298  0.150838  0.444444\n",
       "2017-06-30 22:00:00  0.523179  0.595745  0.139665  0.611111\n",
       "2017-06-30 23:00:00  0.483444  0.553191  0.212291  0.333333\n",
       "\n",
       "[14592 rows x 4 columns]"
      ]
     },
     "execution_count": 9,
     "metadata": {},
     "output_type": "execute_result"
    }
   ],
   "source": [
    "train"
   ]
  },
  {
   "cell_type": "markdown",
   "metadata": {},
   "source": [
    "# Generate rolling forecast features"
   ]
  },
  {
   "cell_type": "code",
   "execution_count": 10,
   "metadata": {
    "ExecuteTime": {
     "end_time": "2017-11-18T20:13:05.671997Z",
     "start_time": "2017-11-18T20:13:05.668900Z"
    },
    "collapsed": true
   },
   "outputs": [],
   "source": [
    "nb_forecast_per_junction = 24 * (31 + 31 + 30 + 31) # Days in jul + aug + sep + oct"
   ]
  },
  {
   "cell_type": "code",
   "execution_count": 11,
   "metadata": {
    "ExecuteTime": {
     "end_time": "2017-11-18T20:13:05.677454Z",
     "start_time": "2017-11-18T20:13:05.673077Z"
    }
   },
   "outputs": [
    {
     "data": {
      "text/plain": [
       "2952"
      ]
     },
     "execution_count": 11,
     "metadata": {},
     "output_type": "execute_result"
    }
   ],
   "source": [
    "nb_forecast_per_junction"
   ]
  },
  {
   "cell_type": "code",
   "execution_count": 12,
   "metadata": {
    "ExecuteTime": {
     "end_time": "2017-11-18T20:13:05.682472Z",
     "start_time": "2017-11-18T20:13:05.678820Z"
    }
   },
   "outputs": [
    {
     "data": {
      "text/plain": [
       "11808"
      ]
     },
     "execution_count": 12,
     "metadata": {},
     "output_type": "execute_result"
    }
   ],
   "source": [
    "nb_forecast_per_junction * 4"
   ]
  },
  {
   "cell_type": "markdown",
   "metadata": {},
   "source": [
    "That will certainly not fit in the GPU VRAM --> We will get inspiration from seq2seq models and do a sliding window of time that matches a week."
   ]
  },
  {
   "cell_type": "code",
   "execution_count": 13,
   "metadata": {
    "ExecuteTime": {
     "end_time": "2017-11-18T20:13:05.688745Z",
     "start_time": "2017-11-18T20:13:05.683579Z"
    }
   },
   "outputs": [],
   "source": [
    "num_feats = 4\n",
    "seq_len = 24 * 7 # We predict a week\n",
    "num_outputs = 4\n",
    "num_hidden = 48 # We keep twelve months\n",
    "bs = 1024\n",
    "epochs = 500\n",
    "LOG_PATH = \"checkpoints/\" + time.strftime(\"%Y-%m-%d_%H%M-\")+\"seq2seq-attns-GRU-depthConv.hdf5\"\n",
    "\n",
    "\n",
    "# pred_len = int(nb_forecast_per_junction / seq_len)\n",
    "# assert nb_forecast_per_junction % seq_len == 0 # Check that we can split forecast into even sequences\n",
    "# print(pred_len)"
   ]
  },
  {
   "cell_type": "markdown",
   "metadata": {},
   "source": [
    "We originally had 14592 rows, we will generate sequences of predictions from it."
   ]
  },
  {
   "cell_type": "code",
   "execution_count": 14,
   "metadata": {
    "ExecuteTime": {
     "end_time": "2017-11-18T20:13:05.700432Z",
     "start_time": "2017-11-18T20:13:05.689975Z"
    },
    "collapsed": true
   },
   "outputs": [],
   "source": [
    "def make_input_seqs(data, seq_len, train_split=0.9):\n",
    "    seq_len = seq_len + 1\n",
    "    result = []\n",
    "    for index in range(len(data) - seq_len):\n",
    "        result.append(data[index: index + seq_len, :])\n",
    "    result = np.array(result) # shape (14423, 168, 4)\n",
    "    train_ind = round(train_split * result.shape[0])\n",
    "    train = result[:int(train_ind), :, :]\n",
    "    x_train = train[:, :-1, :]\n",
    "    y_train = train[:, -1, :]\n",
    "    x_test = result[int(train_ind):, :-1, :]\n",
    "    y_test = result[int(train_ind):, -1, :]\n",
    "\n",
    "    return [x_train, y_train, x_test, y_test]"
   ]
  },
  {
   "cell_type": "code",
   "execution_count": 15,
   "metadata": {
    "ExecuteTime": {
     "end_time": "2017-11-18T20:13:05.741550Z",
     "start_time": "2017-11-18T20:13:05.701650Z"
    },
    "collapsed": true
   },
   "outputs": [],
   "source": [
    "X_train, y_train, X_test, y_test = make_input_seqs(train.values, seq_len)"
   ]
  },
  {
   "cell_type": "markdown",
   "metadata": {},
   "source": [
    "# Generate model"
   ]
  },
  {
   "cell_type": "markdown",
   "metadata": {},
   "source": [
    "## Loss function"
   ]
  },
  {
   "cell_type": "code",
   "execution_count": 16,
   "metadata": {
    "ExecuteTime": {
     "end_time": "2017-11-18T20:13:05.745931Z",
     "start_time": "2017-11-18T20:13:05.743015Z"
    },
    "collapsed": true
   },
   "outputs": [],
   "source": [
    "import keras.backend as K\n",
    "\n",
    "def root_mean_squared_error(y_true, y_pred):\n",
    "        return K.sqrt(K.mean(K.square(y_pred - y_true), axis=-1)) "
   ]
  },
  {
   "cell_type": "markdown",
   "metadata": {},
   "source": [
    "## Neural net"
   ]
  },
  {
   "cell_type": "code",
   "execution_count": 17,
   "metadata": {
    "ExecuteTime": {
     "end_time": "2017-11-18T20:13:05.750877Z",
     "start_time": "2017-11-18T20:13:05.746970Z"
    },
    "collapsed": true
   },
   "outputs": [],
   "source": [
    "from keras.optimizers import adam, rmsprop"
   ]
  },
  {
   "cell_type": "code",
   "execution_count": 18,
   "metadata": {
    "ExecuteTime": {
     "end_time": "2017-11-18T20:13:05.764413Z",
     "start_time": "2017-11-18T20:13:05.752044Z"
    }
   },
   "outputs": [],
   "source": [
    "# adam = adam(clipvalue=0.5) # Clip to avoid exploding gradients\n",
    "rmsprop = rmsprop(lr = 0.0004, decay = 0.002)"
   ]
  },
  {
   "cell_type": "code",
   "execution_count": 19,
   "metadata": {
    "ExecuteTime": {
     "end_time": "2017-11-18T20:13:05.773756Z",
     "start_time": "2017-11-18T20:13:05.765762Z"
    },
    "collapsed": true
   },
   "outputs": [],
   "source": [
    "from keras.layers import *\n",
    "from keras.layers.core import *\n",
    "from keras.layers.recurrent import *\n",
    "from keras.models import *\n",
    "from keras.activations import *"
   ]
  },
  {
   "cell_type": "code",
   "execution_count": 20,
   "metadata": {
    "ExecuteTime": {
     "end_time": "2017-11-18T20:13:05.787621Z",
     "start_time": "2017-11-18T20:13:05.775163Z"
    }
   },
   "outputs": [],
   "source": [
    "def attention_n_days_ago(inputs, days_ago):\n",
    "    # inputs.shape = (batch_size, time_steps, input_dim)\n",
    "    time_steps = days_ago * 24\n",
    "    \n",
    "    # We compute the attention over the seq_len\n",
    "    a = Permute((2, 1))(inputs)\n",
    "    a = Dense(time_steps, activation='softmax')(a)\n",
    "    \n",
    "    # Now we convolute so that it average over the whole time window\n",
    "    feats_depth = int(inputs.shape[2])\n",
    "    avg = Lambda(lambda x: K.expand_dims(x, axis = 1))(inputs)\n",
    "    avg = SeparableConv2D(feats_depth, (1,1))(avg)\n",
    "    avg = Lambda(lambda x: K.squeeze(x, 1))(avg)\n",
    "    \n",
    "    \n",
    "    a_probs = Permute((2, 1), name='attn_' + str(days_ago) + '_days')(avg)\n",
    "    # out = Multiply(name='attn_mul_'+ str(days_ago) +'_days')([inputs, a_probs])\n",
    "    out = Concatenate(name='attention_cat_'+ str(days_ago) +'_days')([inputs, a_probs])\n",
    "    return out"
   ]
  },
  {
   "cell_type": "code",
   "execution_count": 21,
   "metadata": {
    "ExecuteTime": {
     "end_time": "2017-11-18T20:13:05.826009Z",
     "start_time": "2017-11-18T20:13:05.788845Z"
    }
   },
   "outputs": [],
   "source": [
    "def Net(num_feats, seq_len, num_hidden, num_outputs):\n",
    "    x = Input((seq_len, num_feats))\n",
    "\n",
    "    # Encoder RNNs\n",
    "    enc = GRU(seq_len,\n",
    "               return_sequences=True)(x)\n",
    "    \n",
    "    # Attention decoders\n",
    "    attention_1d = attention_n_days_ago(enc, 1)\n",
    "    attention_1w = attention_n_days_ago(enc, 7)\n",
    "    attention_1m = attention_n_days_ago(enc, 30)\n",
    "    attention_1q = attention_n_days_ago(enc, 92)\n",
    "    attention_6m = attention_n_days_ago(enc, 184)\n",
    "    attention_1y = attention_n_days_ago(enc, 365)\n",
    "    \n",
    "    att = Concatenate(name='attns_cat', axis = 1)([attention_1d,\n",
    "                                                   attention_1w,\n",
    "                                                   attention_1m,\n",
    "                                                   attention_1q,\n",
    "                                                   attention_6m,\n",
    "                                                   attention_1y])\n",
    "    \n",
    "    # How to merge? concat, mul, add, use Dense Layer or Depthwise convolution ?\n",
    "    att = Permute((2, 1))(att)\n",
    "    \n",
    "    # Experimental, use depthwise convolution to merge all those layers\n",
    "    att = Lambda(lambda x: K.expand_dims(x, axis = 1))(att)\n",
    "    att = SeparableConv2D(seq_len, (1,1))(att)\n",
    "    att = Lambda(lambda x: K.squeeze(x, 1))(att)\n",
    "    \n",
    "    \n",
    "    # att = Dense(seq_len, activation=None)(att)\n",
    "    # att = Lambda(lambda x: softmax(x, axis = 1))(att) # Flatten along the concat axis\n",
    "    \n",
    "    # Decoder RNN\n",
    "    dec = GRU(num_hidden,\n",
    "               return_sequences=False)(att)\n",
    "\n",
    "    # Regressor\n",
    "    # Note that Dense is automatically TimeDistributed in Keras 2\n",
    "    out = Dense(num_outputs, activation=None)(dec) # no activation for regression\n",
    "    \n",
    "    model = Model(inputs=x, outputs=out)\n",
    "                          \n",
    "    model.compile(loss= root_mean_squared_error, optimizer= rmsprop)\n",
    "    return model"
   ]
  },
  {
   "cell_type": "code",
   "execution_count": 22,
   "metadata": {
    "ExecuteTime": {
     "end_time": "2017-11-18T20:13:06.538254Z",
     "start_time": "2017-11-18T20:13:05.827014Z"
    }
   },
   "outputs": [],
   "source": [
    "model = Net(num_feats, seq_len, num_hidden, num_outputs)"
   ]
  },
  {
   "cell_type": "code",
   "execution_count": 23,
   "metadata": {
    "ExecuteTime": {
     "end_time": "2017-11-18T20:13:06.550074Z",
     "start_time": "2017-11-18T20:13:06.539529Z"
    }
   },
   "outputs": [
    {
     "name": "stdout",
     "output_type": "stream",
     "text": [
      "__________________________________________________________________________________________________\n",
      "Layer (type)                    Output Shape         Param #     Connected to                     \n",
      "==================================================================================================\n",
      "input_1 (InputLayer)            (None, 168, 4)       0                                            \n",
      "__________________________________________________________________________________________________\n",
      "gru_1 (GRU)                     (None, 168, 168)     87192       input_1[0][0]                    \n",
      "__________________________________________________________________________________________________\n",
      "lambda_1 (Lambda)               (None, 1, 168, 168)  0           gru_1[0][0]                      \n",
      "__________________________________________________________________________________________________\n",
      "lambda_3 (Lambda)               (None, 1, 168, 168)  0           gru_1[0][0]                      \n",
      "__________________________________________________________________________________________________\n",
      "lambda_5 (Lambda)               (None, 1, 168, 168)  0           gru_1[0][0]                      \n",
      "__________________________________________________________________________________________________\n",
      "lambda_7 (Lambda)               (None, 1, 168, 168)  0           gru_1[0][0]                      \n",
      "__________________________________________________________________________________________________\n",
      "lambda_9 (Lambda)               (None, 1, 168, 168)  0           gru_1[0][0]                      \n",
      "__________________________________________________________________________________________________\n",
      "lambda_11 (Lambda)              (None, 1, 168, 168)  0           gru_1[0][0]                      \n",
      "__________________________________________________________________________________________________\n",
      "separable_conv2d_1 (SeparableCo (None, 1, 168, 168)  28560       lambda_1[0][0]                   \n",
      "__________________________________________________________________________________________________\n",
      "separable_conv2d_2 (SeparableCo (None, 1, 168, 168)  28560       lambda_3[0][0]                   \n",
      "__________________________________________________________________________________________________\n",
      "separable_conv2d_3 (SeparableCo (None, 1, 168, 168)  28560       lambda_5[0][0]                   \n",
      "__________________________________________________________________________________________________\n",
      "separable_conv2d_4 (SeparableCo (None, 1, 168, 168)  28560       lambda_7[0][0]                   \n",
      "__________________________________________________________________________________________________\n",
      "separable_conv2d_5 (SeparableCo (None, 1, 168, 168)  28560       lambda_9[0][0]                   \n",
      "__________________________________________________________________________________________________\n",
      "separable_conv2d_6 (SeparableCo (None, 1, 168, 168)  28560       lambda_11[0][0]                  \n",
      "__________________________________________________________________________________________________\n",
      "lambda_2 (Lambda)               (None, 168, 168)     0           separable_conv2d_1[0][0]         \n",
      "__________________________________________________________________________________________________\n",
      "lambda_4 (Lambda)               (None, 168, 168)     0           separable_conv2d_2[0][0]         \n",
      "__________________________________________________________________________________________________\n",
      "lambda_6 (Lambda)               (None, 168, 168)     0           separable_conv2d_3[0][0]         \n",
      "__________________________________________________________________________________________________\n",
      "lambda_8 (Lambda)               (None, 168, 168)     0           separable_conv2d_4[0][0]         \n",
      "__________________________________________________________________________________________________\n",
      "lambda_10 (Lambda)              (None, 168, 168)     0           separable_conv2d_5[0][0]         \n",
      "__________________________________________________________________________________________________\n",
      "lambda_12 (Lambda)              (None, 168, 168)     0           separable_conv2d_6[0][0]         \n",
      "__________________________________________________________________________________________________\n",
      "attn_1_days (Permute)           (None, 168, 168)     0           lambda_2[0][0]                   \n",
      "__________________________________________________________________________________________________\n",
      "attn_7_days (Permute)           (None, 168, 168)     0           lambda_4[0][0]                   \n",
      "__________________________________________________________________________________________________\n",
      "attn_30_days (Permute)          (None, 168, 168)     0           lambda_6[0][0]                   \n",
      "__________________________________________________________________________________________________\n",
      "attn_92_days (Permute)          (None, 168, 168)     0           lambda_8[0][0]                   \n",
      "__________________________________________________________________________________________________\n",
      "attn_184_days (Permute)         (None, 168, 168)     0           lambda_10[0][0]                  \n",
      "__________________________________________________________________________________________________\n",
      "attn_365_days (Permute)         (None, 168, 168)     0           lambda_12[0][0]                  \n",
      "__________________________________________________________________________________________________\n",
      "attention_cat_1_days (Concatena (None, 168, 336)     0           gru_1[0][0]                      \n",
      "                                                                 attn_1_days[0][0]                \n",
      "__________________________________________________________________________________________________\n",
      "attention_cat_7_days (Concatena (None, 168, 336)     0           gru_1[0][0]                      \n",
      "                                                                 attn_7_days[0][0]                \n",
      "__________________________________________________________________________________________________\n",
      "attention_cat_30_days (Concaten (None, 168, 336)     0           gru_1[0][0]                      \n",
      "                                                                 attn_30_days[0][0]               \n",
      "__________________________________________________________________________________________________\n",
      "attention_cat_92_days (Concaten (None, 168, 336)     0           gru_1[0][0]                      \n",
      "                                                                 attn_92_days[0][0]               \n",
      "__________________________________________________________________________________________________\n",
      "attention_cat_184_days (Concate (None, 168, 336)     0           gru_1[0][0]                      \n",
      "                                                                 attn_184_days[0][0]              \n",
      "__________________________________________________________________________________________________\n",
      "attention_cat_365_days (Concate (None, 168, 336)     0           gru_1[0][0]                      \n",
      "                                                                 attn_365_days[0][0]              \n",
      "__________________________________________________________________________________________________\n",
      "attns_cat (Concatenate)         (None, 1008, 336)    0           attention_cat_1_days[0][0]       \n",
      "                                                                 attention_cat_7_days[0][0]       \n",
      "                                                                 attention_cat_30_days[0][0]      \n",
      "                                                                 attention_cat_92_days[0][0]      \n",
      "                                                                 attention_cat_184_days[0][0]     \n",
      "                                                                 attention_cat_365_days[0][0]     \n",
      "__________________________________________________________________________________________________\n",
      "permute_7 (Permute)             (None, 336, 1008)    0           attns_cat[0][0]                  \n",
      "__________________________________________________________________________________________________\n",
      "lambda_13 (Lambda)              (None, 1, 336, 1008) 0           permute_7[0][0]                  \n",
      "__________________________________________________________________________________________________\n",
      "separable_conv2d_7 (SeparableCo (None, 1, 336, 168)  170520      lambda_13[0][0]                  \n",
      "__________________________________________________________________________________________________\n",
      "lambda_14 (Lambda)              (None, 336, 168)     0           separable_conv2d_7[0][0]         \n",
      "__________________________________________________________________________________________________\n",
      "gru_2 (GRU)                     (None, 48)           31248       lambda_14[0][0]                  \n",
      "__________________________________________________________________________________________________\n",
      "dense_7 (Dense)                 (None, 4)            196         gru_2[0][0]                      \n",
      "==================================================================================================\n",
      "Total params: 460,516\n",
      "Trainable params: 460,516\n",
      "Non-trainable params: 0\n",
      "__________________________________________________________________________________________________\n"
     ]
    }
   ],
   "source": [
    "model.summary()"
   ]
  },
  {
   "cell_type": "markdown",
   "metadata": {
    "ExecuteTime": {
     "end_time": "2017-11-18T11:26:59.040374Z",
     "start_time": "2017-11-18T11:26:59.038563Z"
    }
   },
   "source": [
    "### Callbacks"
   ]
  },
  {
   "cell_type": "code",
   "execution_count": 24,
   "metadata": {
    "ExecuteTime": {
     "end_time": "2017-11-18T20:13:06.553251Z",
     "start_time": "2017-11-18T20:13:06.551280Z"
    },
    "collapsed": true
   },
   "outputs": [],
   "source": [
    "from keras.callbacks import History, ModelCheckpoint, CSVLogger, EarlyStopping"
   ]
  },
  {
   "cell_type": "code",
   "execution_count": null,
   "metadata": {
    "ExecuteTime": {
     "start_time": "2017-11-18T20:13:04.028Z"
    },
    "collapsed": true
   },
   "outputs": [],
   "source": [
    "history = History()\n",
    "checkpointer = ModelCheckpoint(filepath= LOG_PATH,\n",
    "                               verbose=1, save_best_only=False)\n",
    "csv_logger = CSVLogger(\"checkpoints/\" + time.strftime(\"%Y-%m-%d_%H%M-\")+'training.log')\n",
    "early_stop = EarlyStopping(monitor='val_loss', min_delta=0, patience=5, verbose=1, mode='auto')"
   ]
  },
  {
   "cell_type": "markdown",
   "metadata": {},
   "source": [
    "# Training"
   ]
  },
  {
   "cell_type": "code",
   "execution_count": null,
   "metadata": {
    "ExecuteTime": {
     "start_time": "2017-11-18T20:13:04.031Z"
    }
   },
   "outputs": [
    {
     "name": "stdout",
     "output_type": "stream",
     "text": [
      "Train on 12331 samples, validate on 650 samples\n",
      "Epoch 1/500\n",
      "\n",
      " 1024/12331 [=>............................] - ETA: 30s - loss: 0.1850\n",
      " 2048/12331 [===>..........................] - ETA: 18s - loss: 0.1731\n",
      " 3072/12331 [======>.......................] - ETA: 14s - loss: 0.1642\n",
      " 4096/12331 [========>.....................] - ETA: 11s - loss: 0.1550\n",
      " 5120/12331 [===========>..................] - ETA: 9s - loss: 0.1469 \n",
      " 6144/12331 [=============>................] - ETA: 7s - loss: 0.1388\n",
      " 7168/12331 [================>.............] - ETA: 6s - loss: 0.1313\n",
      " 8192/12331 [==================>...........] - ETA: 5s - loss: 0.1244\n",
      " 9216/12331 [=====================>........] - ETA: 3s - loss: 0.1190\n",
      "10240/12331 [=======================>......] - ETA: 2s - loss: 0.1147\n",
      "11264/12331 [==========================>...] - ETA: 1s - loss: 0.1112\n",
      "12288/12331 [============================>.] - ETA: 0s - loss: 0.1084Epoch 00001: saving model to checkpoints/2017-11-18_2013-seq2seq-attns-GRU-depthConv.hdf5\n",
      "\n",
      "12331/12331 [==============================] - ETA: 0s - loss: 0.1083 - val_loss: 0.1262\n",
      "Epoch 2/500\n",
      "\n",
      " 1024/12331 [=>............................] - ETA: 10s - loss: 0.0712\n",
      " 2048/12331 [===>..........................] - ETA: 9s - loss: 0.0712 \n",
      " 3072/12331 [======>.......................] - ETA: 8s - loss: 0.0706\n",
      " 4096/12331 [========>.....................] - ETA: 7s - loss: 0.0707\n",
      " 5120/12331 [===========>..................] - ETA: 6s - loss: 0.0711\n",
      " 6144/12331 [=============>................] - ETA: 5s - loss: 0.0710\n",
      " 7168/12331 [================>.............] - ETA: 5s - loss: 0.0714\n",
      " 8192/12331 [==================>...........] - ETA: 4s - loss: 0.0726\n",
      " 9216/12331 [=====================>........] - ETA: 3s - loss: 0.0723\n",
      "10240/12331 [=======================>......] - ETA: 2s - loss: 0.0721\n",
      "11264/12331 [==========================>...] - ETA: 1s - loss: 0.0718\n",
      "12288/12331 [============================>.] - ETA: 0s - loss: 0.0714Epoch 00002: saving model to checkpoints/2017-11-18_2013-seq2seq-attns-GRU-depthConv.hdf5\n",
      "\n",
      "12331/12331 [==============================] - ETA: 0s - loss: 0.0714 - val_loss: 0.1171\n",
      "Epoch 3/500\n",
      "\n",
      " 1024/12331 [=>............................] - ETA: 10s - loss: 0.0782\n",
      " 2048/12331 [===>..........................] - ETA: 9s - loss: 0.0802 \n",
      " 3072/12331 [======>.......................] - ETA: 8s - loss: 0.0774\n",
      " 4096/12331 [========>.....................] - ETA: 7s - loss: 0.0744\n",
      " 5120/12331 [===========>..................] - ETA: 6s - loss: 0.0733\n",
      " 6144/12331 [=============>................] - ETA: 5s - loss: 0.0722\n",
      " 7168/12331 [================>.............] - ETA: 5s - loss: 0.0716\n",
      " 8192/12331 [==================>...........] - ETA: 4s - loss: 0.0709\n",
      " 9216/12331 [=====================>........] - ETA: 3s - loss: 0.0704\n",
      "10240/12331 [=======================>......] - ETA: 2s - loss: 0.0700\n",
      "11264/12331 [==========================>...] - ETA: 1s - loss: 0.0695\n",
      "12288/12331 [============================>.] - ETA: 0s - loss: 0.0691Epoch 00003: saving model to checkpoints/2017-11-18_2013-seq2seq-attns-GRU-depthConv.hdf5\n",
      "\n",
      "12331/12331 [==============================] - ETA: 0s - loss: 0.0691 - val_loss: 0.1784\n",
      "Epoch 4/500\n",
      "\n",
      " 1024/12331 [=>............................] - ETA: 10s - loss: 0.0934\n",
      " 2048/12331 [===>..........................] - ETA: 9s - loss: 0.0891 \n",
      " 3072/12331 [======>.......................] - ETA: 8s - loss: 0.0825\n",
      " 4096/12331 [========>.....................] - ETA: 7s - loss: 0.0785\n",
      " 5120/12331 [===========>..................] - ETA: 6s - loss: 0.0756\n",
      " 6144/12331 [=============>................] - ETA: 5s - loss: 0.0738\n",
      " 7168/12331 [================>.............] - ETA: 5s - loss: 0.0727\n",
      " 8192/12331 [==================>...........] - ETA: 4s - loss: 0.0719\n",
      " 9216/12331 [=====================>........] - ETA: 3s - loss: 0.0711\n",
      "10240/12331 [=======================>......] - ETA: 2s - loss: 0.0703\n",
      "11264/12331 [==========================>...] - ETA: 1s - loss: 0.0696\n",
      "12288/12331 [============================>.] - ETA: 0s - loss: 0.0691Epoch 00004: saving model to checkpoints/2017-11-18_2013-seq2seq-attns-GRU-depthConv.hdf5\n",
      "\n",
      "12331/12331 [==============================] - ETA: 0s - loss: 0.0691 - val_loss: 0.0951\n",
      "Epoch 5/500\n",
      "\n",
      " 1024/12331 [=>............................] - ETA: 10s - loss: 0.0651\n",
      " 2048/12331 [===>..........................] - ETA: 9s - loss: 0.0659 \n",
      " 3072/12331 [======>.......................] - ETA: 8s - loss: 0.0644\n",
      " 4096/12331 [========>.....................] - ETA: 7s - loss: 0.0651\n",
      " 5120/12331 [===========>..................] - ETA: 6s - loss: 0.0650\n",
      " 6144/12331 [=============>................] - ETA: 5s - loss: 0.0654\n",
      " 7168/12331 [================>.............] - ETA: 5s - loss: 0.0655\n",
      " 8192/12331 [==================>...........] - ETA: 4s - loss: 0.0656\n",
      " 9216/12331 [=====================>........] - ETA: 3s - loss: 0.0655\n",
      "10240/12331 [=======================>......] - ETA: 2s - loss: 0.0653\n",
      "11264/12331 [==========================>...] - ETA: 1s - loss: 0.0650\n",
      "12288/12331 [============================>.] - ETA: 0s - loss: 0.0650Epoch 00005: saving model to checkpoints/2017-11-18_2013-seq2seq-attns-GRU-depthConv.hdf5\n",
      "\n",
      "12331/12331 [==============================] - ETA: 0s - loss: 0.0650 - val_loss: 0.0970\n",
      "Epoch 6/500\n",
      "\n",
      " 1024/12331 [=>............................] - ETA: 10s - loss: 0.0632\n",
      " 2048/12331 [===>..........................] - ETA: 9s - loss: 0.0626 \n",
      " 3072/12331 [======>.......................] - ETA: 8s - loss: 0.0625\n",
      " 4096/12331 [========>.....................] - ETA: 7s - loss: 0.0626\n",
      " 5120/12331 [===========>..................] - ETA: 6s - loss: 0.0633\n",
      " 6144/12331 [=============>................] - ETA: 5s - loss: 0.0635\n",
      " 7168/12331 [================>.............] - ETA: 5s - loss: 0.0639\n",
      " 8192/12331 [==================>...........] - ETA: 4s - loss: 0.0639\n",
      " 9216/12331 [=====================>........] - ETA: 3s - loss: 0.0639\n",
      "10240/12331 [=======================>......] - ETA: 2s - loss: 0.0638\n",
      "11264/12331 [==========================>...] - ETA: 1s - loss: 0.0637\n",
      "12288/12331 [============================>.] - ETA: 0s - loss: 0.0638Epoch 00006: saving model to checkpoints/2017-11-18_2013-seq2seq-attns-GRU-depthConv.hdf5\n",
      "\n",
      "12331/12331 [==============================] - ETA: 0s - loss: 0.0638 - val_loss: 0.0931\n",
      "Epoch 7/500\n",
      "\n",
      " 1024/12331 [=>............................] - ETA: 10s - loss: 0.0646\n",
      " 2048/12331 [===>..........................] - ETA: 9s - loss: 0.0624 \n",
      " 3072/12331 [======>.......................] - ETA: 8s - loss: 0.0624\n",
      " 4096/12331 [========>.....................] - ETA: 7s - loss: 0.0617\n",
      " 5120/12331 [===========>..................] - ETA: 6s - loss: 0.0614\n",
      " 6144/12331 [=============>................] - ETA: 5s - loss: 0.0612\n",
      " 7168/12331 [================>.............] - ETA: 5s - loss: 0.0613\n",
      " 8192/12331 [==================>...........] - ETA: 4s - loss: 0.0611\n",
      " 9216/12331 [=====================>........] - ETA: 3s - loss: 0.0612\n",
      "10240/12331 [=======================>......] - ETA: 2s - loss: 0.0616\n",
      "11264/12331 [==========================>...] - ETA: 1s - loss: 0.0621\n",
      "12288/12331 [============================>.] - ETA: 0s - loss: 0.0627Epoch 00007: saving model to checkpoints/2017-11-18_2013-seq2seq-attns-GRU-depthConv.hdf5\n",
      "\n",
      "12331/12331 [==============================] - ETA: 0s - loss: 0.0627 - val_loss: 0.0880\n",
      "Epoch 8/500\n"
     ]
    }
   ],
   "source": [
    "model.fit(X_train, y_train,\n",
    "          batch_size=bs,\n",
    "          epochs=epochs,\n",
    "          validation_split=0.05,\n",
    "          callbacks=[history,checkpointer,csv_logger,early_stop])"
   ]
  },
  {
   "cell_type": "markdown",
   "metadata": {
    "ExecuteTime": {
     "end_time": "2017-11-18T10:32:08.713366Z",
     "start_time": "2017-11-18T10:32:08.708839Z"
    }
   },
   "source": [
    "# Validation"
   ]
  },
  {
   "cell_type": "markdown",
   "metadata": {
    "ExecuteTime": {
     "end_time": "2017-11-18T10:32:08.707276Z",
     "start_time": "2017-11-18T10:32:08.705151Z"
    }
   },
   "source": [
    "## Validation by feeding truth values"
   ]
  },
  {
   "cell_type": "code",
   "execution_count": null,
   "metadata": {
    "ExecuteTime": {
     "start_time": "2017-11-18T20:13:04.034Z"
    },
    "collapsed": true
   },
   "outputs": [],
   "source": [
    "def plot_preds(y_truth, y_pred):\n",
    "    for junction in range(4):\n",
    "        plt.figure\n",
    "        plt.plot(y_truth[:,junction], color = 'blue', label = 'Real traffic')\n",
    "        plt.plot(y_pred[:,junction], color = 'orange', label = 'Predicted traffic')\n",
    "        plt.title('Traffic Forecasting at junction %i' % (junction+1))\n",
    "        plt.xlabel('Number of hours from Start')\n",
    "        plt.ylabel('Traffic')\n",
    "        plt.legend()\n",
    "        plt.show()"
   ]
  },
  {
   "cell_type": "markdown",
   "metadata": {},
   "source": [
    "### Prediction"
   ]
  },
  {
   "cell_type": "code",
   "execution_count": null,
   "metadata": {
    "ExecuteTime": {
     "start_time": "2017-11-18T20:13:04.036Z"
    },
    "collapsed": true
   },
   "outputs": [],
   "source": [
    "y_pred = model.predict(X_test)"
   ]
  },
  {
   "cell_type": "code",
   "execution_count": null,
   "metadata": {
    "ExecuteTime": {
     "start_time": "2017-11-18T20:13:04.038Z"
    }
   },
   "outputs": [],
   "source": [
    "y_pred.shape"
   ]
  },
  {
   "cell_type": "markdown",
   "metadata": {},
   "source": [
    "### Plot & score"
   ]
  },
  {
   "cell_type": "code",
   "execution_count": null,
   "metadata": {
    "ExecuteTime": {
     "start_time": "2017-11-18T20:13:04.041Z"
    }
   },
   "outputs": [],
   "source": [
    "plot_preds(y_test, y_pred)"
   ]
  },
  {
   "cell_type": "code",
   "execution_count": null,
   "metadata": {
    "ExecuteTime": {
     "start_time": "2017-11-18T20:13:04.044Z"
    },
    "collapsed": true
   },
   "outputs": [],
   "source": [
    "from sklearn.metrics import mean_squared_error\n",
    "from math import sqrt\n",
    "\n",
    "def rmse(y_true, y_pred):\n",
    "    return sqrt(mean_squared_error(y_true, y_pred))"
   ]
  },
  {
   "cell_type": "code",
   "execution_count": null,
   "metadata": {
    "ExecuteTime": {
     "start_time": "2017-11-18T20:13:04.047Z"
    }
   },
   "outputs": [],
   "source": [
    "rmse(y_test, y_pred)"
   ]
  },
  {
   "cell_type": "markdown",
   "metadata": {},
   "source": [
    "## Validation by feeding predicted values"
   ]
  },
  {
   "cell_type": "code",
   "execution_count": null,
   "metadata": {
    "ExecuteTime": {
     "start_time": "2017-11-18T20:13:04.049Z"
    },
    "collapsed": true
   },
   "outputs": [],
   "source": [
    "def pred_seq(model, to_pred, window_size):\n",
    "    num_preds = to_pred.shape[0]\n",
    "    current = to_pred[0]\n",
    "    predicted = []\n",
    "    for i in range(num_preds):\n",
    "        predicted.append(model.predict(current[np.newaxis,:,:])[0,:])\n",
    "        current = current[1:]\n",
    "        current = np.insert(current, [window_size-1], predicted[-1], axis=0)\n",
    "    return np.asarray(predicted)"
   ]
  },
  {
   "cell_type": "code",
   "execution_count": null,
   "metadata": {
    "ExecuteTime": {
     "start_time": "2017-11-18T20:13:04.051Z"
    },
    "collapsed": true
   },
   "outputs": [],
   "source": [
    "def pred_seq_multi(model, to_pred, window_size, pred_len):\n",
    "    prediction_seqs = []\n",
    "    for i in range(int(len(to_pred)/pred_len)):\n",
    "        current = to_pred[i * pred_len]\n",
    "        predicted = []\n",
    "        for j in range(pred_len):\n",
    "            predicted.append(model.predict(current[np.newaxis,:,:])[0,:])\n",
    "            current = current[1:]\n",
    "            current = np.insert(current, window_size-1, predicted[-1], axis=0)\n",
    "        prediction_seqs.append(predicted)\n",
    "    return np.asarray(predicted)"
   ]
  },
  {
   "cell_type": "markdown",
   "metadata": {},
   "source": [
    "### Predictions"
   ]
  },
  {
   "cell_type": "code",
   "execution_count": null,
   "metadata": {
    "ExecuteTime": {
     "start_time": "2017-11-18T20:13:04.054Z"
    }
   },
   "outputs": [],
   "source": [
    "seqpreds = pred_seq(model, X_test, seq_len)"
   ]
  },
  {
   "cell_type": "code",
   "execution_count": null,
   "metadata": {
    "ExecuteTime": {
     "start_time": "2017-11-18T20:13:04.055Z"
    }
   },
   "outputs": [],
   "source": [
    "seqpreds.shape"
   ]
  },
  {
   "cell_type": "markdown",
   "metadata": {},
   "source": [
    "### Plot & score"
   ]
  },
  {
   "cell_type": "code",
   "execution_count": null,
   "metadata": {
    "ExecuteTime": {
     "start_time": "2017-11-18T20:13:04.058Z"
    }
   },
   "outputs": [],
   "source": [
    "plot_preds(y_test, seqpreds)"
   ]
  },
  {
   "cell_type": "code",
   "execution_count": null,
   "metadata": {
    "ExecuteTime": {
     "start_time": "2017-11-18T20:13:04.060Z"
    }
   },
   "outputs": [],
   "source": [
    "rmse(y_test, seqpreds)"
   ]
  },
  {
   "cell_type": "code",
   "execution_count": null,
   "metadata": {
    "collapsed": true
   },
   "outputs": [],
   "source": []
  }
 ],
 "metadata": {
  "kernelspec": {
   "display_name": "Python 3",
   "language": "python",
   "name": "python3"
  },
  "language_info": {
   "codemirror_mode": {
    "name": "ipython",
    "version": 3
   },
   "file_extension": ".py",
   "mimetype": "text/x-python",
   "name": "python",
   "nbconvert_exporter": "python",
   "pygments_lexer": "ipython3",
   "version": "3.6.2"
  }
 },
 "nbformat": 4,
 "nbformat_minor": 2
}
