{
 "cells": [
  {
   "cell_type": "code",
   "execution_count": 1,
   "metadata": {
    "ExecuteTime": {
     "end_time": "2017-11-18T18:11:35.269951Z",
     "start_time": "2017-11-18T18:11:33.281629Z"
    }
   },
   "outputs": [
    {
     "name": "stderr",
     "output_type": "stream",
     "text": [
      "Using TensorFlow backend.\n"
     ]
    }
   ],
   "source": [
    "import numpy as np\n",
    "import pandas as pd\n",
    "import matplotlib.pyplot as plt\n",
    "\n",
    "from keras.layers.core import Dense, Activation, Dropout\n",
    "from keras.layers.recurrent import LSTM\n",
    "from keras.models import Sequential\n",
    "from keras.initializers import he_normal\n",
    "%matplotlib inline\n",
    "\n",
    "# Display only top 5 and bottom 5 rows\n",
    "pd.set_option('display.max_rows', 10)"
   ]
  },
  {
   "cell_type": "code",
   "execution_count": 2,
   "metadata": {
    "ExecuteTime": {
     "end_time": "2017-11-18T18:11:35.274720Z",
     "start_time": "2017-11-18T18:11:35.271597Z"
    },
    "collapsed": true
   },
   "outputs": [],
   "source": [
    "# Set random seed for reproducibility\n",
    "# Note: CuDNN is usually non-deterministic\n",
    "# (can't determine which of the ~3000 threads finish earlier)\n",
    "# And floating points reduction is not perfectly associative due to ULP rounding\n",
    "import numpy as np\n",
    "np.random.seed(1337)\n",
    "import tensorflow as tf\n",
    "tf.set_random_seed(1337)"
   ]
  },
  {
   "cell_type": "code",
   "execution_count": 3,
   "metadata": {
    "ExecuteTime": {
     "end_time": "2017-11-18T18:11:35.327499Z",
     "start_time": "2017-11-18T18:11:35.275646Z"
    }
   },
   "outputs": [
    {
     "data": {
      "text/html": [
       "<div>\n",
       "<style scoped>\n",
       "    .dataframe tbody tr th:only-of-type {\n",
       "        vertical-align: middle;\n",
       "    }\n",
       "\n",
       "    .dataframe tbody tr th {\n",
       "        vertical-align: top;\n",
       "    }\n",
       "\n",
       "    .dataframe thead th {\n",
       "        text-align: right;\n",
       "    }\n",
       "</style>\n",
       "<table border=\"1\" class=\"dataframe\">\n",
       "  <thead>\n",
       "    <tr style=\"text-align: right;\">\n",
       "      <th></th>\n",
       "      <th>DateTime</th>\n",
       "      <th>Junction</th>\n",
       "      <th>Vehicles</th>\n",
       "      <th>ID</th>\n",
       "    </tr>\n",
       "  </thead>\n",
       "  <tbody>\n",
       "    <tr>\n",
       "      <th>0</th>\n",
       "      <td>2015-11-01 00:00:00</td>\n",
       "      <td>1</td>\n",
       "      <td>15</td>\n",
       "      <td>20151101001</td>\n",
       "    </tr>\n",
       "    <tr>\n",
       "      <th>1</th>\n",
       "      <td>2015-11-01 01:00:00</td>\n",
       "      <td>1</td>\n",
       "      <td>13</td>\n",
       "      <td>20151101011</td>\n",
       "    </tr>\n",
       "    <tr>\n",
       "      <th>2</th>\n",
       "      <td>2015-11-01 02:00:00</td>\n",
       "      <td>1</td>\n",
       "      <td>10</td>\n",
       "      <td>20151101021</td>\n",
       "    </tr>\n",
       "    <tr>\n",
       "      <th>3</th>\n",
       "      <td>2015-11-01 03:00:00</td>\n",
       "      <td>1</td>\n",
       "      <td>7</td>\n",
       "      <td>20151101031</td>\n",
       "    </tr>\n",
       "    <tr>\n",
       "      <th>4</th>\n",
       "      <td>2015-11-01 04:00:00</td>\n",
       "      <td>1</td>\n",
       "      <td>9</td>\n",
       "      <td>20151101041</td>\n",
       "    </tr>\n",
       "    <tr>\n",
       "      <th>...</th>\n",
       "      <td>...</td>\n",
       "      <td>...</td>\n",
       "      <td>...</td>\n",
       "      <td>...</td>\n",
       "    </tr>\n",
       "    <tr>\n",
       "      <th>48115</th>\n",
       "      <td>2017-06-30 19:00:00</td>\n",
       "      <td>4</td>\n",
       "      <td>11</td>\n",
       "      <td>20170630194</td>\n",
       "    </tr>\n",
       "    <tr>\n",
       "      <th>48116</th>\n",
       "      <td>2017-06-30 20:00:00</td>\n",
       "      <td>4</td>\n",
       "      <td>30</td>\n",
       "      <td>20170630204</td>\n",
       "    </tr>\n",
       "    <tr>\n",
       "      <th>48117</th>\n",
       "      <td>2017-06-30 21:00:00</td>\n",
       "      <td>4</td>\n",
       "      <td>16</td>\n",
       "      <td>20170630214</td>\n",
       "    </tr>\n",
       "    <tr>\n",
       "      <th>48118</th>\n",
       "      <td>2017-06-30 22:00:00</td>\n",
       "      <td>4</td>\n",
       "      <td>22</td>\n",
       "      <td>20170630224</td>\n",
       "    </tr>\n",
       "    <tr>\n",
       "      <th>48119</th>\n",
       "      <td>2017-06-30 23:00:00</td>\n",
       "      <td>4</td>\n",
       "      <td>12</td>\n",
       "      <td>20170630234</td>\n",
       "    </tr>\n",
       "  </tbody>\n",
       "</table>\n",
       "<p>48120 rows × 4 columns</p>\n",
       "</div>"
      ],
      "text/plain": [
       "                 DateTime  Junction  Vehicles           ID\n",
       "0     2015-11-01 00:00:00         1        15  20151101001\n",
       "1     2015-11-01 01:00:00         1        13  20151101011\n",
       "2     2015-11-01 02:00:00         1        10  20151101021\n",
       "3     2015-11-01 03:00:00         1         7  20151101031\n",
       "4     2015-11-01 04:00:00         1         9  20151101041\n",
       "...                   ...       ...       ...          ...\n",
       "48115 2017-06-30 19:00:00         4        11  20170630194\n",
       "48116 2017-06-30 20:00:00         4        30  20170630204\n",
       "48117 2017-06-30 21:00:00         4        16  20170630214\n",
       "48118 2017-06-30 22:00:00         4        22  20170630224\n",
       "48119 2017-06-30 23:00:00         4        12  20170630234\n",
       "\n",
       "[48120 rows x 4 columns]"
      ]
     },
     "execution_count": 3,
     "metadata": {},
     "output_type": "execute_result"
    }
   ],
   "source": [
    "df_train = pd.read_csv('./data/train_aWnotuB.csv', parse_dates=[0], infer_datetime_format=True)\n",
    "df_train"
   ]
  },
  {
   "cell_type": "markdown",
   "metadata": {},
   "source": [
    "# Preprocessing"
   ]
  },
  {
   "cell_type": "code",
   "execution_count": 4,
   "metadata": {
    "ExecuteTime": {
     "end_time": "2017-11-18T18:11:35.347783Z",
     "start_time": "2017-11-18T18:11:35.328838Z"
    }
   },
   "outputs": [
    {
     "data": {
      "text/html": [
       "<div>\n",
       "<style scoped>\n",
       "    .dataframe tbody tr th:only-of-type {\n",
       "        vertical-align: middle;\n",
       "    }\n",
       "\n",
       "    .dataframe tbody tr th {\n",
       "        vertical-align: top;\n",
       "    }\n",
       "\n",
       "    .dataframe thead th {\n",
       "        text-align: right;\n",
       "    }\n",
       "</style>\n",
       "<table border=\"1\" class=\"dataframe\">\n",
       "  <thead>\n",
       "    <tr style=\"text-align: right;\">\n",
       "      <th>Junction</th>\n",
       "      <th>1</th>\n",
       "      <th>2</th>\n",
       "      <th>3</th>\n",
       "      <th>4</th>\n",
       "    </tr>\n",
       "    <tr>\n",
       "      <th>DateTime</th>\n",
       "      <th></th>\n",
       "      <th></th>\n",
       "      <th></th>\n",
       "      <th></th>\n",
       "    </tr>\n",
       "  </thead>\n",
       "  <tbody>\n",
       "    <tr>\n",
       "      <th>2015-11-01 00:00:00</th>\n",
       "      <td>15.0</td>\n",
       "      <td>6.0</td>\n",
       "      <td>9.0</td>\n",
       "      <td>NaN</td>\n",
       "    </tr>\n",
       "    <tr>\n",
       "      <th>2015-11-01 01:00:00</th>\n",
       "      <td>13.0</td>\n",
       "      <td>6.0</td>\n",
       "      <td>7.0</td>\n",
       "      <td>NaN</td>\n",
       "    </tr>\n",
       "    <tr>\n",
       "      <th>2015-11-01 02:00:00</th>\n",
       "      <td>10.0</td>\n",
       "      <td>5.0</td>\n",
       "      <td>5.0</td>\n",
       "      <td>NaN</td>\n",
       "    </tr>\n",
       "    <tr>\n",
       "      <th>2015-11-01 03:00:00</th>\n",
       "      <td>7.0</td>\n",
       "      <td>6.0</td>\n",
       "      <td>1.0</td>\n",
       "      <td>NaN</td>\n",
       "    </tr>\n",
       "    <tr>\n",
       "      <th>2015-11-01 04:00:00</th>\n",
       "      <td>9.0</td>\n",
       "      <td>7.0</td>\n",
       "      <td>2.0</td>\n",
       "      <td>NaN</td>\n",
       "    </tr>\n",
       "    <tr>\n",
       "      <th>...</th>\n",
       "      <td>...</td>\n",
       "      <td>...</td>\n",
       "      <td>...</td>\n",
       "      <td>...</td>\n",
       "    </tr>\n",
       "    <tr>\n",
       "      <th>2017-06-30 19:00:00</th>\n",
       "      <td>105.0</td>\n",
       "      <td>34.0</td>\n",
       "      <td>33.0</td>\n",
       "      <td>11.0</td>\n",
       "    </tr>\n",
       "    <tr>\n",
       "      <th>2017-06-30 20:00:00</th>\n",
       "      <td>96.0</td>\n",
       "      <td>35.0</td>\n",
       "      <td>31.0</td>\n",
       "      <td>30.0</td>\n",
       "    </tr>\n",
       "    <tr>\n",
       "      <th>2017-06-30 21:00:00</th>\n",
       "      <td>90.0</td>\n",
       "      <td>31.0</td>\n",
       "      <td>28.0</td>\n",
       "      <td>16.0</td>\n",
       "    </tr>\n",
       "    <tr>\n",
       "      <th>2017-06-30 22:00:00</th>\n",
       "      <td>84.0</td>\n",
       "      <td>29.0</td>\n",
       "      <td>26.0</td>\n",
       "      <td>22.0</td>\n",
       "    </tr>\n",
       "    <tr>\n",
       "      <th>2017-06-30 23:00:00</th>\n",
       "      <td>78.0</td>\n",
       "      <td>27.0</td>\n",
       "      <td>39.0</td>\n",
       "      <td>12.0</td>\n",
       "    </tr>\n",
       "  </tbody>\n",
       "</table>\n",
       "<p>14592 rows × 4 columns</p>\n",
       "</div>"
      ],
      "text/plain": [
       "Junction                 1     2     3     4\n",
       "DateTime                                    \n",
       "2015-11-01 00:00:00   15.0   6.0   9.0   NaN\n",
       "2015-11-01 01:00:00   13.0   6.0   7.0   NaN\n",
       "2015-11-01 02:00:00   10.0   5.0   5.0   NaN\n",
       "2015-11-01 03:00:00    7.0   6.0   1.0   NaN\n",
       "2015-11-01 04:00:00    9.0   7.0   2.0   NaN\n",
       "...                    ...   ...   ...   ...\n",
       "2017-06-30 19:00:00  105.0  34.0  33.0  11.0\n",
       "2017-06-30 20:00:00   96.0  35.0  31.0  30.0\n",
       "2017-06-30 21:00:00   90.0  31.0  28.0  16.0\n",
       "2017-06-30 22:00:00   84.0  29.0  26.0  22.0\n",
       "2017-06-30 23:00:00   78.0  27.0  39.0  12.0\n",
       "\n",
       "[14592 rows x 4 columns]"
      ]
     },
     "execution_count": 4,
     "metadata": {},
     "output_type": "execute_result"
    }
   ],
   "source": [
    "train = df_train.pivot(index='DateTime',columns='Junction', values='Vehicles')\n",
    "train"
   ]
  },
  {
   "cell_type": "markdown",
   "metadata": {
    "ExecuteTime": {
     "end_time": "2017-11-18T09:50:40.101929Z",
     "start_time": "2017-11-18T09:50:40.100033Z"
    }
   },
   "source": [
    "## Remove Nan (0 vehicle)"
   ]
  },
  {
   "cell_type": "code",
   "execution_count": 5,
   "metadata": {
    "ExecuteTime": {
     "end_time": "2017-11-18T18:11:35.351796Z",
     "start_time": "2017-11-18T18:11:35.349125Z"
    },
    "collapsed": true
   },
   "outputs": [],
   "source": [
    "train = train.fillna(0)"
   ]
  },
  {
   "cell_type": "markdown",
   "metadata": {},
   "source": [
    "## Normalize the data on 0, 1"
   ]
  },
  {
   "cell_type": "code",
   "execution_count": 6,
   "metadata": {
    "ExecuteTime": {
     "end_time": "2017-11-18T18:11:35.441961Z",
     "start_time": "2017-11-18T18:11:35.352861Z"
    },
    "collapsed": true
   },
   "outputs": [],
   "source": [
    "from sklearn.preprocessing import MinMaxScaler, StandardScaler"
   ]
  },
  {
   "cell_type": "code",
   "execution_count": 7,
   "metadata": {
    "ExecuteTime": {
     "end_time": "2017-11-18T18:11:35.445581Z",
     "start_time": "2017-11-18T18:11:35.443483Z"
    },
    "collapsed": true
   },
   "outputs": [],
   "source": [
    "# scaler = MinMaxScaler(feature_range=(-1, 1))\n",
    "# scaler = StandardScaler()\n",
    "scaler = MinMaxScaler(feature_range=(0, 1))"
   ]
  },
  {
   "cell_type": "code",
   "execution_count": 8,
   "metadata": {
    "ExecuteTime": {
     "end_time": "2017-11-18T18:11:35.452186Z",
     "start_time": "2017-11-18T18:11:35.446608Z"
    },
    "collapsed": true
   },
   "outputs": [],
   "source": [
    "train[train.columns] = scaler.fit_transform(train[train.columns])"
   ]
  },
  {
   "cell_type": "code",
   "execution_count": 9,
   "metadata": {
    "ExecuteTime": {
     "end_time": "2017-11-18T18:11:35.461980Z",
     "start_time": "2017-11-18T18:11:35.453168Z"
    }
   },
   "outputs": [
    {
     "data": {
      "text/html": [
       "<div>\n",
       "<style scoped>\n",
       "    .dataframe tbody tr th:only-of-type {\n",
       "        vertical-align: middle;\n",
       "    }\n",
       "\n",
       "    .dataframe tbody tr th {\n",
       "        vertical-align: top;\n",
       "    }\n",
       "\n",
       "    .dataframe thead th {\n",
       "        text-align: right;\n",
       "    }\n",
       "</style>\n",
       "<table border=\"1\" class=\"dataframe\">\n",
       "  <thead>\n",
       "    <tr style=\"text-align: right;\">\n",
       "      <th>Junction</th>\n",
       "      <th>1</th>\n",
       "      <th>2</th>\n",
       "      <th>3</th>\n",
       "      <th>4</th>\n",
       "    </tr>\n",
       "    <tr>\n",
       "      <th>DateTime</th>\n",
       "      <th></th>\n",
       "      <th></th>\n",
       "      <th></th>\n",
       "      <th></th>\n",
       "    </tr>\n",
       "  </thead>\n",
       "  <tbody>\n",
       "    <tr>\n",
       "      <th>2015-11-01 00:00:00</th>\n",
       "      <td>0.066225</td>\n",
       "      <td>0.106383</td>\n",
       "      <td>0.044693</td>\n",
       "      <td>0.000000</td>\n",
       "    </tr>\n",
       "    <tr>\n",
       "      <th>2015-11-01 01:00:00</th>\n",
       "      <td>0.052980</td>\n",
       "      <td>0.106383</td>\n",
       "      <td>0.033520</td>\n",
       "      <td>0.000000</td>\n",
       "    </tr>\n",
       "    <tr>\n",
       "      <th>2015-11-01 02:00:00</th>\n",
       "      <td>0.033113</td>\n",
       "      <td>0.085106</td>\n",
       "      <td>0.022346</td>\n",
       "      <td>0.000000</td>\n",
       "    </tr>\n",
       "    <tr>\n",
       "      <th>2015-11-01 03:00:00</th>\n",
       "      <td>0.013245</td>\n",
       "      <td>0.106383</td>\n",
       "      <td>0.000000</td>\n",
       "      <td>0.000000</td>\n",
       "    </tr>\n",
       "    <tr>\n",
       "      <th>2015-11-01 04:00:00</th>\n",
       "      <td>0.026490</td>\n",
       "      <td>0.127660</td>\n",
       "      <td>0.005587</td>\n",
       "      <td>0.000000</td>\n",
       "    </tr>\n",
       "    <tr>\n",
       "      <th>...</th>\n",
       "      <td>...</td>\n",
       "      <td>...</td>\n",
       "      <td>...</td>\n",
       "      <td>...</td>\n",
       "    </tr>\n",
       "    <tr>\n",
       "      <th>2017-06-30 19:00:00</th>\n",
       "      <td>0.662252</td>\n",
       "      <td>0.702128</td>\n",
       "      <td>0.178771</td>\n",
       "      <td>0.305556</td>\n",
       "    </tr>\n",
       "    <tr>\n",
       "      <th>2017-06-30 20:00:00</th>\n",
       "      <td>0.602649</td>\n",
       "      <td>0.723404</td>\n",
       "      <td>0.167598</td>\n",
       "      <td>0.833333</td>\n",
       "    </tr>\n",
       "    <tr>\n",
       "      <th>2017-06-30 21:00:00</th>\n",
       "      <td>0.562914</td>\n",
       "      <td>0.638298</td>\n",
       "      <td>0.150838</td>\n",
       "      <td>0.444444</td>\n",
       "    </tr>\n",
       "    <tr>\n",
       "      <th>2017-06-30 22:00:00</th>\n",
       "      <td>0.523179</td>\n",
       "      <td>0.595745</td>\n",
       "      <td>0.139665</td>\n",
       "      <td>0.611111</td>\n",
       "    </tr>\n",
       "    <tr>\n",
       "      <th>2017-06-30 23:00:00</th>\n",
       "      <td>0.483444</td>\n",
       "      <td>0.553191</td>\n",
       "      <td>0.212291</td>\n",
       "      <td>0.333333</td>\n",
       "    </tr>\n",
       "  </tbody>\n",
       "</table>\n",
       "<p>14592 rows × 4 columns</p>\n",
       "</div>"
      ],
      "text/plain": [
       "Junction                    1         2         3         4\n",
       "DateTime                                                   \n",
       "2015-11-01 00:00:00  0.066225  0.106383  0.044693  0.000000\n",
       "2015-11-01 01:00:00  0.052980  0.106383  0.033520  0.000000\n",
       "2015-11-01 02:00:00  0.033113  0.085106  0.022346  0.000000\n",
       "2015-11-01 03:00:00  0.013245  0.106383  0.000000  0.000000\n",
       "2015-11-01 04:00:00  0.026490  0.127660  0.005587  0.000000\n",
       "...                       ...       ...       ...       ...\n",
       "2017-06-30 19:00:00  0.662252  0.702128  0.178771  0.305556\n",
       "2017-06-30 20:00:00  0.602649  0.723404  0.167598  0.833333\n",
       "2017-06-30 21:00:00  0.562914  0.638298  0.150838  0.444444\n",
       "2017-06-30 22:00:00  0.523179  0.595745  0.139665  0.611111\n",
       "2017-06-30 23:00:00  0.483444  0.553191  0.212291  0.333333\n",
       "\n",
       "[14592 rows x 4 columns]"
      ]
     },
     "execution_count": 9,
     "metadata": {},
     "output_type": "execute_result"
    }
   ],
   "source": [
    "train"
   ]
  },
  {
   "cell_type": "markdown",
   "metadata": {},
   "source": [
    "# Generate rolling forecast features"
   ]
  },
  {
   "cell_type": "code",
   "execution_count": 10,
   "metadata": {
    "ExecuteTime": {
     "end_time": "2017-11-18T18:11:35.466197Z",
     "start_time": "2017-11-18T18:11:35.463495Z"
    },
    "collapsed": true
   },
   "outputs": [],
   "source": [
    "nb_forecast_per_junction = 24 * (31 + 31 + 30 + 31) # Days in jul + aug + sep + oct"
   ]
  },
  {
   "cell_type": "code",
   "execution_count": 11,
   "metadata": {
    "ExecuteTime": {
     "end_time": "2017-11-18T18:11:35.471705Z",
     "start_time": "2017-11-18T18:11:35.467310Z"
    }
   },
   "outputs": [
    {
     "data": {
      "text/plain": [
       "2952"
      ]
     },
     "execution_count": 11,
     "metadata": {},
     "output_type": "execute_result"
    }
   ],
   "source": [
    "nb_forecast_per_junction"
   ]
  },
  {
   "cell_type": "code",
   "execution_count": 12,
   "metadata": {
    "ExecuteTime": {
     "end_time": "2017-11-18T18:11:35.477025Z",
     "start_time": "2017-11-18T18:11:35.472643Z"
    }
   },
   "outputs": [
    {
     "data": {
      "text/plain": [
       "11808"
      ]
     },
     "execution_count": 12,
     "metadata": {},
     "output_type": "execute_result"
    }
   ],
   "source": [
    "nb_forecast_per_junction * 4"
   ]
  },
  {
   "cell_type": "markdown",
   "metadata": {},
   "source": [
    "That will certainly not fit in the GPU VRAM --> We will get inspiration from seq2seq models and do a sliding window of time that matches a week."
   ]
  },
  {
   "cell_type": "code",
   "execution_count": 13,
   "metadata": {
    "ExecuteTime": {
     "end_time": "2017-11-18T18:11:35.485753Z",
     "start_time": "2017-11-18T18:11:35.478398Z"
    },
    "collapsed": true
   },
   "outputs": [],
   "source": [
    "num_feats = 4\n",
    "seq_len = 24 * 3 # Sequence of 3 days\n",
    "num_outputs = 4\n",
    "num_hidden = 64 # Keep 64 * 3 days of hidden states (over 6 months)\n",
    "bs = 1024 * 3\n",
    "epochs = 50"
   ]
  },
  {
   "cell_type": "markdown",
   "metadata": {},
   "source": [
    "We originally had 14592 rows, we will generate sequences of predictions from it."
   ]
  },
  {
   "cell_type": "code",
   "execution_count": 14,
   "metadata": {
    "ExecuteTime": {
     "end_time": "2017-11-18T18:11:35.498828Z",
     "start_time": "2017-11-18T18:11:35.487263Z"
    },
    "collapsed": true
   },
   "outputs": [],
   "source": [
    "def make_input_seqs(data, seq_len, train_split=0.9):\n",
    "    seq_len = seq_len + 1\n",
    "    result = []\n",
    "    for index in range(len(data) - seq_len):\n",
    "        result.append(data[index: index + seq_len, :])\n",
    "    result = np.array(result) # shape (14423, 168, 4)\n",
    "    train_ind = round(train_split * result.shape[0])\n",
    "    train = result[:int(train_ind), :, :]\n",
    "    x_train = train[:, :-1, :]\n",
    "    y_train = train[:, -1, :]\n",
    "    x_test = result[int(train_ind):, :-1, :]\n",
    "    y_test = result[int(train_ind):, -1, :]\n",
    "\n",
    "    return [x_train, y_train, x_test, y_test]"
   ]
  },
  {
   "cell_type": "code",
   "execution_count": 15,
   "metadata": {
    "ExecuteTime": {
     "end_time": "2017-11-18T18:11:35.526040Z",
     "start_time": "2017-11-18T18:11:35.500275Z"
    },
    "collapsed": true
   },
   "outputs": [],
   "source": [
    "X_train, y_train, X_test, y_test = make_input_seqs(train.values, seq_len)"
   ]
  },
  {
   "cell_type": "markdown",
   "metadata": {},
   "source": [
    "# Generate model"
   ]
  },
  {
   "cell_type": "markdown",
   "metadata": {},
   "source": [
    "## Loss function"
   ]
  },
  {
   "cell_type": "code",
   "execution_count": 16,
   "metadata": {
    "ExecuteTime": {
     "end_time": "2017-11-18T18:11:35.530865Z",
     "start_time": "2017-11-18T18:11:35.527732Z"
    },
    "collapsed": true
   },
   "outputs": [],
   "source": [
    "import keras.backend as K\n",
    "\n",
    "def root_mean_squared_error(y_true, y_pred):\n",
    "        return K.sqrt(K.mean(K.square(y_pred - y_true), axis=-1)) "
   ]
  },
  {
   "cell_type": "markdown",
   "metadata": {},
   "source": [
    "## Neural net"
   ]
  },
  {
   "cell_type": "code",
   "execution_count": 17,
   "metadata": {
    "ExecuteTime": {
     "end_time": "2017-11-18T18:11:35.535459Z",
     "start_time": "2017-11-18T18:11:35.531915Z"
    },
    "collapsed": true
   },
   "outputs": [],
   "source": [
    "from keras.optimizers import adam, rmsprop"
   ]
  },
  {
   "cell_type": "code",
   "execution_count": null,
   "metadata": {
    "collapsed": true
   },
   "outputs": [],
   "source": []
  },
  {
   "cell_type": "code",
   "execution_count": 18,
   "metadata": {
    "ExecuteTime": {
     "end_time": "2017-11-18T18:11:35.549024Z",
     "start_time": "2017-11-18T18:11:35.536480Z"
    }
   },
   "outputs": [],
   "source": [
    "# adam = adam(clipvalue=0.5) # Clip to avoid exploding gradients\n",
    "rmsprop = rmsprop(lr = 0.0004)"
   ]
  },
  {
   "cell_type": "code",
   "execution_count": 19,
   "metadata": {
    "ExecuteTime": {
     "end_time": "2017-11-18T18:11:35.554148Z",
     "start_time": "2017-11-18T18:11:35.550461Z"
    },
    "collapsed": true
   },
   "outputs": [],
   "source": [
    "from keras.layers import *\n",
    "from keras.layers.core import *\n",
    "from keras.layers.recurrent import *\n",
    "from keras.models import *\n",
    "from keras.activations import *"
   ]
  },
  {
   "cell_type": "code",
   "execution_count": 20,
   "metadata": {
    "ExecuteTime": {
     "end_time": "2017-11-18T18:11:35.567375Z",
     "start_time": "2017-11-18T18:11:35.555193Z"
    }
   },
   "outputs": [],
   "source": [
    "def attention_n_days_ago(inputs, days_ago):\n",
    "    # inputs.shape = (batch_size, time_steps, input_dim)\n",
    "    time_steps = days_ago * 24\n",
    "    \n",
    "    # We compute the attention over the seq_len\n",
    "    a = Permute((2, 1))(inputs)\n",
    "    a = Dense(time_steps, activation='softmax')(a)\n",
    "    \n",
    "    # Now we convolute so that it average over the whole time window\n",
    "    feats_depth = int(inputs.shape[2])\n",
    "    avg = Lambda(lambda x: K.expand_dims(x, axis = 1))(inputs)\n",
    "    avg = SeparableConv2D(feats_depth, (1,1))(avg)\n",
    "    avg = Lambda(lambda x: K.squeeze(x, 1))(avg)\n",
    "    \n",
    "    \n",
    "    a_probs = Permute((2, 1), name='attn_' + str(days_ago) + '_days')(avg)\n",
    "    # out = Multiply(name='attn_mul_'+ str(days_ago) +'_days')([inputs, a_probs])\n",
    "    out = Concatenate(name='attention_cat_'+ str(days_ago) +'_days')([inputs, a_probs])\n",
    "    return out"
   ]
  },
  {
   "cell_type": "code",
   "execution_count": 21,
   "metadata": {
    "ExecuteTime": {
     "end_time": "2017-11-18T18:11:35.595545Z",
     "start_time": "2017-11-18T18:11:35.568912Z"
    }
   },
   "outputs": [],
   "source": [
    "def Net(num_feats, seq_len, num_hidden, num_outputs):\n",
    "    x = Input((seq_len, num_feats))\n",
    "\n",
    "    # Encoder RNNs\n",
    "    enc = LSTM(seq_len,\n",
    "               return_sequences=True)(x)\n",
    "    \n",
    "    # Attention decoders\n",
    "    attention_1d = attention_n_days_ago(enc, 1)\n",
    "    attention_1w = attention_n_days_ago(enc, 7)\n",
    "    attention_1m = attention_n_days_ago(enc, 30)\n",
    "    attention_1q = attention_n_days_ago(enc, 92)\n",
    "    attention_1y = attention_n_days_ago(enc, 365)\n",
    "    \n",
    "    att = Concatenate(name='attns_cat', axis = 1)([attention_1d,\n",
    "                                                   attention_1w,\n",
    "                                                   attention_1m,\n",
    "                                                   attention_1q,\n",
    "                                                   attention_1y])\n",
    "    \n",
    "    # How to merge? concat, mul, add, use Dense Layer or Depthwise convolution ?\n",
    "    att = Permute((2, 1))(att)\n",
    "    att = Dense(seq_len, activation=None)(att)\n",
    "    att = Lambda(lambda x: softmax(x, axis = 1))(att) # Flatten along the concat axis\n",
    "    \n",
    "    # Decoder RNN\n",
    "    dec = LSTM(num_hidden,\n",
    "               return_sequences=False)(att)\n",
    "\n",
    "    # Regressor\n",
    "    # Note that Dense is automatically TimeDistributed in Keras 2\n",
    "    out = Dense(num_outputs, activation=None)(dec) # no activation for regression\n",
    "    \n",
    "    model = Model(inputs=x, outputs=out)\n",
    "                          \n",
    "    model.compile(loss= root_mean_squared_error, optimizer= rmsprop)\n",
    "    return model"
   ]
  },
  {
   "cell_type": "code",
   "execution_count": 22,
   "metadata": {
    "ExecuteTime": {
     "end_time": "2017-11-18T18:11:36.345997Z",
     "start_time": "2017-11-18T18:11:35.596662Z"
    }
   },
   "outputs": [],
   "source": [
    "model = Net(num_feats, seq_len, num_hidden, num_outputs)"
   ]
  },
  {
   "cell_type": "code",
   "execution_count": 23,
   "metadata": {
    "ExecuteTime": {
     "end_time": "2017-11-18T18:11:36.355247Z",
     "start_time": "2017-11-18T18:11:36.347248Z"
    }
   },
   "outputs": [
    {
     "name": "stdout",
     "output_type": "stream",
     "text": [
      "__________________________________________________________________________________________________\n",
      "Layer (type)                    Output Shape         Param #     Connected to                     \n",
      "==================================================================================================\n",
      "input_1 (InputLayer)            (None, 72, 4)        0                                            \n",
      "__________________________________________________________________________________________________\n",
      "lstm_1 (LSTM)                   (None, 72, 72)       22176       input_1[0][0]                    \n",
      "__________________________________________________________________________________________________\n",
      "lambda_1 (Lambda)               (None, 1, 72, 72)    0           lstm_1[0][0]                     \n",
      "__________________________________________________________________________________________________\n",
      "lambda_3 (Lambda)               (None, 1, 72, 72)    0           lstm_1[0][0]                     \n",
      "__________________________________________________________________________________________________\n",
      "lambda_5 (Lambda)               (None, 1, 72, 72)    0           lstm_1[0][0]                     \n",
      "__________________________________________________________________________________________________\n",
      "lambda_7 (Lambda)               (None, 1, 72, 72)    0           lstm_1[0][0]                     \n",
      "__________________________________________________________________________________________________\n",
      "lambda_9 (Lambda)               (None, 1, 72, 72)    0           lstm_1[0][0]                     \n",
      "__________________________________________________________________________________________________\n",
      "separable_conv2d_1 (SeparableCo (None, 1, 72, 72)    5328        lambda_1[0][0]                   \n",
      "__________________________________________________________________________________________________\n",
      "separable_conv2d_2 (SeparableCo (None, 1, 72, 72)    5328        lambda_3[0][0]                   \n",
      "__________________________________________________________________________________________________\n",
      "separable_conv2d_3 (SeparableCo (None, 1, 72, 72)    5328        lambda_5[0][0]                   \n",
      "__________________________________________________________________________________________________\n",
      "separable_conv2d_4 (SeparableCo (None, 1, 72, 72)    5328        lambda_7[0][0]                   \n",
      "__________________________________________________________________________________________________\n",
      "separable_conv2d_5 (SeparableCo (None, 1, 72, 72)    5328        lambda_9[0][0]                   \n",
      "__________________________________________________________________________________________________\n",
      "lambda_2 (Lambda)               (None, 72, 72)       0           separable_conv2d_1[0][0]         \n",
      "__________________________________________________________________________________________________\n",
      "lambda_4 (Lambda)               (None, 72, 72)       0           separable_conv2d_2[0][0]         \n",
      "__________________________________________________________________________________________________\n",
      "lambda_6 (Lambda)               (None, 72, 72)       0           separable_conv2d_3[0][0]         \n",
      "__________________________________________________________________________________________________\n",
      "lambda_8 (Lambda)               (None, 72, 72)       0           separable_conv2d_4[0][0]         \n",
      "__________________________________________________________________________________________________\n",
      "lambda_10 (Lambda)              (None, 72, 72)       0           separable_conv2d_5[0][0]         \n",
      "__________________________________________________________________________________________________\n",
      "attn_1_days (Permute)           (None, 72, 72)       0           lambda_2[0][0]                   \n",
      "__________________________________________________________________________________________________\n",
      "attn_7_days (Permute)           (None, 72, 72)       0           lambda_4[0][0]                   \n",
      "__________________________________________________________________________________________________\n",
      "attn_30_days (Permute)          (None, 72, 72)       0           lambda_6[0][0]                   \n",
      "__________________________________________________________________________________________________\n",
      "attn_92_days (Permute)          (None, 72, 72)       0           lambda_8[0][0]                   \n",
      "__________________________________________________________________________________________________\n",
      "attn_365_days (Permute)         (None, 72, 72)       0           lambda_10[0][0]                  \n",
      "__________________________________________________________________________________________________\n",
      "attention_cat_1_days (Concatena (None, 72, 144)      0           lstm_1[0][0]                     \n",
      "                                                                 attn_1_days[0][0]                \n",
      "__________________________________________________________________________________________________\n",
      "attention_cat_7_days (Concatena (None, 72, 144)      0           lstm_1[0][0]                     \n",
      "                                                                 attn_7_days[0][0]                \n",
      "__________________________________________________________________________________________________\n",
      "attention_cat_30_days (Concaten (None, 72, 144)      0           lstm_1[0][0]                     \n",
      "                                                                 attn_30_days[0][0]               \n",
      "__________________________________________________________________________________________________\n",
      "attention_cat_92_days (Concaten (None, 72, 144)      0           lstm_1[0][0]                     \n",
      "                                                                 attn_92_days[0][0]               \n",
      "__________________________________________________________________________________________________\n",
      "attention_cat_365_days (Concate (None, 72, 144)      0           lstm_1[0][0]                     \n",
      "                                                                 attn_365_days[0][0]              \n",
      "__________________________________________________________________________________________________\n",
      "attns_cat (Concatenate)         (None, 360, 144)     0           attention_cat_1_days[0][0]       \n",
      "                                                                 attention_cat_7_days[0][0]       \n",
      "                                                                 attention_cat_30_days[0][0]      \n",
      "                                                                 attention_cat_92_days[0][0]      \n",
      "                                                                 attention_cat_365_days[0][0]     \n",
      "__________________________________________________________________________________________________\n",
      "permute_6 (Permute)             (None, 144, 360)     0           attns_cat[0][0]                  \n",
      "__________________________________________________________________________________________________\n",
      "dense_6 (Dense)                 (None, 144, 72)      25992       permute_6[0][0]                  \n",
      "__________________________________________________________________________________________________\n",
      "lambda_11 (Lambda)              (None, 144, 72)      0           dense_6[0][0]                    \n",
      "__________________________________________________________________________________________________\n",
      "lstm_2 (LSTM)                   (None, 64)           35072       lambda_11[0][0]                  \n",
      "__________________________________________________________________________________________________\n",
      "dense_7 (Dense)                 (None, 4)            260         lstm_2[0][0]                     \n",
      "==================================================================================================\n",
      "Total params: 110,140\n",
      "Trainable params: 110,140\n",
      "Non-trainable params: 0\n",
      "__________________________________________________________________________________________________\n"
     ]
    }
   ],
   "source": [
    "model.summary()"
   ]
  },
  {
   "cell_type": "markdown",
   "metadata": {
    "ExecuteTime": {
     "end_time": "2017-11-18T11:26:59.040374Z",
     "start_time": "2017-11-18T11:26:59.038563Z"
    }
   },
   "source": [
    "### Callbacks"
   ]
  },
  {
   "cell_type": "code",
   "execution_count": 24,
   "metadata": {
    "ExecuteTime": {
     "end_time": "2017-11-18T18:11:36.358350Z",
     "start_time": "2017-11-18T18:11:36.356324Z"
    },
    "collapsed": true
   },
   "outputs": [],
   "source": [
    "from keras.callbacks import History, ModelCheckpoint, CSVLogger, EarlyStopping\n",
    "import time"
   ]
  },
  {
   "cell_type": "code",
   "execution_count": null,
   "metadata": {
    "ExecuteTime": {
     "start_time": "2017-11-18T18:11:33.317Z"
    },
    "collapsed": true
   },
   "outputs": [],
   "source": [
    "history = History()\n",
    "checkpointer = ModelCheckpoint(filepath=\"checkpoints/\" + time.strftime(\"%Y-%m-%d_%H%M-\")+\"seq2seq-multi-attn-conv2d-softmax3D.hdf5\",\n",
    "                               verbose=1, save_best_only=False)\n",
    "csv_logger = CSVLogger(\"checkpoints/\" + time.strftime(\"%Y-%m-%d_%H%M-\")+'training.log')\n",
    "early_stop = EarlyStopping(monitor='val_loss', min_delta=0, patience=5, verbose=1, mode='auto')"
   ]
  },
  {
   "cell_type": "markdown",
   "metadata": {},
   "source": [
    "# Training"
   ]
  },
  {
   "cell_type": "code",
   "execution_count": null,
   "metadata": {
    "ExecuteTime": {
     "start_time": "2017-11-18T18:11:33.319Z"
    }
   },
   "outputs": [
    {
     "name": "stdout",
     "output_type": "stream",
     "text": [
      "Train on 12413 samples, validate on 654 samples\n",
      "Epoch 1/50\n",
      "\n",
      " 3072/12413 [======>.......................] - ETA: 6s - loss: 0.1843\n",
      " 6144/12413 [=============>................] - ETA: 3s - loss: 0.1810\n",
      " 9216/12413 [=====================>........] - ETA: 1s - loss: 0.1765\n",
      "12288/12413 [============================>.] - ETA: 0s - loss: 0.1718Epoch 00001: saving model to checkpoints/2017-11-18_1811-seq2seq-multi-attn-conv2d-softmax3D.hdf5\n",
      "\n",
      "12413/12413 [==============================] - ETA: 0s - loss: 0.1717 - val_loss: 0.2828\n",
      "Epoch 2/50\n",
      "\n",
      " 3072/12413 [======>.......................] - ETA: 1s - loss: 0.1435\n",
      " 6144/12413 [=============>................] - ETA: 1s - loss: 0.1379\n",
      " 9216/12413 [=====================>........] - ETA: 0s - loss: 0.1341\n",
      "12288/12413 [============================>.] - ETA: 0s - loss: 0.1290Epoch 00002: saving model to checkpoints/2017-11-18_1811-seq2seq-multi-attn-conv2d-softmax3D.hdf5\n",
      "\n",
      "12413/12413 [==============================] - ETA: 0s - loss: 0.1285 - val_loss: 0.2111\n",
      "Epoch 3/50\n",
      "\n",
      " 3072/12413 [======>.......................] - ETA: 1s - loss: 0.0918\n",
      " 6144/12413 [=============>................] - ETA: 1s - loss: 0.0883\n",
      " 9216/12413 [=====================>........] - ETA: 0s - loss: 0.0871\n",
      "12288/12413 [============================>.] - ETA: 0s - loss: 0.0870Epoch 00003: saving model to checkpoints/2017-11-18_1811-seq2seq-multi-attn-conv2d-softmax3D.hdf5\n",
      "\n",
      "12413/12413 [==============================] - ETA: 0s - loss: 0.0869 - val_loss: 0.1826\n",
      "Epoch 4/50\n",
      "\n",
      " 3072/12413 [======>.......................] - ETA: 1s - loss: 0.0837\n",
      " 6144/12413 [=============>................] - ETA: 1s - loss: 0.0837\n",
      " 9216/12413 [=====================>........] - ETA: 0s - loss: 0.0840\n",
      "12288/12413 [============================>.] - ETA: 0s - loss: 0.0841Epoch 00004: saving model to checkpoints/2017-11-18_1811-seq2seq-multi-attn-conv2d-softmax3D.hdf5\n",
      "\n",
      "12413/12413 [==============================] - ETA: 0s - loss: 0.0841 - val_loss: 0.1531\n",
      "Epoch 5/50\n",
      "\n",
      " 3072/12413 [======>.......................] - ETA: 1s - loss: 0.0839\n",
      " 6144/12413 [=============>................] - ETA: 1s - loss: 0.0840\n",
      " 9216/12413 [=====================>........] - ETA: 0s - loss: 0.0833\n",
      "12288/12413 [============================>.] - ETA: 0s - loss: 0.0828Epoch 00005: saving model to checkpoints/2017-11-18_1811-seq2seq-multi-attn-conv2d-softmax3D.hdf5\n",
      "\n",
      "12413/12413 [==============================] - ETA: 0s - loss: 0.0829 - val_loss: 0.1618\n",
      "Epoch 6/50\n",
      "\n",
      " 3072/12413 [======>.......................] - ETA: 1s - loss: 0.0794\n",
      " 6144/12413 [=============>................] - ETA: 1s - loss: 0.0794\n",
      " 9216/12413 [=====================>........] - ETA: 0s - loss: 0.0793\n",
      "12288/12413 [============================>.] - ETA: 0s - loss: 0.0793Epoch 00006: saving model to checkpoints/2017-11-18_1811-seq2seq-multi-attn-conv2d-softmax3D.hdf5\n",
      "\n",
      "12413/12413 [==============================] - ETA: 0s - loss: 0.0794 - val_loss: 0.1831\n",
      "Epoch 7/50\n",
      "\n",
      " 3072/12413 [======>.......................] - ETA: 1s - loss: 0.0865\n",
      " 6144/12413 [=============>................] - ETA: 1s - loss: 0.0828\n",
      " 9216/12413 [=====================>........] - ETA: 0s - loss: 0.0810\n",
      "12288/12413 [============================>.] - ETA: 0s - loss: 0.0802Epoch 00007: saving model to checkpoints/2017-11-18_1811-seq2seq-multi-attn-conv2d-softmax3D.hdf5\n",
      "\n",
      "12413/12413 [==============================] - ETA: 0s - loss: 0.0802 - val_loss: 0.1491\n",
      "Epoch 8/50\n",
      "\n",
      " 3072/12413 [======>.......................] - ETA: 1s - loss: 0.0761\n",
      " 6144/12413 [=============>................] - ETA: 1s - loss: 0.0761\n",
      " 9216/12413 [=====================>........] - ETA: 0s - loss: 0.0761\n",
      "12288/12413 [============================>.] - ETA: 0s - loss: 0.0766Epoch 00008: saving model to checkpoints/2017-11-18_1811-seq2seq-multi-attn-conv2d-softmax3D.hdf5\n",
      "\n",
      "12413/12413 [==============================] - ETA: 0s - loss: 0.0766 - val_loss: 0.1261\n",
      "Epoch 9/50\n",
      "\n",
      " 3072/12413 [======>.......................] - ETA: 1s - loss: 0.0817\n",
      " 6144/12413 [=============>................] - ETA: 1s - loss: 0.0830\n",
      " 9216/12413 [=====================>........] - ETA: 0s - loss: 0.0805\n",
      "12288/12413 [============================>.] - ETA: 0s - loss: 0.0791Epoch 00009: saving model to checkpoints/2017-11-18_1811-seq2seq-multi-attn-conv2d-softmax3D.hdf5\n",
      "\n",
      "12413/12413 [==============================] - ETA: 0s - loss: 0.0791 - val_loss: 0.1224\n",
      "Epoch 10/50\n",
      "\n",
      " 3072/12413 [======>.......................] - ETA: 1s - loss: 0.0775\n",
      " 6144/12413 [=============>................] - ETA: 1s - loss: 0.0772\n",
      " 9216/12413 [=====================>........] - ETA: 0s - loss: 0.0763\n",
      "12288/12413 [============================>.] - ETA: 0s - loss: 0.0758Epoch 00010: saving model to checkpoints/2017-11-18_1811-seq2seq-multi-attn-conv2d-softmax3D.hdf5\n",
      "\n",
      "12413/12413 [==============================] - ETA: 0s - loss: 0.0758 - val_loss: 0.1294\n",
      "Epoch 11/50\n",
      "\n",
      " 3072/12413 [======>.......................] - ETA: 1s - loss: 0.0735\n",
      " 6144/12413 [=============>................] - ETA: 1s - loss: 0.0736\n",
      " 9216/12413 [=====================>........] - ETA: 0s - loss: 0.0737\n",
      "12288/12413 [============================>.] - ETA: 0s - loss: 0.0733Epoch 00011: saving model to checkpoints/2017-11-18_1811-seq2seq-multi-attn-conv2d-softmax3D.hdf5\n",
      "\n",
      "12413/12413 [==============================] - ETA: 0s - loss: 0.0733 - val_loss: 0.1290\n",
      "Epoch 12/50\n",
      "\n",
      " 3072/12413 [======>.......................] - ETA: 1s - loss: 0.0755\n",
      " 6144/12413 [=============>................] - ETA: 1s - loss: 0.0772\n",
      " 9216/12413 [=====================>........] - ETA: 0s - loss: 0.0792\n",
      "12288/12413 [============================>.] - ETA: 0s - loss: 0.0776Epoch 00012: saving model to checkpoints/2017-11-18_1811-seq2seq-multi-attn-conv2d-softmax3D.hdf5\n",
      "\n",
      "12413/12413 [==============================] - ETA: 0s - loss: 0.0775 - val_loss: 0.1186\n",
      "Epoch 13/50\n",
      "\n",
      " 3072/12413 [======>.......................] - ETA: 1s - loss: 0.0735\n",
      " 6144/12413 [=============>................] - ETA: 1s - loss: 0.0729\n",
      " 9216/12413 [=====================>........] - ETA: 0s - loss: 0.0730\n",
      "12288/12413 [============================>.] - ETA: 0s - loss: 0.0734Epoch 00013: saving model to checkpoints/2017-11-18_1811-seq2seq-multi-attn-conv2d-softmax3D.hdf5\n",
      "\n",
      "12413/12413 [==============================] - ETA: 0s - loss: 0.0735 - val_loss: 0.1125\n",
      "Epoch 14/50\n",
      "\n",
      " 3072/12413 [======>.......................] - ETA: 1s - loss: 0.0718\n",
      " 6144/12413 [=============>................] - ETA: 1s - loss: 0.0722\n",
      " 9216/12413 [=====================>........] - ETA: 0s - loss: 0.0722\n",
      "12288/12413 [============================>.] - ETA: 0s - loss: 0.0730Epoch 00014: saving model to checkpoints/2017-11-18_1811-seq2seq-multi-attn-conv2d-softmax3D.hdf5\n",
      "\n",
      "12413/12413 [==============================] - ETA: 0s - loss: 0.0730 - val_loss: 0.1243\n",
      "Epoch 15/50\n",
      "\n",
      " 3072/12413 [======>.......................] - ETA: 1s - loss: 0.0748\n",
      " 6144/12413 [=============>................] - ETA: 1s - loss: 0.0743\n",
      " 9216/12413 [=====================>........] - ETA: 0s - loss: 0.0747\n",
      "12288/12413 [============================>.] - ETA: 0s - loss: 0.0742Epoch 00015: saving model to checkpoints/2017-11-18_1811-seq2seq-multi-attn-conv2d-softmax3D.hdf5\n",
      "\n",
      "12413/12413 [==============================] - ETA: 0s - loss: 0.0742 - val_loss: 0.1085\n",
      "Epoch 16/50\n",
      "\n",
      " 3072/12413 [======>.......................] - ETA: 1s - loss: 0.0710\n",
      " 6144/12413 [=============>................] - ETA: 1s - loss: 0.0716\n",
      " 9216/12413 [=====================>........] - ETA: 0s - loss: 0.0719\n",
      "12288/12413 [============================>.] - ETA: 0s - loss: 0.0728Epoch 00016: saving model to checkpoints/2017-11-18_1811-seq2seq-multi-attn-conv2d-softmax3D.hdf5\n",
      "\n",
      "12413/12413 [==============================] - ETA: 0s - loss: 0.0728 - val_loss: 0.1252\n",
      "Epoch 17/50\n",
      "\n",
      " 3072/12413 [======>.......................] - ETA: 1s - loss: 0.0776\n",
      " 6144/12413 [=============>................] - ETA: 1s - loss: 0.0750\n",
      " 9216/12413 [=====================>........] - ETA: 0s - loss: 0.0737\n",
      "12288/12413 [============================>.] - ETA: 0s - loss: 0.0726Epoch 00017: saving model to checkpoints/2017-11-18_1811-seq2seq-multi-attn-conv2d-softmax3D.hdf5\n",
      "\n",
      "12413/12413 [==============================] - ETA: 0s - loss: 0.0727 - val_loss: 0.1095\n"
     ]
    },
    {
     "name": "stdout",
     "output_type": "stream",
     "text": [
      "Epoch 18/50\n",
      "\n",
      " 3072/12413 [======>.......................] - ETA: 1s - loss: 0.0757\n",
      " 6144/12413 [=============>................] - ETA: 1s - loss: 0.0776\n",
      " 9216/12413 [=====================>........] - ETA: 0s - loss: 0.0755\n",
      "12288/12413 [============================>.] - ETA: 0s - loss: 0.0742Epoch 00018: saving model to checkpoints/2017-11-18_1811-seq2seq-multi-attn-conv2d-softmax3D.hdf5\n",
      "\n",
      "12413/12413 [==============================] - ETA: 0s - loss: 0.0741 - val_loss: 0.1142\n",
      "Epoch 19/50\n",
      "\n",
      " 3072/12413 [======>.......................] - ETA: 1s - loss: 0.0716\n",
      " 6144/12413 [=============>................] - ETA: 1s - loss: 0.0714\n",
      " 9216/12413 [=====================>........] - ETA: 0s - loss: 0.0714\n",
      "12288/12413 [============================>.] - ETA: 0s - loss: 0.0716Epoch 00019: saving model to checkpoints/2017-11-18_1811-seq2seq-multi-attn-conv2d-softmax3D.hdf5\n",
      "\n",
      "12413/12413 [==============================] - ETA: 0s - loss: 0.0716 - val_loss: 0.1060\n",
      "Epoch 20/50\n",
      "\n",
      " 3072/12413 [======>.......................] - ETA: 1s - loss: 0.0710\n",
      " 6144/12413 [=============>................] - ETA: 1s - loss: 0.0708\n",
      " 9216/12413 [=====================>........] - ETA: 0s - loss: 0.0711\n",
      "12288/12413 [============================>.] - ETA: 0s - loss: 0.0716Epoch 00020: saving model to checkpoints/2017-11-18_1811-seq2seq-multi-attn-conv2d-softmax3D.hdf5\n",
      "\n",
      "12413/12413 [==============================] - ETA: 0s - loss: 0.0717 - val_loss: 0.1150\n",
      "Epoch 21/50\n",
      "\n",
      " 3072/12413 [======>.......................] - ETA: 1s - loss: 0.0750\n",
      " 6144/12413 [=============>................] - ETA: 1s - loss: 0.0734\n",
      " 9216/12413 [=====================>........] - ETA: 0s - loss: 0.0724\n",
      "12288/12413 [============================>.] - ETA: 0s - loss: 0.0718Epoch 00021: saving model to checkpoints/2017-11-18_1811-seq2seq-multi-attn-conv2d-softmax3D.hdf5\n",
      "\n",
      "12413/12413 [==============================] - ETA: 0s - loss: 0.0718 - val_loss: 0.1090\n",
      "Epoch 22/50\n",
      "\n",
      " 3072/12413 [======>.......................] - ETA: 1s - loss: 0.0701\n",
      " 6144/12413 [=============>................] - ETA: 1s - loss: 0.0697\n",
      " 9216/12413 [=====================>........] - ETA: 0s - loss: 0.0702\n",
      "12288/12413 [============================>.] - ETA: 0s - loss: 0.0707Epoch 00022: saving model to checkpoints/2017-11-18_1811-seq2seq-multi-attn-conv2d-softmax3D.hdf5\n",
      "\n",
      "12413/12413 [==============================] - ETA: 0s - loss: 0.0708 - val_loss: 0.1039\n",
      "Epoch 23/50\n",
      "\n",
      " 3072/12413 [======>.......................] - ETA: 1s - loss: 0.0734\n",
      " 6144/12413 [=============>................] - ETA: 1s - loss: 0.0743\n",
      " 9216/12413 [=====================>........] - ETA: 0s - loss: 0.0725\n",
      "12288/12413 [============================>.] - ETA: 0s - loss: 0.0719Epoch 00023: saving model to checkpoints/2017-11-18_1811-seq2seq-multi-attn-conv2d-softmax3D.hdf5\n",
      "\n",
      "12413/12413 [==============================] - ETA: 0s - loss: 0.0718 - val_loss: 0.1096\n",
      "Epoch 24/50\n",
      "\n",
      " 3072/12413 [======>.......................] - ETA: 1s - loss: 0.0728\n",
      " 6144/12413 [=============>................] - ETA: 1s - loss: 0.0711\n",
      " 9216/12413 [=====================>........] - ETA: 0s - loss: 0.0711"
     ]
    }
   ],
   "source": [
    "model.fit(X_train, y_train,\n",
    "          batch_size=bs,\n",
    "          epochs=epochs,\n",
    "          validation_split=0.05,\n",
    "          callbacks=[history,checkpointer,csv_logger,early_stop])"
   ]
  },
  {
   "cell_type": "markdown",
   "metadata": {
    "ExecuteTime": {
     "end_time": "2017-11-18T10:32:08.713366Z",
     "start_time": "2017-11-18T10:32:08.708839Z"
    }
   },
   "source": [
    "# Validation"
   ]
  },
  {
   "cell_type": "markdown",
   "metadata": {
    "ExecuteTime": {
     "end_time": "2017-11-18T10:32:08.707276Z",
     "start_time": "2017-11-18T10:32:08.705151Z"
    }
   },
   "source": [
    "## Validation by feeding truth values"
   ]
  },
  {
   "cell_type": "code",
   "execution_count": null,
   "metadata": {
    "ExecuteTime": {
     "start_time": "2017-11-18T18:11:33.322Z"
    },
    "collapsed": true
   },
   "outputs": [],
   "source": [
    "def plot_preds(y_truth, y_pred):\n",
    "    for junction in range(4):\n",
    "        plt.figure\n",
    "        plt.plot(y_truth[:,junction], color = 'green', label = 'Real traffic')\n",
    "        plt.plot(y_pred[:,junction], color = 'red', label = 'Predicted traffic')\n",
    "        plt.title('Traffic Forecasting at junction %i' % (junction+1))\n",
    "        plt.xlabel('Number of hours from Start')\n",
    "        plt.ylabel('Traffic')\n",
    "        plt.legend()\n",
    "        plt.show()"
   ]
  },
  {
   "cell_type": "code",
   "execution_count": null,
   "metadata": {
    "ExecuteTime": {
     "start_time": "2017-11-18T18:11:33.324Z"
    },
    "collapsed": true
   },
   "outputs": [],
   "source": [
    "y_pred = model.predict(X_test)"
   ]
  },
  {
   "cell_type": "code",
   "execution_count": null,
   "metadata": {
    "ExecuteTime": {
     "start_time": "2017-11-18T18:11:33.326Z"
    }
   },
   "outputs": [],
   "source": [
    "y_pred.shape"
   ]
  },
  {
   "cell_type": "code",
   "execution_count": null,
   "metadata": {
    "ExecuteTime": {
     "start_time": "2017-11-18T18:11:33.328Z"
    }
   },
   "outputs": [],
   "source": [
    "plot_preds(y_test, y_pred)"
   ]
  },
  {
   "cell_type": "code",
   "execution_count": null,
   "metadata": {
    "ExecuteTime": {
     "start_time": "2017-11-18T18:11:33.333Z"
    },
    "collapsed": true
   },
   "outputs": [],
   "source": [
    "from sklearn.metrics import mean_squared_error\n",
    "from math import sqrt\n",
    "\n",
    "def rmse(y_true, y_pred):\n",
    "    return sqrt(mean_squared_error(y_true, y_pred))"
   ]
  },
  {
   "cell_type": "code",
   "execution_count": null,
   "metadata": {
    "ExecuteTime": {
     "start_time": "2017-11-18T18:11:33.335Z"
    }
   },
   "outputs": [],
   "source": [
    "rmse(y_test, y_pred)"
   ]
  },
  {
   "cell_type": "markdown",
   "metadata": {},
   "source": [
    "## Validation by feeding predicted values"
   ]
  },
  {
   "cell_type": "code",
   "execution_count": null,
   "metadata": {
    "ExecuteTime": {
     "start_time": "2017-11-18T18:11:33.337Z"
    },
    "collapsed": true
   },
   "outputs": [],
   "source": [
    "def pred_seq(model, to_pred, w_size, num_preds=None):\n",
    "    if num_preds == None:\n",
    "        num_preds = to_pred.shape[0]\n",
    "    current = to_pred[0]\n",
    "    predicted = []\n",
    "    for i in range(num_preds):\n",
    "        predicted.append(model.predict(current[np.newaxis,:,:])[0,:])\n",
    "        current = current[1:]\n",
    "        current = np.insert(current, [w_size-1], predicted[-1], axis=0)\n",
    "    return np.asarray(predicted)"
   ]
  },
  {
   "cell_type": "code",
   "execution_count": null,
   "metadata": {
    "ExecuteTime": {
     "start_time": "2017-11-18T18:11:33.339Z"
    }
   },
   "outputs": [],
   "source": [
    "seqpreds = pred_seq(model, X_test, seq_len)"
   ]
  },
  {
   "cell_type": "code",
   "execution_count": null,
   "metadata": {
    "ExecuteTime": {
     "start_time": "2017-11-18T18:11:33.345Z"
    }
   },
   "outputs": [],
   "source": [
    "seqpreds.shape"
   ]
  },
  {
   "cell_type": "code",
   "execution_count": null,
   "metadata": {
    "ExecuteTime": {
     "start_time": "2017-11-18T18:11:33.349Z"
    }
   },
   "outputs": [],
   "source": [
    "plot_preds(y_test, seqpreds)"
   ]
  },
  {
   "cell_type": "code",
   "execution_count": null,
   "metadata": {
    "ExecuteTime": {
     "start_time": "2017-11-18T18:11:33.351Z"
    }
   },
   "outputs": [],
   "source": [
    "rmse(y_test, seqpreds)"
   ]
  },
  {
   "cell_type": "code",
   "execution_count": null,
   "metadata": {
    "collapsed": true
   },
   "outputs": [],
   "source": []
  }
 ],
 "metadata": {
  "kernelspec": {
   "display_name": "Python 3",
   "language": "python",
   "name": "python3"
  },
  "language_info": {
   "codemirror_mode": {
    "name": "ipython",
    "version": 3
   },
   "file_extension": ".py",
   "mimetype": "text/x-python",
   "name": "python",
   "nbconvert_exporter": "python",
   "pygments_lexer": "ipython3",
   "version": "3.6.2"
  }
 },
 "nbformat": 4,
 "nbformat_minor": 2
}
